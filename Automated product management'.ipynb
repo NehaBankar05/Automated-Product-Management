{
 "cells": [
  {
   "cell_type": "markdown",
   "metadata": {
    "id": "KEk36hiNTbfE"
   },
   "source": [
    "# Introduction\n",
    "\n",
    "Accurate and efficient management of product information is essential for the success of e-commerce businesses. This information enables informed decision-making and facilitates effective marketing strategies. However, traditional methods of handling product data may be cumbersome and prone to errors. They often involve manual entry and maintenance processes, leading to inconsistencies and inefficiencies. By harnessing the capabilities of Python programming, we can develop a solution that automates tasks such as adding, reading, updating, and deleting product information. This streamlined approach not only enhances data accuracy and reliability but also improves operational efficiency.\n",
    "\n",
    "The kind of operations that we are going to focus on have an acronym: CRUD (Create, Read, Update, Delete)."
   ]
  },
  {
   "cell_type": "markdown",
   "metadata": {
    "id": "yAXrIqlKjthg"
   },
   "source": [
    "**CRUD** operations represent the four basic functions that are essential to interact with a database or a data storage system. The acronym CRUD stands for Create, Read, Update, and Delete. These operations form the foundation of most applications that store and manipulate data. Understanding CRUD is crucial for developers working on web, software, and database applications. Here's a brief overview of each operation:\n",
    "\n",
    "- **Create**: This operation is used to add new records to a database. It involves inserting data into a database table or a data structure. For example, adding a new user to a user database is a Create operation.\n",
    "\n",
    "- **Read**: This operation is used to retrieve or read data from a database. It involves querying the database to fetch information based on certain criteria. For example, fetching all the information about a product is a Read operation.\n",
    "\n",
    "- **Update**: This operation is used to modify existing data in a database. It involves updating one or more fields of a database record. For example, changing a user's email address in a user database is an Update operation.\n",
    "\n",
    "- **Delete**: This operation is used to remove records from a database. It involves deleting one or more records from a database table. For example, removing a user from a user database is a Delete operation.\n",
    "\n",
    "These operations are vital for managing data effectively in any application. They allow applications to perform basic data management tasks, ensuring that the data is accurate, consistent, and accessible.\n",
    "\n"
   ]
  },
  {
   "cell_type": "markdown",
   "metadata": {
    "id": "_bIkNbC2z8oL"
   },
   "source": [
    "# Problem Statement\n",
    "Your task is to develop a product information management system for an e-commerce platform that facilitates the creation, retrieval, updation, and deletion of product details, sales data, and description.\n",
    "\n",
    "To solve this, you will first load the whole dataset into the computer's memory and provide the users an option to choose between the CRUD operations. When the user has made a choice, you will perform the chosen operation by allowing the user to input the required information. When the user is done with their task and chooses to exit the program, you will save the new files in the same folder by overwriting the files.\n",
    "\n",
    "# Data Description\n",
    "The dataset for this project has been provided in the *filehandler_data.zip* file. It contains data about products for which the unique ID provided is the stock keeping unit or SKU for short. The ZIP file contains a structured collection of sales data and product information organized into a main folder with three key components:\n",
    "\n",
    "- **Sales Data** (*sales_data.csv*): A CSV file that includes sales data for various products over a 14-day period. Each row corresponds to a different product, identified by a *Product_SKU*. The columns *Day1* through *Day14* represent the sales figures for each consecutive day.\n",
    "\n",
    "- **Product Descriptions** (*product_descriptions* folder): This folder contains text files, each corresponding to a specific product identified by the SKU in the filename (e.g., *description_AISJDKFJW93NJ.txt*). These files provide descriptive information about the products.\n",
    "\n",
    "- **Product Details** (*product_details* folder): This folder includes JSON files, again with filenames corresponding to product SKUs (e.g., *details_AISJDKFJW93NJ.json*). These files contain detailed attributes of the products, such as specifications, category, pricing, etc.\n",
    "\n",
    "This dataset is suitable for analyzing daily sales performance of products, supplemented with detailed product information and descriptions to allow for a comprehensive analysis of sales trends in relation to product attributes and descriptions."
   ]
  },
  {
   "cell_type": "markdown",
   "metadata": {
    "id": "TCi_8EQ_SKh2"
   },
   "source": [
    "# Outline\n",
    "The overall objective of this project is to create a system for managing product information in an e-commerce platform. The different stages involved in the process are outlined below:\n",
    "\n",
    "- Stage 1 - Setup\n",
    "    - Task 1 - Import required modules\n",
    "    - Task 2 - Load the data\n",
    "    - Task 3 - Explore the data\n",
    "- Stage 2 - Create\n",
    "    - Task 4 - Add sales data\n",
    "    - Task 5 - Add product details\n",
    "    - Task 6 - Add product description\n",
    "    - Task 7 - Create function\n",
    "- Stage 3 - Read\n",
    "    - Task 8  - Display sales data\n",
    "    - Task 9  - Display product details\n",
    "    - Task 10 - Display product description\n",
    "    - Task 11 - Read function\n",
    "- Stage 4 - Update\n",
    "    - Task 12 - Update sales data\n",
    "    - Task 13 - Update product details\n",
    "    - Task 14 - Update product description\n",
    "    - Task 15 - Update function\n",
    "- Stage 5 - Delete\n",
    "    - Task 16 - Delete function\n",
    "- Stage 6 - Bringing it all together\n",
    "    - Task 17 - Save data to disk\n",
    "    - Task 18 - Create a user menu"
   ]
  },
  {
   "cell_type": "markdown",
   "metadata": {
    "id": "nSDjItPDapX4"
   },
   "source": [
    "# Stage 1 - Setup\n",
    "In this stage, you will set up the environment for this assignment by loading the required modules and files. You will explore the files by displaying their content. You will achieve all of this by completing the following three tasks:\n",
    "- Task 1 - Import required modules\n",
    "- Task 2 - Load the data\n",
    "- Task 3 - Explore the data"
   ]
  },
  {
   "cell_type": "markdown",
   "metadata": {
    "id": "7fwAly7Kc9ei"
   },
   "source": [
    "## Task 1 - Import required modules"
   ]
  },
  {
   "cell_type": "markdown",
   "metadata": {
    "id": "mWz3KDiuotgp"
   },
   "source": [
    "### Description\n",
    "In this task, you will import all the necessary modules and packages required for performing various operations in the project."
   ]
  },
  {
   "cell_type": "markdown",
   "metadata": {
    "id": "1IfJUOrG0JBZ"
   },
   "source": [
    "### Requirements\n",
    "Write code to import packages:\n",
    "\n",
    "- For handling raw data files\n",
    "- For working with JSON files\n",
    "- For working with CSV files\n",
    "- For printing Python data structures in an organized manner"
   ]
  },
  {
   "cell_type": "markdown",
   "metadata": {
    "id": "tDTVcD_V0WVh"
   },
   "source": [
    "### Recommendations\n",
    "-  You can ask ChatGPT about the libraries that will be required to perform the given tasks.\n",
    "\n",
    "\n"
   ]
  },
  {
   "cell_type": "markdown",
   "metadata": {
    "id": "3hjXLR-lwERP"
   },
   "source": [
    "First, import the required packages."
   ]
  },
  {
   "cell_type": "code",
   "execution_count": 54,
   "metadata": {
    "id": "uKKJxfEj6o1C"
   },
   "outputs": [],
   "source": [
    "# Use this cell to import all the required packages and methods\n",
    "# Import package for handling raw data files\n",
    "import os\n",
    "# Import package for working with JSON files\n",
    "import json\n",
    "# Import package for working with CSV files\n",
    "import csv\n",
    "# Import package to print complex data structures like dictionaries or lists in a structured and organized way\n",
    "from pprint import pprint"
   ]
  },
  {
   "cell_type": "markdown",
   "metadata": {
    "id": "CK1NbJlcow44"
   },
   "source": [
    "### Checklist\n",
    "- Imported the required packages."
   ]
  },
  {
   "cell_type": "markdown",
   "metadata": {
    "id": "BOLRp-Ydph2X"
   },
   "source": [
    "## Task 2 - Load the data"
   ]
  },
  {
   "cell_type": "markdown",
   "metadata": {
    "id": "n3LqSPrspl8b"
   },
   "source": [
    "### Description\n",
    "In this task, you will write a function that ensures that the necessary files are loaded into the environment. To index the data, you will use a unique identifier called SKU.\n",
    "\n",
    "This includes loading sales data from a CSV file, product details from JSON files, and product descriptions from text files. We recommend that you either use Jupyter Notebook or Google Colab to build and execute your code."
   ]
  },
  {
   "cell_type": "markdown",
   "metadata": {
    "id": "x1pJXGbJqeIy"
   },
   "source": [
    "### Requirements\n",
    "- In case you are using Google Colab:\n",
    "    - import `drive` from `google.colab` and mount your Google Drive, or\n",
    "    - import `files` from `google.colab`.\n",
    "- In case you are using Jupyter Notebook, please make sure that your files and folders are all in the right place.\n",
    "- Unzip the data and save the location of the main folder in a variable called `main_folder_address`.\n",
    "- Define a function `load_data()`:\n",
    "    - The function must read\n",
    "      - Sales data from *sales_data.csv* file,\n",
    "      - Product details from JSON files in the *product_details* folder, and\n",
    "      - Product descriptions from the TXT files in *product_descriptions* folder.\n",
    "      \n",
    "    - Once the data has been loaded, it must be stored in three dictionaries, one for sales data, another for product details, and another for product descriptions.\n",
    "    - The three dictionaries should have the product SKU as keys and:\n",
    "        - In the `product_details` dictionary, the values should also be dictionaries containing detailed attributes of the products, such as specifications, category, pricing, etc.\n",
    "        - In the `sales_data` dictionary, the values should be lists consisting of the sales data from the last 14 days.\n",
    "        - In the `product_descriptions` dictionary, the values should be strings in which the product description is saved.\n",
    "    - It should have the following keyword argument:\n",
    "        - *mainfolder*: A string that describes the address of the parent data folder in the memory.\n",
    "    - The functions should return a tuple containing three dictionaries:\n",
    "        - `product_details`: A dictionary of dictionaries where keys are product SKUs (extracted from the filenames of the JSON files) and values are product details loaded from the JSON files.\n",
    "        - `sales_data`: A dictionary where keys are product SKUs (from the CSV file) and values are lists of quantities corresponding to sales data.\n",
    "        - `product_descriptions`: A dictionary where keys are product SKUs (extracted from the filenames of the TXT files) and values are product descriptions loaded from TXT files."
   ]
  },
  {
   "cell_type": "markdown",
   "metadata": {
    "id": "5lfU3Pq-67sn"
   },
   "source": [
    "### Recommendations\n",
    "- If you are using Google Colab:\n",
    "  - Upload the zip file containing the files in Google Drive or upload the zip file directly to the Google Colab runtime.\n",
    "    - Then unzip it using `unzip` shell command which you can access using the `!` (exclamation mark) character.\n",
    "  - Once you have mounted Google Drive into your Google Colab VM or uploaded the zip file directly to the Google Colab runtime.\n",
    "    - You can use the *Files* section on the left to access the filesystem. You can right click on a file or folder to copy its path. This will be useful while specifying the source file in the `unzip` shell command.\n",
    "  - You will need to pass the location of the main folder into the `load_data()` function to load *sales_data.csv* file and the files in *product_details* and *product_description* folders.\n",
    "- Inside the `load_data()` function, you can:\n",
    "    - use the `csv.DictReader()` method to read the *sales_data.csv* file,\n",
    "    - use the `os.listdir()` method to obtain the names of the files and folders within a particular folder,\n",
    "    - use `os.path.join()` to construct file paths,\n",
    "    - use the `json.load()` method to load JSON files, and\n",
    "    - use the `open()` function to load the text files.\n",
    "-  As you need to use the SKUs as keys in all three dictionaries, you can ask ChatGPT on how to extract the SKU values in all three cases.\n",
    "    - In *sales_data.csv* they have been saved in a column titled *Product_SKU*\n",
    "    - For the other two, you need to extract the SKU from the file name. Try using the in-built string function `split()`.\n",
    "    - Provide the data description and requirements to ChatGPT along with the libraries that you are using and ask it to generate code for the function.\n",
    "    - If you get stuck somewhere, you can ask ChatGPT to explain the code to you and you can make edits as required."
   ]
  },
  {
   "cell_type": "markdown",
   "metadata": {
    "id": "VQRLEoiZ-QxY"
   },
   "source": [
    "First, if you are using Google Colab, mount Google Drive to your VM. If not, skip and comment out this cell."
   ]
  },
  {
   "cell_type": "code",
   "execution_count": null,
   "metadata": {
    "id": "SKYzyofLO8KU"
   },
   "outputs": [],
   "source": [
    "# Use this cell to write your code for mounting your Google Drive\n",
    "# Note: If you are not using Google Colab, please skip this cell\n",
    "\n",
    "# In case you are using Google Colab, mount your Google Drive before moving on\n",
    "# from google.colab import drive\n",
    "# drive.mount('/content/drive', force_remount = True)"
   ]
  },
  {
   "cell_type": "markdown",
   "metadata": {
    "id": "EChyWcmq-5Vi"
   },
   "source": [
    "If you are using Colab, after mounting the drive you need to unzip the files to extract all the images inside it. Note that you don't need to perform this step more than once, so we recommend that you comment out your code for this step once it has executed."
   ]
  },
  {
   "cell_type": "code",
   "execution_count": null,
   "metadata": {
    "id": "-6mxIHoPO7Um"
   },
   "outputs": [],
   "source": [
    "# Use this cell to write your code for unzipping the data and storing it in Google Drive\n",
    "# Note: If you are not using Google Colab, please skip this cell\n",
    "# Note: You can comment out this cell after running it once\n",
    "\n",
    "# Unzip your files and store them in your drive\n",
    "# !unzip /content/drive/MyDrive/File_Handler_Project/mainfolder.zip"
   ]
  },
  {
   "cell_type": "markdown",
   "metadata": {
    "id": "LeX06K8AFxnC"
   },
   "source": [
    "You can also upload files to the Google Colab runtime environment without mounting Google Drive. In this case so you will always be in the same path/directory inside your Google Colab runtime. Files will be saved into your runtime and not into your Google Drive.\n",
    "The files you uploaded will be available until you delete the runtime."
   ]
  },
  {
   "cell_type": "code",
   "execution_count": null,
   "metadata": {
    "id": "eupwHKLZEE3b"
   },
   "outputs": [],
   "source": [
    "# Use this cell to write your code for uploading the zip file\n",
    "# Note: If you are not using Google Colab, please skip this cell\n",
    "\n",
    "# Upload the zip file to Google Colab runtime\n",
    "# from google.colab import files\n",
    "# uploaded = files.upload()"
   ]
  },
  {
   "cell_type": "markdown",
   "metadata": {
    "id": "ze-qtCwAGlhp"
   },
   "source": [
    "After uploading your zip file to Google Colab runtime you need to unzip the files to extract all the files inside it."
   ]
  },
  {
   "cell_type": "code",
   "execution_count": null,
   "metadata": {
    "colab": {
     "base_uri": "https://localhost:8080/"
    },
    "executionInfo": {
     "elapsed": 446,
     "status": "ok",
     "timestamp": 1711705555617,
     "user": {
      "displayName": "Sudarshanan Raghavan",
      "userId": "18093698647292025641"
     },
     "user_tz": -330
    },
    "id": "JpKP8qUVuC2n",
    "outputId": "5c1352d9-2e49-41a7-beae-526ea72fe07d"
   },
   "outputs": [
    {
     "name": "stdout",
     "output_type": "stream",
     "text": [
      "Archive:  /content/mainfolder.zip\n",
      "   creating: mainfolder/product_descriptions/\n",
      "  inflating: mainfolder/product_descriptions/AISJDKFJW93NJ.txt  \n",
      "  inflating: mainfolder/product_descriptions/DJKFIEI432FIE.txt  \n",
      "  inflating: mainfolder/product_descriptions/GGOENEBJ079499.txt  \n",
      "  inflating: mainfolder/product_descriptions/HJSKNWK429DJE.txt  \n",
      "  inflating: mainfolder/product_descriptions/JFKL3940NFKLJ.txt  \n",
      "  inflating: mainfolder/product_descriptions/LKDFJ49LSDJKL.txt  \n",
      "  inflating: mainfolder/product_descriptions/MWKDI3JFK39SL.txt  \n",
      "  inflating: mainfolder/product_descriptions/NEKFJOWE9FDIW.txt  \n",
      "  inflating: mainfolder/product_descriptions/OWEJL398FWJLK.txt  \n",
      "  inflating: mainfolder/product_descriptions/XPLFJW2490XJN.txt  \n",
      "   creating: mainfolder/product_details/\n",
      "  inflating: mainfolder/product_details/AISJDKFJW93NJ.json  \n",
      "  inflating: mainfolder/product_details/DJKFIEI432FIE.json  \n",
      "  inflating: mainfolder/product_details/GGOENEBJ079499.json  \n",
      "  inflating: mainfolder/product_details/HJSKNWK429DJE.json  \n",
      "  inflating: mainfolder/product_details/JFKL3940NFKLJ.json  \n",
      "  inflating: mainfolder/product_details/LKDFJ49LSDJKL.json  \n",
      "  inflating: mainfolder/product_details/MWKDI3JFK39SL.json  \n",
      "  inflating: mainfolder/product_details/NEKFJOWE9FDIW.json  \n",
      "  inflating: mainfolder/product_details/OWEJL398FWJLK.json  \n",
      "  inflating: mainfolder/product_details/XPLFJW2490XJN.json  \n",
      "  inflating: mainfolder/sales_data.csv  \n"
     ]
    }
   ],
   "source": [
    "# Use this cell to write your code for unzipping the data and storing it in Google Colab runtime\n",
    "# Note: If you are not using Google Colab, please skip this cell\n",
    "# Note: You can comment out this cell after running it once\n",
    "\n",
    "# Unzip your files and store them in Google Colab runtime\n",
    "!unzip /content/mainfolder.zip"
   ]
  },
  {
   "cell_type": "markdown",
   "metadata": {
    "id": "DiYKN_QJlRBE"
   },
   "source": [
    "Now define the *load_data()* function."
   ]
  },
  {
   "cell_type": "code",
   "execution_count": 55,
   "metadata": {
    "id": "lh8skyqy7Qb6"
   },
   "outputs": [
    {
     "name": "stdout",
     "output_type": "stream",
     "text": [
      "Product Details:\n",
      "{'AISJDKFJW93NJ': {'product_name': 'Wall Art Print', 'brand': 'ArtCraft', 'model': 'NatureCanvas-1001', 'specifications': 'Canvas print, Ready to hang', 'price': '$49.99', 'availability': 'In stock'}, 'DJKFIEI432FIE': {'product_name': \"Men's Running Shoes\", 'brand': 'RunFit', 'model': 'SpeedX-500', 'specifications': 'Size 10, Lightweight design, Breathable material', 'price': '$79.99', 'availability': 'In stock'}, 'GGOENEBJ079499': {'product_name': 'Smartphone', 'brand': 'XYZ Electronics', 'model': 'ABC-2000', 'specifications': '6.5-inch display, 128GB storage, 16MP camera', 'price': '$499.99', 'availability': 'In stock'}, 'HJSKNWK429DJE': {'product_name': 'Wireless Earbuds', 'brand': 'SoundSync', 'model': 'TunePro-2022', 'specifications': 'Bluetooth 5.0, 20 hours battery life, Touch controls', 'price': '$89.99', 'availability': 'In stock'}, 'JFKL3940NFKLJ': {'product_name': 'Resistance Bands Set', 'brand': 'FitFlex', 'model': 'StrengthPro-300', 'specifications': '5 bands, Varying resistance levels, Portable', 'price': '$34.99', 'availability': 'In stock'}, 'LKDFJ49LSDJKL': {'product_name': 'Anti-Aging Face Cream', 'brand': 'GlowBeauty', 'model': 'AgeDefy-300', 'specifications': 'Natural ingredients, Hydrating formula', 'price': '$39.99', 'availability': 'In stock'}, 'MWKDI3JFK39SL': {'product_name': 'Fictional Novel', 'brand': 'BestBooks', 'model': None, 'specifications': 'Paperback, 300 pages', 'price': '$14.99', 'availability': 'In stock'}, 'NEKFJOWE9FDIW': {'product_name': 'Board Game', 'brand': 'FamilyFun', 'model': 'GameNight-2022', 'specifications': '2-6 players, Ages 8 and up', 'price': '$29.99', 'availability': 'In stock'}, 'OWEJL398FWJLK': {'product_name': 'Yoga Mat', 'brand': 'ZenFitness', 'model': 'EcoMat-500', 'specifications': 'Non-slip, 6mm thickness, Eco-friendly material', 'price': '$19.99', 'availability': 'In stock'}, 'XPLFJW2490XJN': {'product_name': 'Robot Vacuum Cleaner', 'brand': 'CleanTech', 'model': 'AutoSweep-9000', 'specifications': 'Smart navigation, HEPA filter, 90 minutes runtime', 'price': '$249.99', 'availability': 'In stock'}}\n",
      "\n",
      "Sales Data:\n",
      "{'AISJDKFJW93NJ': [10, 12, 15, 18, 20, 22, 25, 28, 26, 30, 32, 29, 27, 24], 'DJKFIEI432FIE': [8, 10, 12, 15, 20, 18, 14, 13, 17, 10, 8, 11, 14, 16], 'GGOENEBJ079499': [15, 18, 22, 25, 28, 20, 17, 23, 19, 21, 24, 27, 18, 20], 'HJSKNWK429DJE': [30, 32, 35, 38, 40, 42, 45, 48, 50, 52, 55, 53, 49, 47], 'JFKL3940NFKLJ': [18, 20, 22, 25, 28, 30, 32, 35, 38, 36, 33, 29, 26, 24], 'LKDFJ49LSDJKL': [25, 28, 30, 32, 35, 38, 42, 40, 37, 34, 36, 31, 29, 27], 'MWKDI3JFK39SL': [30, 35, 40, 45, 50, 42, 37, 38, 41, 36, 33, 39, 40, 44], 'NEKFJOWE9FDIW': [12, 15, 18, 20, 22, 24, 21, 23, 25, 28, 30, 27, 26, 29], 'OWEJL398FWJLK': [20, 22, 25, 28, 30, 32, 35, 38, 36, 33, 29, 26, 24, 27], 'XPLFJW2490XJN': [5, 8, 9, 12, 15, 10, 14, 16, 20, 18, 22, 25, 19, 21]}\n",
      "\n",
      "Product Descriptions:\n",
      "{'AISJDKFJW93NJ': \"Transform your living space with ArtCraft's NatureCanvas-1001 Wall Art Print.\\nThis canvas print, ready to hang, brings the beauty of nature into your home.\\nWith dimensions of 16 x 20 inches and a 4.6/5 stars rating, it's a stunning addition to your decor, creating a focal point that captures attention and sparks conversation.\", 'DJKFIEI432FIE': \"Elevate your running experience with the RunFit SpeedX-500 Men's Running Shoes.\\nDesigned for performance, these shoes feature a lightweight design, breathable material, and are available in vibrant Red, Blue, and classic Black.\\nWhether you're a seasoned runner or just starting, these shoes provide comfort and support for every stride, ensuring you reach new milestones effortlessly.\", 'GGOENEBJ079499': 'Dive into the future with the XYZ Electronics Smartphone, model ABC-2000.\\nBoasting a 6.5-inch display, 128GB storage, and a 16MP camera, this powerful device redefines the smartphone experience.\\nWith a sleek design and available in Black, Silver, and Blue, it combines cutting-edge technology with style, ensuring you stay connected in the most sophisticated way possible.', 'HJSKNWK429DJE': \"Immerse yourself in superior audio quality with SoundSync's TunePro-2022 Wireless Earbuds.\\nFeaturing Bluetooth 5.0, 20 hours of battery life, and touch controls, these earbuds deliver a seamless and immersive listening experience.\\nAvailable in Black and White, they combine style with functionality for music lovers on the go. \\nWith a 4.7/5 stars rating, they stand out as a top choice in the realm of wireless audio.\", 'JFKL3940NFKLJ': \"Embrace versatility in your workouts with FitFlex's StrengthPro-300 Resistance Bands Set.\\nWith 5 bands offering varying resistance levels and portability, this set is your go-to for effective strength training.\\nAvailable in Red, Yellow, and Blue, it caters to different fitness levels and adds a dynamic dimension to your exercise routine.\", 'LKDFJ49LSDJKL': \"Rediscover youthful radiance with GlowBeauty's AgeDefy-300 Anti-Aging Face Cream.\\nFormulated with natural ingredients and a hydrating formula, this skincare essential rejuvenates and nourishes your skin, leaving you with a vibrant and refreshed complexion.\\nWith a stellar 4.7/5 stars rating, it's a must-have for those embracing the journey to ageless beauty.\", 'MWKDI3JFK39SL': \"Immerse yourself in the world of storytelling with BestBooks' Fictional Novel.\\nThis paperback, spanning 300 pages, promises a captivating journey through the pages of an engaging narrative.\\nIdeal for avid readers seeking an escape, this novel, with a 4.6/5 stars rating, is a testament to its ability to weave a compelling tale that keeps you hooked until the last page.\", 'NEKFJOWE9FDIW': \"Unleash the fun with FamilyFun's GameNight-2022 Board Game.\\nDesigned for 2-6 players and suitable for ages 8 and up, this exciting game promises laughter and bonding moments for the entire family.\\nWith a 4.4/5 stars rating, it's a testament to its ability to turn any ordinary night into an extraordinary game night filled with friendly competition and shared joy.\", 'OWEJL398FWJLK': \"Elevate your yoga practice with ZenFitness' EcoMat-500 Yoga Mat.\\nFeaturing a non-slip surface, 6mm thickness, and eco-friendly materials, this high-quality mat provides the perfect foundation for your workouts.\\nAvailable in Purple, Green, and Blue, it not only enhances your comfort but also adds a touch of serenity to your exercise routine.\", 'XPLFJW2490XJN': 'Introducing the CleanTech AutoSweep-9000 Robot Vacuum Cleaner â€“ your smart companion for automated cleaning.\\nWith smart navigation, a HEPA filter, and a runtime of 90 minutes, this efficient device takes care of your cleaning needs.\\nAvailable in White and Silver, it blends seamlessly into your home, making cleanliness a hassle-free experience.'}\n"
     ]
    }
   ],
   "source": [
    "def load_data(main_folder):\n",
    "\n",
    "    \"\"\"\n",
    "    Load product details, sales data, and product descriptions from files within the specified zip file.\n",
    "\n",
    "    Args:\n",
    "        main_folder (str): The path to the zip file containing the dataset.\n",
    "\n",
    "    Returns:\n",
    "        tuple: A tuple containing three dictionaries:\n",
    "            - product_details (dict): A dictionary of dictionaries where keys are product SKUs (extracted from the filenames of the JSON files)\n",
    "              and values are product details loaded from the JSON files.\n",
    "            - sales_data (dict): A dictionary where keys are product SKUs (from the CSV file) and values are lists\n",
    "              of quantities corresponding to sales data.\n",
    "            - product_descriptions (dict): A dictionary where keys are product SKUs (extracted from the filenames of the TXT files)\n",
    "              and values are product descriptions loaded from TXT files.\n",
    "    \"\"\"\n",
    "    sales_data = {}\n",
    "    product_details = {}\n",
    "    product_descriptions = {}\n",
    "    \n",
    "    # Read sales data from CSV\n",
    "    sales_data_file = os.path.join(main_folder, 'sales_data.csv')\n",
    "    with open(sales_data_file, mode='r') as csvfile:\n",
    "        csvreader = csv.DictReader(csvfile)\n",
    "        for row in csvreader:\n",
    "            sku = row['Product_SKU']\n",
    "            sales_data[sku] = [int(row[col]) for col in csvreader.fieldnames if col != 'Product_SKU']\n",
    "\n",
    "    # Read product details from JSON files\n",
    "    product_details_file = os.path.join(main_folder, 'product_details')\n",
    "    for filename in os.listdir(product_details_file):\n",
    "        if filename.endswith('.json'):\n",
    "            sku = os.path.splitext(filename)[0].split('_')[1]  # Extract SKU without extension and \"details_\"\n",
    "            with open(os.path.join(product_details_file, filename), 'r') as jsonfile:\n",
    "                product_details[sku] = json.load(jsonfile)\n",
    "\n",
    "    # Read product descriptions from TXT files\n",
    "    product_descriptions_file = os.path.join(main_folder, 'product_description')\n",
    "    for filename in os.listdir(product_descriptions_file):\n",
    "        if filename.endswith('.txt'):\n",
    "            sku = os.path.splitext(filename)[0].split('_')[1]  # Extract SKU without extension and \"description_\"\n",
    "            with open(os.path.join(product_descriptions_file, filename), 'r') as txtfile:\n",
    "                product_descriptions[sku] = txtfile.read()\n",
    "\n",
    "    return product_details, sales_data, product_descriptions\n",
    "\n",
    "# Set the main folder path\n",
    "main_folder_path = r'C:\\Users\\soura\\OneDrive\\Documents\\NEHA UPGRAD\\mainfolder'\n",
    "\n",
    "# Load the data\n",
    "product_details, sales_data, product_descriptions = load_data(main_folder_path)\n",
    "\n",
    "# Display loaded data\n",
    "print(\"Product Details:\")\n",
    "print(product_details)\n",
    "print(\"\\nSales Data:\")\n",
    "print(sales_data)\n",
    "print(\"\\nProduct Descriptions:\")\n",
    "print(product_descriptions)"
   ]
  },
  {
   "cell_type": "markdown",
   "metadata": {
    "id": "bRjwNJj67LP_"
   },
   "source": [
    "Check your code here"
   ]
  },
  {
   "cell_type": "code",
   "execution_count": null,
   "metadata": {
    "id": "mkeH5Ba17Qmv"
   },
   "outputs": [],
   "source": [
    "# Use this cell to load the files\n"
   ]
  },
  {
   "cell_type": "markdown",
   "metadata": {
    "id": "Rf3FIRGg_G2b"
   },
   "source": [
    "### Checklist\n",
    "- Defined the `load_data()` function which takes in the given keyword arguments and returns the given variables.\n",
    "- Used the `load_data()` function to load data into `sales_data`, `product_details` and `product_descriptions`.\n",
    "- `sales_data, product_details` and `product_descriptions` are of the type `dict`.\n",
    "- Items in `sales_data, product_details`, and `product_descriptions` are as follows:\n",
    "    - `sales_data` contains product SKUs mapped to lists of integers representing the amount of product sold per day,\n",
    "    - `product_details` contains product SKUs mapped to dictionaries containing various details such as product name, brand, model, specifications, price, and availability, and\n",
    "    - `product_descriptions` contains product SKUs mapped to strings representing descriptions of the corresponding products."
   ]
  },
  {
   "cell_type": "markdown",
   "metadata": {
    "id": "Q-cAPaYTiz3_"
   },
   "source": [
    "## Task 3 - Explore the data"
   ]
  },
  {
   "cell_type": "markdown",
   "metadata": {
    "id": "Dmz5KGzJFJYC"
   },
   "source": [
    "### Description\n",
    "In this task, you will explore the loaded data by displaying its content. This includes displaying sales data, product details, and product description of a product using its product SKU."
   ]
  },
  {
   "cell_type": "markdown",
   "metadata": {
    "id": "kRKjcU-jHSlp"
   },
   "source": [
    "### Requirements\n",
    "- Dispaly sales data, product details, and product descriptions of all products.\n",
    "- Create a list named `product_skus` which contains product SKUs extracted from one of the dictionaries using `dict.keys()`.\n",
    "- Display sales data, product details, and product description of a product using its product SKU.\n",
    "- Print the length of `sales_data`, `product_details`, and `product_descriptions`."
   ]
  },
  {
   "cell_type": "markdown",
   "metadata": {
    "id": "5Y-xAzqjZLOJ"
   },
   "source": [
    "### Recommendations\n",
    "- Utilize the `pprint` module for pretty printing Python data structures.\n",
    "- Go to [this](https://docs.python.org/3/library/pprint.html) site to read more about `pprint`."
   ]
  },
  {
   "cell_type": "markdown",
   "metadata": {
    "id": "kQULPLA2HePb"
   },
   "source": [
    "First, display data form `sales_data`, `product_details`, and `product_descriptions`."
   ]
  },
  {
   "cell_type": "code",
   "execution_count": 56,
   "metadata": {
    "colab": {
     "base_uri": "https://localhost:8080/"
    },
    "executionInfo": {
     "elapsed": 504,
     "status": "ok",
     "timestamp": 1711707057647,
     "user": {
      "displayName": "Sudarshanan Raghavan",
      "userId": "18093698647292025641"
     },
     "user_tz": -330
    },
    "id": "2C9RhD9Ghtso",
    "outputId": "be56bff1-9083-48a1-e912-48c5b9d1de3d"
   },
   "outputs": [
    {
     "data": {
      "text/plain": [
       "{'AISJDKFJW93NJ': [10, 12, 15, 18, 20, 22, 25, 28, 26, 30, 32, 29, 27, 24],\n",
       " 'DJKFIEI432FIE': [8, 10, 12, 15, 20, 18, 14, 13, 17, 10, 8, 11, 14, 16],\n",
       " 'GGOENEBJ079499': [15, 18, 22, 25, 28, 20, 17, 23, 19, 21, 24, 27, 18, 20],\n",
       " 'HJSKNWK429DJE': [30, 32, 35, 38, 40, 42, 45, 48, 50, 52, 55, 53, 49, 47],\n",
       " 'JFKL3940NFKLJ': [18, 20, 22, 25, 28, 30, 32, 35, 38, 36, 33, 29, 26, 24],\n",
       " 'LKDFJ49LSDJKL': [25, 28, 30, 32, 35, 38, 42, 40, 37, 34, 36, 31, 29, 27],\n",
       " 'MWKDI3JFK39SL': [30, 35, 40, 45, 50, 42, 37, 38, 41, 36, 33, 39, 40, 44],\n",
       " 'NEKFJOWE9FDIW': [12, 15, 18, 20, 22, 24, 21, 23, 25, 28, 30, 27, 26, 29],\n",
       " 'OWEJL398FWJLK': [20, 22, 25, 28, 30, 32, 35, 38, 36, 33, 29, 26, 24, 27],\n",
       " 'XPLFJW2490XJN': [5, 8, 9, 12, 15, 10, 14, 16, 20, 18, 22, 25, 19, 21]}"
      ]
     },
     "execution_count": 56,
     "metadata": {},
     "output_type": "execute_result"
    }
   ],
   "source": [
    "sales_data"
   ]
  },
  {
   "cell_type": "code",
   "execution_count": 57,
   "metadata": {
    "colab": {
     "base_uri": "https://localhost:8080/"
    },
    "executionInfo": {
     "elapsed": 3,
     "status": "ok",
     "timestamp": 1711707059745,
     "user": {
      "displayName": "Sudarshanan Raghavan",
      "userId": "18093698647292025641"
     },
     "user_tz": -330
    },
    "id": "lKJ0SoxG1MxQ",
    "outputId": "237e2b01-4418-4bda-efa0-342e398e18f3"
   },
   "outputs": [
    {
     "data": {
      "text/plain": [
       "{'AISJDKFJW93NJ': {'product_name': 'Wall Art Print',\n",
       "  'brand': 'ArtCraft',\n",
       "  'model': 'NatureCanvas-1001',\n",
       "  'specifications': 'Canvas print, Ready to hang',\n",
       "  'price': '$49.99',\n",
       "  'availability': 'In stock'},\n",
       " 'DJKFIEI432FIE': {'product_name': \"Men's Running Shoes\",\n",
       "  'brand': 'RunFit',\n",
       "  'model': 'SpeedX-500',\n",
       "  'specifications': 'Size 10, Lightweight design, Breathable material',\n",
       "  'price': '$79.99',\n",
       "  'availability': 'In stock'},\n",
       " 'GGOENEBJ079499': {'product_name': 'Smartphone',\n",
       "  'brand': 'XYZ Electronics',\n",
       "  'model': 'ABC-2000',\n",
       "  'specifications': '6.5-inch display, 128GB storage, 16MP camera',\n",
       "  'price': '$499.99',\n",
       "  'availability': 'In stock'},\n",
       " 'HJSKNWK429DJE': {'product_name': 'Wireless Earbuds',\n",
       "  'brand': 'SoundSync',\n",
       "  'model': 'TunePro-2022',\n",
       "  'specifications': 'Bluetooth 5.0, 20 hours battery life, Touch controls',\n",
       "  'price': '$89.99',\n",
       "  'availability': 'In stock'},\n",
       " 'JFKL3940NFKLJ': {'product_name': 'Resistance Bands Set',\n",
       "  'brand': 'FitFlex',\n",
       "  'model': 'StrengthPro-300',\n",
       "  'specifications': '5 bands, Varying resistance levels, Portable',\n",
       "  'price': '$34.99',\n",
       "  'availability': 'In stock'},\n",
       " 'LKDFJ49LSDJKL': {'product_name': 'Anti-Aging Face Cream',\n",
       "  'brand': 'GlowBeauty',\n",
       "  'model': 'AgeDefy-300',\n",
       "  'specifications': 'Natural ingredients, Hydrating formula',\n",
       "  'price': '$39.99',\n",
       "  'availability': 'In stock'},\n",
       " 'MWKDI3JFK39SL': {'product_name': 'Fictional Novel',\n",
       "  'brand': 'BestBooks',\n",
       "  'model': None,\n",
       "  'specifications': 'Paperback, 300 pages',\n",
       "  'price': '$14.99',\n",
       "  'availability': 'In stock'},\n",
       " 'NEKFJOWE9FDIW': {'product_name': 'Board Game',\n",
       "  'brand': 'FamilyFun',\n",
       "  'model': 'GameNight-2022',\n",
       "  'specifications': '2-6 players, Ages 8 and up',\n",
       "  'price': '$29.99',\n",
       "  'availability': 'In stock'},\n",
       " 'OWEJL398FWJLK': {'product_name': 'Yoga Mat',\n",
       "  'brand': 'ZenFitness',\n",
       "  'model': 'EcoMat-500',\n",
       "  'specifications': 'Non-slip, 6mm thickness, Eco-friendly material',\n",
       "  'price': '$19.99',\n",
       "  'availability': 'In stock'},\n",
       " 'XPLFJW2490XJN': {'product_name': 'Robot Vacuum Cleaner',\n",
       "  'brand': 'CleanTech',\n",
       "  'model': 'AutoSweep-9000',\n",
       "  'specifications': 'Smart navigation, HEPA filter, 90 minutes runtime',\n",
       "  'price': '$249.99',\n",
       "  'availability': 'In stock'}}"
      ]
     },
     "execution_count": 57,
     "metadata": {},
     "output_type": "execute_result"
    }
   ],
   "source": [
    "product_details"
   ]
  },
  {
   "cell_type": "code",
   "execution_count": 58,
   "metadata": {
    "colab": {
     "base_uri": "https://localhost:8080/"
    },
    "executionInfo": {
     "elapsed": 2,
     "status": "ok",
     "timestamp": 1711707063032,
     "user": {
      "displayName": "Sudarshanan Raghavan",
      "userId": "18093698647292025641"
     },
     "user_tz": -330
    },
    "id": "0rqYUJOxiAD8",
    "outputId": "5108e0fe-edb3-4274-d62d-1d08c074f257"
   },
   "outputs": [
    {
     "data": {
      "text/plain": [
       "{'AISJDKFJW93NJ': \"Transform your living space with ArtCraft's NatureCanvas-1001 Wall Art Print.\\nThis canvas print, ready to hang, brings the beauty of nature into your home.\\nWith dimensions of 16 x 20 inches and a 4.6/5 stars rating, it's a stunning addition to your decor, creating a focal point that captures attention and sparks conversation.\",\n",
       " 'DJKFIEI432FIE': \"Elevate your running experience with the RunFit SpeedX-500 Men's Running Shoes.\\nDesigned for performance, these shoes feature a lightweight design, breathable material, and are available in vibrant Red, Blue, and classic Black.\\nWhether you're a seasoned runner or just starting, these shoes provide comfort and support for every stride, ensuring you reach new milestones effortlessly.\",\n",
       " 'GGOENEBJ079499': 'Dive into the future with the XYZ Electronics Smartphone, model ABC-2000.\\nBoasting a 6.5-inch display, 128GB storage, and a 16MP camera, this powerful device redefines the smartphone experience.\\nWith a sleek design and available in Black, Silver, and Blue, it combines cutting-edge technology with style, ensuring you stay connected in the most sophisticated way possible.',\n",
       " 'HJSKNWK429DJE': \"Immerse yourself in superior audio quality with SoundSync's TunePro-2022 Wireless Earbuds.\\nFeaturing Bluetooth 5.0, 20 hours of battery life, and touch controls, these earbuds deliver a seamless and immersive listening experience.\\nAvailable in Black and White, they combine style with functionality for music lovers on the go. \\nWith a 4.7/5 stars rating, they stand out as a top choice in the realm of wireless audio.\",\n",
       " 'JFKL3940NFKLJ': \"Embrace versatility in your workouts with FitFlex's StrengthPro-300 Resistance Bands Set.\\nWith 5 bands offering varying resistance levels and portability, this set is your go-to for effective strength training.\\nAvailable in Red, Yellow, and Blue, it caters to different fitness levels and adds a dynamic dimension to your exercise routine.\",\n",
       " 'LKDFJ49LSDJKL': \"Rediscover youthful radiance with GlowBeauty's AgeDefy-300 Anti-Aging Face Cream.\\nFormulated with natural ingredients and a hydrating formula, this skincare essential rejuvenates and nourishes your skin, leaving you with a vibrant and refreshed complexion.\\nWith a stellar 4.7/5 stars rating, it's a must-have for those embracing the journey to ageless beauty.\",\n",
       " 'MWKDI3JFK39SL': \"Immerse yourself in the world of storytelling with BestBooks' Fictional Novel.\\nThis paperback, spanning 300 pages, promises a captivating journey through the pages of an engaging narrative.\\nIdeal for avid readers seeking an escape, this novel, with a 4.6/5 stars rating, is a testament to its ability to weave a compelling tale that keeps you hooked until the last page.\",\n",
       " 'NEKFJOWE9FDIW': \"Unleash the fun with FamilyFun's GameNight-2022 Board Game.\\nDesigned for 2-6 players and suitable for ages 8 and up, this exciting game promises laughter and bonding moments for the entire family.\\nWith a 4.4/5 stars rating, it's a testament to its ability to turn any ordinary night into an extraordinary game night filled with friendly competition and shared joy.\",\n",
       " 'OWEJL398FWJLK': \"Elevate your yoga practice with ZenFitness' EcoMat-500 Yoga Mat.\\nFeaturing a non-slip surface, 6mm thickness, and eco-friendly materials, this high-quality mat provides the perfect foundation for your workouts.\\nAvailable in Purple, Green, and Blue, it not only enhances your comfort but also adds a touch of serenity to your exercise routine.\",\n",
       " 'XPLFJW2490XJN': 'Introducing the CleanTech AutoSweep-9000 Robot Vacuum Cleaner â€“ your smart companion for automated cleaning.\\nWith smart navigation, a HEPA filter, and a runtime of 90 minutes, this efficient device takes care of your cleaning needs.\\nAvailable in White and Silver, it blends seamlessly into your home, making cleanliness a hassle-free experience.'}"
      ]
     },
     "execution_count": 58,
     "metadata": {},
     "output_type": "execute_result"
    }
   ],
   "source": [
    "product_descriptions"
   ]
  },
  {
   "cell_type": "markdown",
   "metadata": {
    "id": "bgy4s7ZcuPBE"
   },
   "source": [
    "Create a list of product SKUs by extracting the product SKUs using `dict.keys()` from one of the three dicionaries, which can then be used to access details of a product."
   ]
  },
  {
   "cell_type": "code",
   "execution_count": 59,
   "metadata": {
    "colab": {
     "base_uri": "https://localhost:8080/"
    },
    "executionInfo": {
     "elapsed": 431,
     "status": "ok",
     "timestamp": 1711707065938,
     "user": {
      "displayName": "Sudarshanan Raghavan",
      "userId": "18093698647292025641"
     },
     "user_tz": -330
    },
    "id": "EGDH9_qQ0ZTq",
    "outputId": "f973f1a7-46c6-4ca8-f6e7-d571db02bdba"
   },
   "outputs": [
    {
     "name": "stdout",
     "output_type": "stream",
     "text": [
      "['AISJDKFJW93NJ', 'DJKFIEI432FIE', 'GGOENEBJ079499', 'HJSKNWK429DJE', 'JFKL3940NFKLJ', 'LKDFJ49LSDJKL', 'MWKDI3JFK39SL', 'NEKFJOWE9FDIW', 'OWEJL398FWJLK', 'XPLFJW2490XJN']\n"
     ]
    }
   ],
   "source": [
    "product_skus = list(product_details.keys())\n",
    "print(product_skus)"
   ]
  },
  {
   "cell_type": "markdown",
   "metadata": {
    "id": "8bQQTAa6HDys"
   },
   "source": [
    "Display sales data, product details, and product description of a product using its product SKU."
   ]
  },
  {
   "cell_type": "code",
   "execution_count": 60,
   "metadata": {
    "colab": {
     "base_uri": "https://localhost:8080/"
    },
    "executionInfo": {
     "elapsed": 3,
     "status": "ok",
     "timestamp": 1711707067436,
     "user": {
      "displayName": "Sudarshanan Raghavan",
      "userId": "18093698647292025641"
     },
     "user_tz": -330
    },
    "id": "WDWy4r9J1u86",
    "outputId": "66b224db-3ece-42df-ebae-02a875257346"
   },
   "outputs": [
    {
     "data": {
      "text/plain": [
       "[10, 12, 15, 18, 20, 22, 25, 28, 26, 30, 32, 29, 27, 24]"
      ]
     },
     "execution_count": 60,
     "metadata": {},
     "output_type": "execute_result"
    }
   ],
   "source": [
    "sales_data['AISJDKFJW93NJ']"
   ]
  },
  {
   "cell_type": "code",
   "execution_count": 61,
   "metadata": {
    "colab": {
     "base_uri": "https://localhost:8080/"
    },
    "executionInfo": {
     "elapsed": 442,
     "status": "ok",
     "timestamp": 1711707068452,
     "user": {
      "displayName": "Sudarshanan Raghavan",
      "userId": "18093698647292025641"
     },
     "user_tz": -330
    },
    "id": "5WeEWj7N9F15",
    "outputId": "43c345aa-9f95-4d2f-fa67-f04a4731b8b3"
   },
   "outputs": [
    {
     "data": {
      "text/plain": [
       "[8, 10, 12, 15, 20, 18, 14, 13, 17, 10, 8, 11, 14, 16]"
      ]
     },
     "execution_count": 61,
     "metadata": {},
     "output_type": "execute_result"
    }
   ],
   "source": [
    "sales_data['DJKFIEI432FIE']"
   ]
  },
  {
   "cell_type": "code",
   "execution_count": 62,
   "metadata": {
    "colab": {
     "base_uri": "https://localhost:8080/"
    },
    "executionInfo": {
     "elapsed": 3,
     "status": "ok",
     "timestamp": 1711707068816,
     "user": {
      "displayName": "Sudarshanan Raghavan",
      "userId": "18093698647292025641"
     },
     "user_tz": -330
    },
    "id": "8XLqE-5hh2cP",
    "outputId": "93743ef3-af90-43d7-8615-82553228d4db"
   },
   "outputs": [
    {
     "data": {
      "text/plain": [
       "\"Transform your living space with ArtCraft's NatureCanvas-1001 Wall Art Print.\\nThis canvas print, ready to hang, brings the beauty of nature into your home.\\nWith dimensions of 16 x 20 inches and a 4.6/5 stars rating, it's a stunning addition to your decor, creating a focal point that captures attention and sparks conversation.\""
      ]
     },
     "execution_count": 62,
     "metadata": {},
     "output_type": "execute_result"
    }
   ],
   "source": [
    "product_descriptions['AISJDKFJW93NJ']"
   ]
  },
  {
   "cell_type": "code",
   "execution_count": 63,
   "metadata": {
    "colab": {
     "base_uri": "https://localhost:8080/"
    },
    "executionInfo": {
     "elapsed": 4,
     "status": "ok",
     "timestamp": 1711707069719,
     "user": {
      "displayName": "Sudarshanan Raghavan",
      "userId": "18093698647292025641"
     },
     "user_tz": -330
    },
    "id": "FhQVO_gK0n15",
    "outputId": "0c95eb0e-dbe8-49ce-c5d2-47e2e2076bb9"
   },
   "outputs": [
    {
     "data": {
      "text/plain": [
       "{'product_name': 'Wall Art Print',\n",
       " 'brand': 'ArtCraft',\n",
       " 'model': 'NatureCanvas-1001',\n",
       " 'specifications': 'Canvas print, Ready to hang',\n",
       " 'price': '$49.99',\n",
       " 'availability': 'In stock'}"
      ]
     },
     "execution_count": 63,
     "metadata": {},
     "output_type": "execute_result"
    }
   ],
   "source": [
    "product_details['AISJDKFJW93NJ']"
   ]
  },
  {
   "cell_type": "code",
   "execution_count": 64,
   "metadata": {
    "colab": {
     "base_uri": "https://localhost:8080/",
     "height": 87
    },
    "executionInfo": {
     "elapsed": 6,
     "status": "ok",
     "timestamp": 1711707071642,
     "user": {
      "displayName": "Sudarshanan Raghavan",
      "userId": "18093698647292025641"
     },
     "user_tz": -330
    },
    "id": "fdSlSXvB9ERL",
    "outputId": "59eb8a51-e00e-4aa9-d1c1-7121cf61ae66"
   },
   "outputs": [
    {
     "data": {
      "text/plain": [
       "\"Transform your living space with ArtCraft's NatureCanvas-1001 Wall Art Print.\\nThis canvas print, ready to hang, brings the beauty of nature into your home.\\nWith dimensions of 16 x 20 inches and a 4.6/5 stars rating, it's a stunning addition to your decor, creating a focal point that captures attention and sparks conversation.\""
      ]
     },
     "execution_count": 64,
     "metadata": {},
     "output_type": "execute_result"
    }
   ],
   "source": [
    "product_descriptions['AISJDKFJW93NJ']"
   ]
  },
  {
   "cell_type": "code",
   "execution_count": 65,
   "metadata": {
    "colab": {
     "base_uri": "https://localhost:8080/",
     "height": 87
    },
    "executionInfo": {
     "elapsed": 6,
     "status": "ok",
     "timestamp": 1711707072339,
     "user": {
      "displayName": "Sudarshanan Raghavan",
      "userId": "18093698647292025641"
     },
     "user_tz": -330
    },
    "id": "DASYKDhk1_oB",
    "outputId": "4619f398-0ab9-48ba-bcdc-7a9d58cf4651"
   },
   "outputs": [
    {
     "data": {
      "text/plain": [
       "\"Elevate your running experience with the RunFit SpeedX-500 Men's Running Shoes.\\nDesigned for performance, these shoes feature a lightweight design, breathable material, and are available in vibrant Red, Blue, and classic Black.\\nWhether you're a seasoned runner or just starting, these shoes provide comfort and support for every stride, ensuring you reach new milestones effortlessly.\""
      ]
     },
     "execution_count": 65,
     "metadata": {},
     "output_type": "execute_result"
    }
   ],
   "source": [
    "product_descriptions['DJKFIEI432FIE']"
   ]
  },
  {
   "cell_type": "markdown",
   "metadata": {
    "id": "M29OiUpcIJyn"
   },
   "source": [
    "Display the length of `sales_data`, `product_details`, and `product_descriptions`."
   ]
  },
  {
   "cell_type": "code",
   "execution_count": 66,
   "metadata": {
    "colab": {
     "base_uri": "https://localhost:8080/"
    },
    "executionInfo": {
     "elapsed": 3,
     "status": "ok",
     "timestamp": 1711707074532,
     "user": {
      "displayName": "Sudarshanan Raghavan",
      "userId": "18093698647292025641"
     },
     "user_tz": -330
    },
    "id": "P_KCw2TtIPjl",
    "outputId": "0bb0917f-639c-436b-c8a3-22fee9d9860a"
   },
   "outputs": [
    {
     "data": {
      "text/plain": [
       "10"
      ]
     },
     "execution_count": 66,
     "metadata": {},
     "output_type": "execute_result"
    }
   ],
   "source": [
    "len(sales_data)"
   ]
  },
  {
   "cell_type": "code",
   "execution_count": 67,
   "metadata": {
    "colab": {
     "base_uri": "https://localhost:8080/"
    },
    "executionInfo": {
     "elapsed": 2,
     "status": "ok",
     "timestamp": 1711707074986,
     "user": {
      "displayName": "Sudarshanan Raghavan",
      "userId": "18093698647292025641"
     },
     "user_tz": -330
    },
    "id": "WD6nkFf5IcP1",
    "outputId": "9b4470f5-2595-42f3-ec46-004be5737ae7"
   },
   "outputs": [
    {
     "data": {
      "text/plain": [
       "10"
      ]
     },
     "execution_count": 67,
     "metadata": {},
     "output_type": "execute_result"
    }
   ],
   "source": [
    "len(product_details)"
   ]
  },
  {
   "cell_type": "code",
   "execution_count": 68,
   "metadata": {
    "colab": {
     "base_uri": "https://localhost:8080/"
    },
    "executionInfo": {
     "elapsed": 2,
     "status": "ok",
     "timestamp": 1711707076183,
     "user": {
      "displayName": "Sudarshanan Raghavan",
      "userId": "18093698647292025641"
     },
     "user_tz": -330
    },
    "id": "9a0YVr6gIZsk",
    "outputId": "5b8d86ce-6d08-4978-bdf6-eb4e5ae55f85"
   },
   "outputs": [
    {
     "data": {
      "text/plain": [
       "10"
      ]
     },
     "execution_count": 68,
     "metadata": {},
     "output_type": "execute_result"
    }
   ],
   "source": [
    "len(product_descriptions)"
   ]
  },
  {
   "cell_type": "markdown",
   "metadata": {
    "id": "mU6IzrzYZ_b4"
   },
   "source": [
    "### Checklist\n",
    "- Displayed sales data, product details, and product descriptions of all the products.\n",
    "- The extracted product SKUs are *AISJDKFJW93NJ, DJKFIEI432FIE, GGOENEBJ079499, HJSKNWK429DJE JFKL3940NFKLJ, LKDFJ49LSDJKL,MWKDI3JFK39SL, NEKFJOWE9FDIW,OWEJL398FWJLK, and XPLFJW2490XJN*.\n",
    "- Displayed sales data, product details, and product descriptions of a product using its product SKU.\n",
    "- Length of `sales_data`, `product_details`, and `product_descriptions` is 10."
   ]
  },
  {
   "cell_type": "markdown",
   "metadata": {
    "id": "-s3el3T2A41B"
   },
   "source": [
    "# Stage 2 - Create\n",
    "\n",
    "In the this stage, you will define a function `create()` to add sales data, product details, and product descriptions for a new product. You will also define some sub-functions to complete smaller tasks.\n",
    "\n",
    "You will achieve this by completing the following tasks:\n",
    "\n",
    "- Task 4 - Add sales data\n",
    "- Task 5 - Add product details\n",
    "- Task 6 - Add product description\n",
    "- Task 7 - Create function\n"
   ]
  },
  {
   "cell_type": "markdown",
   "metadata": {
    "id": "KR9w5MtF2iuy"
   },
   "source": [
    "## Task 4 - Add sales data"
   ]
  },
  {
   "cell_type": "markdown",
   "metadata": {
    "id": "3sv3srpNP0by"
   },
   "source": [
    "### Description\n",
    "In this task, you will write a function to add sales data for a new product give then SKU and the quantities that need to be added.\n"
   ]
  },
  {
   "cell_type": "markdown",
   "metadata": {
    "id": "yuS0kGCbP93D"
   },
   "source": [
    "### Requirements\n",
    "- Define a function named `add_sales_data()` that:\n",
    "  - Adds new sales data to the `sales_data` dicitionary using the sku as the key.\n",
    "  - The function should accept the following parameters:\n",
    "    - `sales_data` dictionary,\n",
    "    - `sku` value, and\n",
    "    - a list called `quantities` consisting of sales data for the new product.\n",
    "- The function should return:\n",
    "    - The updated `sales_data` dictionary after creating the entry for the new SKU."
   ]
  },
  {
   "cell_type": "markdown",
   "metadata": {
    "id": "51b-kmL5P9ve"
   },
   "source": [
    "### Recommendations\n",
    "- Provide the data description and requirements to ChatGPT along with the libraries that you are using and ask it to generate code for the function.\n",
    "- If you get stuck somewhere, you can ask ChatGPT to explain the code to you and you can make edits as required."
   ]
  },
  {
   "cell_type": "code",
   "execution_count": 69,
   "metadata": {
    "id": "RdPeCXd22MJ5"
   },
   "outputs": [
    {
     "name": "stdin",
     "output_type": "stream",
     "text": [
      "Enter the SKU for the new product:  CMWKCILOP27KF\n",
      "Enter the quantities sold for the past 14 days, separated by commas:  8, 14, 16, 7, 15, 21, 14, 16, 32, 29, 26, 30, 25, 22\n"
     ]
    },
    {
     "name": "stdout",
     "output_type": "stream",
     "text": [
      "updated_sales_data :\n",
      "{'AISJDKFJW93NJ': [10, 12, 15, 18, 20, 22, 25, 28, 26, 30, 32, 29, 27, 24], 'DJKFIEI432FIE': [8, 10, 12, 15, 20, 18, 14, 13, 17, 10, 8, 11, 14, 16], 'GGOENEBJ079499': [15, 18, 22, 25, 28, 20, 17, 23, 19, 21, 24, 27, 18, 20], 'HJSKNWK429DJE': [30, 32, 35, 38, 40, 42, 45, 48, 50, 52, 55, 53, 49, 47], 'JFKL3940NFKLJ': [18, 20, 22, 25, 28, 30, 32, 35, 38, 36, 33, 29, 26, 24], 'LKDFJ49LSDJKL': [25, 28, 30, 32, 35, 38, 42, 40, 37, 34, 36, 31, 29, 27], 'MWKDI3JFK39SL': [30, 35, 40, 45, 50, 42, 37, 38, 41, 36, 33, 39, 40, 44], 'NEKFJOWE9FDIW': [12, 15, 18, 20, 22, 24, 21, 23, 25, 28, 30, 27, 26, 29], 'OWEJL398FWJLK': [20, 22, 25, 28, 30, 32, 35, 38, 36, 33, 29, 26, 24, 27], 'XPLFJW2490XJN': [5, 8, 9, 12, 15, 10, 14, 16, 20, 18, 22, 25, 19, 21], 'CMWKCILOP27KF': [8, 14, 16, 7, 15, 21, 14, 16, 32, 29, 26, 30, 25, 22]}\n"
     ]
    }
   ],
   "source": [
    "def add_sales_data(sales_data, sku, quantities, sales_data_path):\n",
    "    \"\"\"\n",
    "    Add sales data for a new product SKU.\n",
    "\n",
    "    Parameters:\n",
    "        sales_data (dict): The dictionary containing sales data.\n",
    "        sku (str): The product SKU.\n",
    "        quantities (list of int): List of quantities sold for each of the past 14 days.\n",
    "\n",
    "    Returns:\n",
    "        dict: The updated sales data after adding the entry for the new SKU.\n",
    "    \"\"\"\n",
    "    sales_data[sku] = quantities\n",
    "    \n",
    "    # update the sales data to the CSV file\n",
    "    with open(sales_data_path, mode='w', newline='') as csvfile:\n",
    "        fieldnames = ['Product_SKU'] + [f'Day_{i+1}' for i in range(14)]\n",
    "        csvwriter = csv.DictWriter(csvfile, fieldnames=fieldnames)\n",
    "        \n",
    "        csvwriter.writeheader()\n",
    "        for sku_key, qty_list in sales_data.items():\n",
    "            row = {'Product_SKU': sku_key}\n",
    "            row.update({f'Day_{i+1}': qty for i, qty in enumerate(qty_list)})\n",
    "            csvwriter.writerow(row)\n",
    "    return sales_data\n",
    "\n",
    "# sales data path\n",
    "sales_data_path = r'C:\\Users\\soura\\OneDrive\\Documents\\NEHA UPGRAD\\mainfolder\\sales_data.csv'\n",
    "\n",
    "# Asking user for SKU and quantities\n",
    "sku = input(\"Enter the SKU for the new product: \")\n",
    "input_quantities = input(\"Enter the quantities sold for the past 14 days, separated by commas: \")\n",
    "quantities = list(map(int, input_quantities.split(',')))\n",
    "\n",
    "#add new sales data\n",
    "updated_sales_data = add_sales_data(sales_data, sku, quantities, sales_data_path)\n",
    "\n",
    "print(\"updated_sales_data :\")\n",
    "print(updated_sales_data)"
   ]
  },
  {
   "cell_type": "markdown",
   "metadata": {
    "id": "vOvcL_J5Cn51"
   },
   "source": [
    "Check your code here."
   ]
  },
  {
   "cell_type": "code",
   "execution_count": 70,
   "metadata": {
    "colab": {
     "base_uri": "https://localhost:8080/"
    },
    "executionInfo": {
     "elapsed": 4,
     "status": "ok",
     "timestamp": 1711707080236,
     "user": {
      "displayName": "Sudarshanan Raghavan",
      "userId": "18093698647292025641"
     },
     "user_tz": -330
    },
    "id": "Uzf-TuD5CqEm",
    "outputId": "5a06e87d-2ca8-449e-c47c-06cfe0a0a722"
   },
   "outputs": [
    {
     "data": {
      "text/plain": [
       "{'AISJDKFJW93NJ': [10, 12, 15, 18, 20, 22, 25, 28, 26, 30, 32, 29, 27, 24],\n",
       " 'DJKFIEI432FIE': [8, 10, 12, 15, 20, 18, 14, 13, 17, 10, 8, 11, 14, 16],\n",
       " 'GGOENEBJ079499': [15, 18, 22, 25, 28, 20, 17, 23, 19, 21, 24, 27, 18, 20],\n",
       " 'HJSKNWK429DJE': [30, 32, 35, 38, 40, 42, 45, 48, 50, 52, 55, 53, 49, 47],\n",
       " 'JFKL3940NFKLJ': [18, 20, 22, 25, 28, 30, 32, 35, 38, 36, 33, 29, 26, 24],\n",
       " 'LKDFJ49LSDJKL': [25, 28, 30, 32, 35, 38, 42, 40, 37, 34, 36, 31, 29, 27],\n",
       " 'MWKDI3JFK39SL': [30, 35, 40, 45, 50, 42, 37, 38, 41, 36, 33, 39, 40, 44],\n",
       " 'NEKFJOWE9FDIW': [12, 15, 18, 20, 22, 24, 21, 23, 25, 28, 30, 27, 26, 29],\n",
       " 'OWEJL398FWJLK': [20, 22, 25, 28, 30, 32, 35, 38, 36, 33, 29, 26, 24, 27],\n",
       " 'XPLFJW2490XJN': [5, 8, 9, 12, 15, 10, 14, 16, 20, 18, 22, 25, 19, 21],\n",
       " 'CMWKCILOP27KF': [8, 14, 16, 7, 15, 21, 14, 16, 32, 29, 26, 30, 25, 22]}"
      ]
     },
     "execution_count": 70,
     "metadata": {},
     "output_type": "execute_result"
    }
   ],
   "source": [
    "sales_data"
   ]
  },
  {
   "cell_type": "markdown",
   "metadata": {
    "id": "iJ1PeYvAP9nI"
   },
   "source": [
    "### Checklist\n",
    "- Function `add_sales_data()` defined.\n",
    "- Updated `sales_data` dictionary with new product SKU and data.\n",
    "- Updated `sales_data` dictionary returned."
   ]
  },
  {
   "cell_type": "markdown",
   "metadata": {
    "id": "276dzYC32PIS"
   },
   "source": [
    "## Task 5 - Add product details"
   ]
  },
  {
   "cell_type": "markdown",
   "metadata": {
    "id": "-I8sKosLT5sl"
   },
   "source": [
    "### Description\n",
    "In this task, you will write a function to add product details for the new product using its product SKU."
   ]
  },
  {
   "cell_type": "markdown",
   "metadata": {
    "id": "OkfZCY48T5ss"
   },
   "source": [
    "### Requirements\n",
    "- Define a function named `add_product_details()` that adds new product details to the `product_details` dictionary using the SKU as the key.\n",
    "- The function should accept three parameters:\n",
    "  - `product_details`: A dictionary containing existing product details.\n",
    "  - `sku`: A string representing the product SKU.\n",
    "  - `product_info`: A dictionary containing the details of the product, such as product name, brand, model, specifications, price, and availability.\n",
    "- The function adds the `product_info` dictionary to the `product_details` dictionary with the provided SKU as the key. This operation updates the `product_details` dictionary with the new product's information.\n",
    "- Return the updated `product_details` dictionary containing the new product entry."
   ]
  },
  {
   "cell_type": "markdown",
   "metadata": {
    "id": "7gCVU2F2T5ss"
   },
   "source": [
    "### Recommendations\n",
    "- Provide the data description and requirements to ChatGPT along with the libraries that you are using and ask it to generate code for the function.\n",
    "- If you get stuck somewhere, you can ask ChatGPT to explain the code to you and you can make edits as required."
   ]
  },
  {
   "cell_type": "code",
   "execution_count": 71,
   "metadata": {
    "id": "uiOO_eNr2PkA",
    "scrolled": true
   },
   "outputs": [
    {
     "name": "stdin",
     "output_type": "stream",
     "text": [
      "Enter the SKU for the new product:  CMWKCILOP27KF\n",
      "Enter the product name:  Pokemon Card\n",
      "Enter the brand:  GameFreak\n",
      "Enter the model:  ScarletViolet151\n",
      "Enter the specifications:  Genuine, TCG, English\n",
      "Enter the price (e.g., 1.99):  $1.99\n",
      "Is the product in stock? (True/False):  In stock\n"
     ]
    },
    {
     "name": "stdout",
     "output_type": "stream",
     "text": [
      "Updated Product Details:\n",
      "{'AISJDKFJW93NJ': {'product_name': 'Wall Art Print', 'brand': 'ArtCraft', 'model': 'NatureCanvas-1001', 'specifications': 'Canvas print, Ready to hang', 'price': '$49.99', 'availability': 'In stock'}, 'DJKFIEI432FIE': {'product_name': \"Men's Running Shoes\", 'brand': 'RunFit', 'model': 'SpeedX-500', 'specifications': 'Size 10, Lightweight design, Breathable material', 'price': '$79.99', 'availability': 'In stock'}, 'GGOENEBJ079499': {'product_name': 'Smartphone', 'brand': 'XYZ Electronics', 'model': 'ABC-2000', 'specifications': '6.5-inch display, 128GB storage, 16MP camera', 'price': '$499.99', 'availability': 'In stock'}, 'HJSKNWK429DJE': {'product_name': 'Wireless Earbuds', 'brand': 'SoundSync', 'model': 'TunePro-2022', 'specifications': 'Bluetooth 5.0, 20 hours battery life, Touch controls', 'price': '$89.99', 'availability': 'In stock'}, 'JFKL3940NFKLJ': {'product_name': 'Resistance Bands Set', 'brand': 'FitFlex', 'model': 'StrengthPro-300', 'specifications': '5 bands, Varying resistance levels, Portable', 'price': '$34.99', 'availability': 'In stock'}, 'LKDFJ49LSDJKL': {'product_name': 'Anti-Aging Face Cream', 'brand': 'GlowBeauty', 'model': 'AgeDefy-300', 'specifications': 'Natural ingredients, Hydrating formula', 'price': '$39.99', 'availability': 'In stock'}, 'MWKDI3JFK39SL': {'product_name': 'Fictional Novel', 'brand': 'BestBooks', 'model': None, 'specifications': 'Paperback, 300 pages', 'price': '$14.99', 'availability': 'In stock'}, 'NEKFJOWE9FDIW': {'product_name': 'Board Game', 'brand': 'FamilyFun', 'model': 'GameNight-2022', 'specifications': '2-6 players, Ages 8 and up', 'price': '$29.99', 'availability': 'In stock'}, 'OWEJL398FWJLK': {'product_name': 'Yoga Mat', 'brand': 'ZenFitness', 'model': 'EcoMat-500', 'specifications': 'Non-slip, 6mm thickness, Eco-friendly material', 'price': '$19.99', 'availability': 'In stock'}, 'XPLFJW2490XJN': {'product_name': 'Robot Vacuum Cleaner', 'brand': 'CleanTech', 'model': 'AutoSweep-9000', 'specifications': 'Smart navigation, HEPA filter, 90 minutes runtime', 'price': '$249.99', 'availability': 'In stock'}, 'CMWKCILOP27KF': {'Product_Name': 'Pokemon Card', 'Brand': 'GameFreak', 'Model': 'ScarletViolet151', 'Specifications': 'Genuine, TCG, English', 'Price': 1.99, 'Availability': 'In stock'}}\n"
     ]
    }
   ],
   "source": [
    "def add_product_details(product_details, sku, product_info):\n",
    "    \"\"\"\n",
    "    Create a new product details entry in the product details dictionary using the provided product information.\n",
    "\n",
    "    Parameters:\n",
    "        product_details (dict): The dictionary containing product details.\n",
    "        sku (str): The product SKU.\n",
    "        product_info (dict): A dictionary containing the details of the product, such as product name, brand, model, specifications, price, and availability.\n",
    "\n",
    "    Returns:\n",
    "        dict: The updated product details with the new product entry.\n",
    "    \"\"\"\n",
    "    product_details[sku] = product_info\n",
    "    \n",
    "    # Update product_details dictionary with new product_info using SKU as key\n",
    "    product_details[sku] = product_info\n",
    "\n",
    "    # Write the updated product details to the JSON file\n",
    "    filename = f\"details_{sku}.json\"\n",
    "    file_path = os.path.join(r\"C:\\Users\\soura\\OneDrive\\Documents\\NEHA UPGRAD\\mainfolder\\product_details\", filename)\n",
    "    \n",
    "    with open(file_path, 'w') as jsonfile:\n",
    "        json.dump(product_info, jsonfile, indent=4)\n",
    "    \n",
    "    return product_details\n",
    "\n",
    "# Handle price input to avoid ValueError for float\n",
    "def input_float(prompt):\n",
    "    while True:\n",
    "        try:\n",
    "            return float(input(prompt).replace('$', '').replace(',', ''))  # Remove symbols before converting to float\n",
    "        except ValueError:\n",
    "            print(\"Invalid input. Please enter a valid number.\")\n",
    "            \n",
    "# Asking user for SKU and product information\n",
    "sku = input(\"Enter the SKU for the new product: \")\n",
    "product_info = {\n",
    "    'Product_Name': input(\"Enter the product name: \"),\n",
    "    'Brand': input(\"Enter the brand: \"),\n",
    "    'Model': input(\"Enter the model: \"),\n",
    "    'Specifications': input(\"Enter the specifications: \"),\n",
    "    'Price': input_float(\"Enter the price (e.g., 1.99): \"),\n",
    "    'Availability': 'In stock' if bool(input(\"Is the product in stock? (True/False): \")) else 'Out of stock'\n",
    "}\n",
    "\n",
    "# Add new product details\n",
    "updated_product_details = add_product_details(product_details, sku, product_info)\n",
    "\n",
    "# Print updated product details to verify\n",
    "print(\"Updated Product Details:\")\n",
    "print(updated_product_details)"
   ]
  },
  {
   "cell_type": "markdown",
   "metadata": {
    "id": "cpYk9yK1Cq5H"
   },
   "source": [
    "Check your code here."
   ]
  },
  {
   "cell_type": "code",
   "execution_count": 72,
   "metadata": {
    "scrolled": true
   },
   "outputs": [
    {
     "data": {
      "text/plain": [
       "{'AISJDKFJW93NJ': {'product_name': 'Wall Art Print',\n",
       "  'brand': 'ArtCraft',\n",
       "  'model': 'NatureCanvas-1001',\n",
       "  'specifications': 'Canvas print, Ready to hang',\n",
       "  'price': '$49.99',\n",
       "  'availability': 'In stock'},\n",
       " 'DJKFIEI432FIE': {'product_name': \"Men's Running Shoes\",\n",
       "  'brand': 'RunFit',\n",
       "  'model': 'SpeedX-500',\n",
       "  'specifications': 'Size 10, Lightweight design, Breathable material',\n",
       "  'price': '$79.99',\n",
       "  'availability': 'In stock'},\n",
       " 'GGOENEBJ079499': {'product_name': 'Smartphone',\n",
       "  'brand': 'XYZ Electronics',\n",
       "  'model': 'ABC-2000',\n",
       "  'specifications': '6.5-inch display, 128GB storage, 16MP camera',\n",
       "  'price': '$499.99',\n",
       "  'availability': 'In stock'},\n",
       " 'HJSKNWK429DJE': {'product_name': 'Wireless Earbuds',\n",
       "  'brand': 'SoundSync',\n",
       "  'model': 'TunePro-2022',\n",
       "  'specifications': 'Bluetooth 5.0, 20 hours battery life, Touch controls',\n",
       "  'price': '$89.99',\n",
       "  'availability': 'In stock'},\n",
       " 'JFKL3940NFKLJ': {'product_name': 'Resistance Bands Set',\n",
       "  'brand': 'FitFlex',\n",
       "  'model': 'StrengthPro-300',\n",
       "  'specifications': '5 bands, Varying resistance levels, Portable',\n",
       "  'price': '$34.99',\n",
       "  'availability': 'In stock'},\n",
       " 'LKDFJ49LSDJKL': {'product_name': 'Anti-Aging Face Cream',\n",
       "  'brand': 'GlowBeauty',\n",
       "  'model': 'AgeDefy-300',\n",
       "  'specifications': 'Natural ingredients, Hydrating formula',\n",
       "  'price': '$39.99',\n",
       "  'availability': 'In stock'},\n",
       " 'MWKDI3JFK39SL': {'product_name': 'Fictional Novel',\n",
       "  'brand': 'BestBooks',\n",
       "  'model': None,\n",
       "  'specifications': 'Paperback, 300 pages',\n",
       "  'price': '$14.99',\n",
       "  'availability': 'In stock'},\n",
       " 'NEKFJOWE9FDIW': {'product_name': 'Board Game',\n",
       "  'brand': 'FamilyFun',\n",
       "  'model': 'GameNight-2022',\n",
       "  'specifications': '2-6 players, Ages 8 and up',\n",
       "  'price': '$29.99',\n",
       "  'availability': 'In stock'},\n",
       " 'OWEJL398FWJLK': {'product_name': 'Yoga Mat',\n",
       "  'brand': 'ZenFitness',\n",
       "  'model': 'EcoMat-500',\n",
       "  'specifications': 'Non-slip, 6mm thickness, Eco-friendly material',\n",
       "  'price': '$19.99',\n",
       "  'availability': 'In stock'},\n",
       " 'XPLFJW2490XJN': {'product_name': 'Robot Vacuum Cleaner',\n",
       "  'brand': 'CleanTech',\n",
       "  'model': 'AutoSweep-9000',\n",
       "  'specifications': 'Smart navigation, HEPA filter, 90 minutes runtime',\n",
       "  'price': '$249.99',\n",
       "  'availability': 'In stock'},\n",
       " 'CMWKCILOP27KF': {'Product_Name': 'Pokemon Card',\n",
       "  'Brand': 'GameFreak',\n",
       "  'Model': 'ScarletViolet151',\n",
       "  'Specifications': 'Genuine, TCG, English',\n",
       "  'Price': 1.99,\n",
       "  'Availability': 'In stock'}}"
      ]
     },
     "execution_count": 72,
     "metadata": {},
     "output_type": "execute_result"
    }
   ],
   "source": [
    "product_details"
   ]
  },
  {
   "cell_type": "code",
   "execution_count": null,
   "metadata": {},
   "outputs": [],
   "source": []
  },
  {
   "cell_type": "code",
   "execution_count": null,
   "metadata": {},
   "outputs": [],
   "source": []
  },
  {
   "cell_type": "markdown",
   "metadata": {
    "id": "UK1tyUi4UDwK"
   },
   "source": [
    "### Checklist\n",
    "- Function `add_product_details()` defined.\n",
    "- Updated `product_details` dictionary with new product details.\n",
    "- Updated `product_details` dictionary returned."
   ]
  },
  {
   "cell_type": "markdown",
   "metadata": {
    "id": "NbsIu0TT2R4H"
   },
   "source": [
    "## Task 6 - Add product description"
   ]
  },
  {
   "cell_type": "markdown",
   "metadata": {
    "id": "eLsJVtWtT6Wn"
   },
   "source": [
    "### Description\n",
    "In this task, you will write a function to add a product description for the new product using its product SKU."
   ]
  },
  {
   "cell_type": "markdown",
   "metadata": {
    "id": "ZYE0bb3bT6Wn"
   },
   "source": [
    "### Requirements\n",
    "- Define a function named `add_product_description()` that adds a new product description to the `product_descriptions` dictionary using the SKU as the key.\n",
    "- The function should accept three parameters:\n",
    "  - `product_descriptions`: A dictionary containing existing product descriptions.\n",
    "  - `sku`: A string representing the product SKU.\n",
    "  - `description`: A string containing the description of the product.\n",
    "- The function adds the new product description to the `product_descriptions` dictionary with the provided sku as the key. This operation updates the `product_descriptions` dictionary with the new product's description.\n",
    "- Return the updated `product_descriptions` dictionary containing the new product description.\n"
   ]
  },
  {
   "cell_type": "markdown",
   "metadata": {
    "id": "92BcXxmhT6Wn"
   },
   "source": [
    "### Recommendations\n",
    "- Provide the data description and requirements to ChatGPT along with the libraries that you are using and ask it to generate code for the function.\n",
    "- If you get stuck somewhere, you can ask ChatGPT to explain the code to you and you can make edits as required."
   ]
  },
  {
   "cell_type": "code",
   "execution_count": 73,
   "metadata": {
    "id": "gto9F0P82SIv"
   },
   "outputs": [
    {
     "name": "stdin",
     "output_type": "stream",
     "text": [
      "Enter the SKU for the new product:  CMWKCILOP27KF\n",
      "Enter the product description:  Original Pokemon TCG Pikachu card\n"
     ]
    },
    {
     "name": "stdout",
     "output_type": "stream",
     "text": [
      "Updated Product Descriptions:\n",
      "{'AISJDKFJW93NJ': \"Transform your living space with ArtCraft's NatureCanvas-1001 Wall Art Print.\\nThis canvas print, ready to hang, brings the beauty of nature into your home.\\nWith dimensions of 16 x 20 inches and a 4.6/5 stars rating, it's a stunning addition to your decor, creating a focal point that captures attention and sparks conversation.\", 'DJKFIEI432FIE': \"Elevate your running experience with the RunFit SpeedX-500 Men's Running Shoes.\\nDesigned for performance, these shoes feature a lightweight design, breathable material, and are available in vibrant Red, Blue, and classic Black.\\nWhether you're a seasoned runner or just starting, these shoes provide comfort and support for every stride, ensuring you reach new milestones effortlessly.\", 'GGOENEBJ079499': 'Dive into the future with the XYZ Electronics Smartphone, model ABC-2000.\\nBoasting a 6.5-inch display, 128GB storage, and a 16MP camera, this powerful device redefines the smartphone experience.\\nWith a sleek design and available in Black, Silver, and Blue, it combines cutting-edge technology with style, ensuring you stay connected in the most sophisticated way possible.', 'HJSKNWK429DJE': \"Immerse yourself in superior audio quality with SoundSync's TunePro-2022 Wireless Earbuds.\\nFeaturing Bluetooth 5.0, 20 hours of battery life, and touch controls, these earbuds deliver a seamless and immersive listening experience.\\nAvailable in Black and White, they combine style with functionality for music lovers on the go. \\nWith a 4.7/5 stars rating, they stand out as a top choice in the realm of wireless audio.\", 'JFKL3940NFKLJ': \"Embrace versatility in your workouts with FitFlex's StrengthPro-300 Resistance Bands Set.\\nWith 5 bands offering varying resistance levels and portability, this set is your go-to for effective strength training.\\nAvailable in Red, Yellow, and Blue, it caters to different fitness levels and adds a dynamic dimension to your exercise routine.\", 'LKDFJ49LSDJKL': \"Rediscover youthful radiance with GlowBeauty's AgeDefy-300 Anti-Aging Face Cream.\\nFormulated with natural ingredients and a hydrating formula, this skincare essential rejuvenates and nourishes your skin, leaving you with a vibrant and refreshed complexion.\\nWith a stellar 4.7/5 stars rating, it's a must-have for those embracing the journey to ageless beauty.\", 'MWKDI3JFK39SL': \"Immerse yourself in the world of storytelling with BestBooks' Fictional Novel.\\nThis paperback, spanning 300 pages, promises a captivating journey through the pages of an engaging narrative.\\nIdeal for avid readers seeking an escape, this novel, with a 4.6/5 stars rating, is a testament to its ability to weave a compelling tale that keeps you hooked until the last page.\", 'NEKFJOWE9FDIW': \"Unleash the fun with FamilyFun's GameNight-2022 Board Game.\\nDesigned for 2-6 players and suitable for ages 8 and up, this exciting game promises laughter and bonding moments for the entire family.\\nWith a 4.4/5 stars rating, it's a testament to its ability to turn any ordinary night into an extraordinary game night filled with friendly competition and shared joy.\", 'OWEJL398FWJLK': \"Elevate your yoga practice with ZenFitness' EcoMat-500 Yoga Mat.\\nFeaturing a non-slip surface, 6mm thickness, and eco-friendly materials, this high-quality mat provides the perfect foundation for your workouts.\\nAvailable in Purple, Green, and Blue, it not only enhances your comfort but also adds a touch of serenity to your exercise routine.\", 'XPLFJW2490XJN': 'Introducing the CleanTech AutoSweep-9000 Robot Vacuum Cleaner â€“ your smart companion for automated cleaning.\\nWith smart navigation, a HEPA filter, and a runtime of 90 minutes, this efficient device takes care of your cleaning needs.\\nAvailable in White and Silver, it blends seamlessly into your home, making cleanliness a hassle-free experience.', 'CMWKCILOP27KF': 'Original Pokemon TCG Pikachu card'}\n"
     ]
    }
   ],
   "source": [
    "def add_product_description(product_descriptions, sku, description):\n",
    "    \"\"\"\n",
    "    Adds a new product description to the product descriptions dictionary using the provided SKU as the key.\n",
    "\n",
    "    Parameters:\n",
    "        product_descriptions (dict): The dictionary containing existing product descriptions.\n",
    "        sku (str): The product SKU.\n",
    "        description (str): The description of the product.\n",
    "\n",
    "    Returns:\n",
    "        dict: The updated product descriptions dictionary with the new product description added.\n",
    "    \"\"\"\n",
    "    \n",
    "    # Update product_descriptions dictionary with new description using SKU as key\n",
    "    product_descriptions[sku] = description\n",
    "    return product_descriptions\n",
    "\n",
    "   \n",
    "# Asking user for SKU and product description\n",
    "sku = input(\"Enter the SKU for the new product: \")\n",
    "description = input(\"Enter the product description: \")\n",
    "\n",
    "# Add new product description\n",
    "updated_product_descriptions = add_product_description(product_descriptions, sku, description)\n",
    "\n",
    "# Print updated product descriptions to verify\n",
    "print(\"Updated Product Descriptions:\")\n",
    "print(updated_product_descriptions)"
   ]
  },
  {
   "cell_type": "markdown",
   "metadata": {
    "id": "pDn1TCSLCr_R"
   },
   "source": [
    "Check your code here."
   ]
  },
  {
   "cell_type": "code",
   "execution_count": 74,
   "metadata": {
    "colab": {
     "base_uri": "https://localhost:8080/"
    },
    "executionInfo": {
     "elapsed": 4,
     "status": "ok",
     "timestamp": 1711707093218,
     "user": {
      "displayName": "Sudarshanan Raghavan",
      "userId": "18093698647292025641"
     },
     "user_tz": -330
    },
    "id": "4rm960DECsUF",
    "outputId": "3deb7531-1995-40b0-ac8f-a389f3ded614"
   },
   "outputs": [
    {
     "data": {
      "text/plain": [
       "{'AISJDKFJW93NJ': \"Transform your living space with ArtCraft's NatureCanvas-1001 Wall Art Print.\\nThis canvas print, ready to hang, brings the beauty of nature into your home.\\nWith dimensions of 16 x 20 inches and a 4.6/5 stars rating, it's a stunning addition to your decor, creating a focal point that captures attention and sparks conversation.\",\n",
       " 'DJKFIEI432FIE': \"Elevate your running experience with the RunFit SpeedX-500 Men's Running Shoes.\\nDesigned for performance, these shoes feature a lightweight design, breathable material, and are available in vibrant Red, Blue, and classic Black.\\nWhether you're a seasoned runner or just starting, these shoes provide comfort and support for every stride, ensuring you reach new milestones effortlessly.\",\n",
       " 'GGOENEBJ079499': 'Dive into the future with the XYZ Electronics Smartphone, model ABC-2000.\\nBoasting a 6.5-inch display, 128GB storage, and a 16MP camera, this powerful device redefines the smartphone experience.\\nWith a sleek design and available in Black, Silver, and Blue, it combines cutting-edge technology with style, ensuring you stay connected in the most sophisticated way possible.',\n",
       " 'HJSKNWK429DJE': \"Immerse yourself in superior audio quality with SoundSync's TunePro-2022 Wireless Earbuds.\\nFeaturing Bluetooth 5.0, 20 hours of battery life, and touch controls, these earbuds deliver a seamless and immersive listening experience.\\nAvailable in Black and White, they combine style with functionality for music lovers on the go. \\nWith a 4.7/5 stars rating, they stand out as a top choice in the realm of wireless audio.\",\n",
       " 'JFKL3940NFKLJ': \"Embrace versatility in your workouts with FitFlex's StrengthPro-300 Resistance Bands Set.\\nWith 5 bands offering varying resistance levels and portability, this set is your go-to for effective strength training.\\nAvailable in Red, Yellow, and Blue, it caters to different fitness levels and adds a dynamic dimension to your exercise routine.\",\n",
       " 'LKDFJ49LSDJKL': \"Rediscover youthful radiance with GlowBeauty's AgeDefy-300 Anti-Aging Face Cream.\\nFormulated with natural ingredients and a hydrating formula, this skincare essential rejuvenates and nourishes your skin, leaving you with a vibrant and refreshed complexion.\\nWith a stellar 4.7/5 stars rating, it's a must-have for those embracing the journey to ageless beauty.\",\n",
       " 'MWKDI3JFK39SL': \"Immerse yourself in the world of storytelling with BestBooks' Fictional Novel.\\nThis paperback, spanning 300 pages, promises a captivating journey through the pages of an engaging narrative.\\nIdeal for avid readers seeking an escape, this novel, with a 4.6/5 stars rating, is a testament to its ability to weave a compelling tale that keeps you hooked until the last page.\",\n",
       " 'NEKFJOWE9FDIW': \"Unleash the fun with FamilyFun's GameNight-2022 Board Game.\\nDesigned for 2-6 players and suitable for ages 8 and up, this exciting game promises laughter and bonding moments for the entire family.\\nWith a 4.4/5 stars rating, it's a testament to its ability to turn any ordinary night into an extraordinary game night filled with friendly competition and shared joy.\",\n",
       " 'OWEJL398FWJLK': \"Elevate your yoga practice with ZenFitness' EcoMat-500 Yoga Mat.\\nFeaturing a non-slip surface, 6mm thickness, and eco-friendly materials, this high-quality mat provides the perfect foundation for your workouts.\\nAvailable in Purple, Green, and Blue, it not only enhances your comfort but also adds a touch of serenity to your exercise routine.\",\n",
       " 'XPLFJW2490XJN': 'Introducing the CleanTech AutoSweep-9000 Robot Vacuum Cleaner â€“ your smart companion for automated cleaning.\\nWith smart navigation, a HEPA filter, and a runtime of 90 minutes, this efficient device takes care of your cleaning needs.\\nAvailable in White and Silver, it blends seamlessly into your home, making cleanliness a hassle-free experience.',\n",
       " 'CMWKCILOP27KF': 'Original Pokemon TCG Pikachu card'}"
      ]
     },
     "execution_count": 74,
     "metadata": {},
     "output_type": "execute_result"
    }
   ],
   "source": [
    "product_descriptions"
   ]
  },
  {
   "cell_type": "markdown",
   "metadata": {
    "id": "HxVoqK32UEpS"
   },
   "source": [
    "### Checklist\n",
    "- Function `add_product_description()` defined\n",
    "- Updated `product_descriptions` dictionary with new description\n",
    "- Updated `product_descriptions` dictionary returned"
   ]
  },
  {
   "cell_type": "markdown",
   "metadata": {
    "id": "R5N6bVo82VF3"
   },
   "source": [
    "## Task 7 - Create function"
   ]
  },
  {
   "cell_type": "markdown",
   "metadata": {
    "id": "a8ACLR0kT65r"
   },
   "source": [
    "### Description\n",
    "In this task, you will write a function that combines the functionalities of adding sales data, product details, and product description for a new product SKU."
   ]
  },
  {
   "cell_type": "markdown",
   "metadata": {
    "id": "GLPOHSC5T65r"
   },
   "source": [
    "### Requirements\n",
    "- Define a function named `create()` that collects comprehensive information about a new product from the user, validates the input, and updates the respective dictionaries with product details, sales data, and product descriptions.\n",
    "- The function should accept three parameters:\n",
    "  - `product_details`: A dictionary containing existing product details. Each entry maps an SKU to its corresponding product details.\n",
    "  - `sales_data`: A dictionary containing sales data. Each entry maps an SKU to a list of sales quantities for the last 14 days.\n",
    "  - `product_descriptions`: A dictionary containing product descriptions. Each entry maps an SKU to its corresponding textual description.\n",
    "- The function performs several operations:\n",
    "  - Prompts the user to input the SKU, which must be exactly 13 characters long. If the SKU does not meet this requirement, print an error message and terminate the function without updating any dictionaries.\n",
    "  - Prompts the user to enter sales data for the last 14 days, which must consist of exactly 14 integers. If the input does not meet this criterion, print an error message and terminate the function without updating any dictionaries.\n",
    "  - Collects product details from the user, including name, brand, model, specifications, price, and availability. These inputs are required but not subject to specific validation criteria for this function.\n",
    "  - Prompts the user for a product description, which is also required for successful product registration.\n",
    "- If all inputs are validated successfully, the function updates the `product_details`, `sales_data`, and `product_descriptions` dictionaries with the new product information and prints a success message.\n",
    "- Returns a tuple containing the updated `product_details`, `sales_data`, and `product_descriptions` dictionaries in that order.\n",
    "- The function is designed for use when a new product is to be added to the system and requires the caller to pass the current state of the `product_details`, `sales_data`, and `product_descriptions` dictionaries. It returns their updated states, reflecting the addition of the new product.\n"
   ]
  },
  {
   "cell_type": "markdown",
   "metadata": {
    "id": "DdqcaLI1T65s"
   },
   "source": [
    "### Recommendations\n",
    "- You can use if-else statements to check the validity of the data inputted by the user.\n",
    "- Use a list comprehension to prepare the sales data before saving it in the dictionary.\n",
    "- Use the previously defined functions to perform the actions after validating user's input.\n",
    "- Provide the data description and requirements to ChatGPT along with the libraries that you are using and ask it to generate code for the function.\n",
    "- If you get stuck somewhere, you can ask ChatGPT to explain the code to you and you can make edits as required."
   ]
  },
  {
   "cell_type": "code",
   "execution_count": 75,
   "metadata": {
    "id": "-nqyMs8IPhnR"
   },
   "outputs": [
    {
     "name": "stdin",
     "output_type": "stream",
     "text": [
      "Enter the SKU for the new product (must be 13 characters long):  CMWKCILOP27KJ\n",
      "Enter sales data for the last 14 days, separated by space:  1 2 3 4 5 6 7 1 2 3 4 5 6 7\n",
      "Enter the product name:  Pokemon Card Raichu\n",
      "Enter the brand:  Pokemon\n",
      "Enter the model:  GameFreak\n",
      "Enter the specifications:  Nice card\n",
      "Enter the price:  $2\n",
      "Is the product in stock? (Yes/No):  yes\n",
      "Enter the product description:  Nice Raichu card\n"
     ]
    },
    {
     "name": "stdout",
     "output_type": "stream",
     "text": [
      "New product was added successfully!\n"
     ]
    }
   ],
   "source": [
    "def create(product_details, sales_data, product_descriptions):\n",
    "    \"\"\"\n",
    "    Collects comprehensive information about a new product from the user, validates the input, and updates the respective dictionaries with product details, sales data, and descriptions.\n",
    "\n",
    "    This function performs a series of prompts to the user to input the SKU, sales data for the last 14 days, product details (including name, brand, model, specifications, price, and availability), and a product description. Each input is validated for specific criteria:\n",
    "\n",
    "    - The SKU must be exactly 13 characters long.\n",
    "    - Sales data must consist of exactly 14 integers, representing sales for the last 14 days.\n",
    "    - Product details and description inputs are collected without specific validation but are required for successful product registration.\n",
    "\n",
    "    If any validation fails, the function prints an error message and terminates without updating any of the dictionaries, ensuring data integrity and consistency across product records.\n",
    "\n",
    "    Parameters:\n",
    "        product_details (dict): A dictionary containing existing product details. Each entry maps an SKU to its corresponding product details.\n",
    "        sales_data (dict): A dictionary containing sales data. Each entry maps an SKU to a list of sales quantities for the last 14 days.\n",
    "        product_descriptions (dict): A dictionary containing product descriptions. Each entry maps an SKU to its corresponding textual description.\n",
    "\n",
    "    Returns:\n",
    "        tuple: A tuple containing the updated dictionaries (product_details, sales_data, product_descriptions) in that order.\n",
    "\n",
    "    Usage:\n",
    "        The function is designed to be called when a new product is to be added to the system. It requires the caller to pass the current state of the product_details, sales_data, and product_descriptions dictionaries, and returns their updated states.\n",
    "    \"\"\"\n",
    "    # handle price input for value error\n",
    "    def clean_price_input(price_str):\n",
    "        cleaned_price_str = price_str.replace('$', '').strip()  # Remove '$' and any surrounding whitespace\n",
    "        try:\n",
    "            return float(cleaned_price_str)\n",
    "        except ValueError:\n",
    "            raise ValueError(\"Invalid price format. Please enter a valid numeric price.\")\n",
    "\n",
    "    # ask user for SKU\n",
    "    sku = input(\"Enter the SKU for the new product (must be 13 characters long): \")\n",
    "    if len(sku) != 13:\n",
    "        print(\"Error: SKU must be exactly 13 characters long.\")\n",
    "        return product_details, sales_data, product_descriptions\n",
    "     \n",
    "    # ask user for sales data\n",
    "    try:\n",
    "        quantities_input = input(\"Enter sales data for the last 14 days, separated by space: \")\n",
    "        quantities = list(map(int, quantities_input.split()))\n",
    "        if len(quantities) != 14:\n",
    "            raise ValueError(\"Sales data must consist of exactly 14 integers.\")\n",
    "            \n",
    "    except ValueError as e:\n",
    "        print(f\"Error: {e}\")\n",
    "        return product_details, sales_data, product_descriptions   \n",
    "    \n",
    "    # ask user for product details\n",
    "    product_info = {\n",
    "        'Product_Name': input(\"Enter the product name: \"),\n",
    "        'Brand': input(\"Enter the brand: \"),\n",
    "        'Model': input(\"Enter the model: \"),\n",
    "        'Specifications': input(\"Enter the specifications: \"),\n",
    "        'Price': clean_price_input(input(\"Enter the price: \")),\n",
    "        'Availability': 'In stock' if input(\"Is the product in stock? (Yes/No): \").lower() == 'yes' else 'Out of stock'\n",
    "    }\n",
    "\n",
    "    # ask user for product description\n",
    "    description = input(\"Enter the product description: \")\n",
    "\n",
    "    # Update dictionaries\n",
    "    product_details[sku] = product_info\n",
    "    sales_data[sku] = quantities\n",
    "    product_descriptions[sku] = description\n",
    "\n",
    "    # Update dictionaries with new product information\n",
    "    update_product_details_file(product_details, main_folder)\n",
    "    update_sales_data_file(sales_data, main_folder)\n",
    "    update_product_descriptions_file(product_descriptions, main_folder)\n",
    "    \n",
    "    print(\"New product was added successfully!\")\n",
    "    return product_details, sales_data, product_descriptions\n",
    "\n",
    "def update_product_details_file(product_details, main_folder):\n",
    "    \"\"\"\n",
    "    Updates the product details JSON files with the provided product details dictionary.\n",
    "\n",
    "    Parameters:\n",
    "        product_details (dict): A dictionary containing product details. Keys are SKUs, values are dictionaries of product information.\n",
    "        main_folder (str): The path to the main folder containing the dataset.\n",
    "    \"\"\"\n",
    "    product_details_folder = os.path.join(main_folder, 'product_details')\n",
    "    os.makedirs(product_details_folder, exist_ok=True)  # Create folder if it doesn't exist\n",
    "    \n",
    "    for sku, details in product_details.items():\n",
    "        details_filename = f\"details_{sku}.json\"\n",
    "        details_path = os.path.join(product_details_folder, details_filename)\n",
    "        \n",
    "        with open(details_path, 'w') as jsonfile:\n",
    "            json.dump(details, jsonfile, indent=4)\n",
    "def update_sales_data_file(sales_data, main_folder):\n",
    "    \"\"\"\n",
    "    Updates the sales data CSV file with the provided sales data dictionary.\n",
    "\n",
    "    Parameters:\n",
    "        sales_data (dict): A dictionary containing sales data. Keys are SKUs, values are lists of sales quantities.\n",
    "        main_folder (str): The path to the main folder containing the dataset.\n",
    "    \"\"\"\n",
    "    sales_data_path = os.path.join(main_folder, 'sales_data.csv')\n",
    "    # Use 'a' (append) mode instead of 'w' to avoid overwriting existing data\n",
    "    with open(sales_data_path, mode='a', newline='') as csvfile:\n",
    "        fieldnames = ['Product_SKU'] + [f'Day_{i+1}' for i in range(14)]\n",
    "        csvwriter = csv.DictWriter(csvfile, fieldnames=fieldnames)\n",
    "        # Write only new entries, assuming they are not already in the file\n",
    "        existing_skus = set()\n",
    "        try:\n",
    "            with open(sales_data_path, mode='r', newline='') as csvfile_read:\n",
    "                reader = csv.DictReader(csvfile_read)\n",
    "                for row in reader:\n",
    "                    existing_skus.add(row['Product_SKU'])\n",
    "        except FileNotFoundError:\n",
    "            pass\n",
    "        \n",
    "        for sku, quantities in sales_data.items():\n",
    "            if sku not in existing_skus:\n",
    "                csvwriter.writerow({'Product_SKU': sku, **{f'Day_{i+1}': quantity for i, quantity in enumerate(quantities)}})\n",
    "def update_product_descriptions_file(product_descriptions, main_folder):\n",
    "    \"\"\"\n",
    "    Updates the product descriptions text files with the provided product descriptions dictionary.\n",
    "\n",
    "    Parameters:\n",
    "        product_descriptions (dict): A dictionary containing product descriptions. Keys are SKUs, values are descriptions.\n",
    "        main_folder (str): The path to the main folder containing the dataset.\n",
    "    \"\"\"\n",
    "    product_descriptions_folder = os.path.join(main_folder, 'product_description')\n",
    "    for sku, description in product_descriptions.items():\n",
    "        description_filename = f\"description_{sku}.txt\"\n",
    "        description_path = os.path.join(product_descriptions_folder, description_filename)\n",
    "        with open(description_path, 'w') as txtfile:\n",
    "            txtfile.write(description)\n",
    "\n",
    "def load_product_details(main_folder):\n",
    "    \"\"\"\n",
    "    Load product details from JSON files.\n",
    "\n",
    "    Parameters:\n",
    "        main_folder (str): Path to the main folder containing the dataset.\n",
    "\n",
    "    Returns:\n",
    "        dict: Dictionary containing product details. Keys are SKUs, values are dictionaries of product information.\n",
    "    \"\"\"\n",
    "    product_details = {}\n",
    "    product_details_folder = os.path.join(main_folder, 'product_details')\n",
    "    for filename in os.listdir(product_details_folder):\n",
    "        if filename.endswith('.json'):\n",
    "            sku = filename.split('_', 1)[1].split('.')[0]\n",
    "            details_path = os.path.join(product_details_folder, filename)\n",
    "            with open(details_path, 'r') as jsonfile:\n",
    "                details = json.load(jsonfile)\n",
    "                product_details[sku] = details\n",
    "    return product_details\n",
    "def load_sales_data(main_folder):\n",
    "    \"\"\"\n",
    "    Load sales data from CSV file.\n",
    "\n",
    "    Parameters:\n",
    "        main_folder (str): Path to the main folder containing the dataset.\n",
    "\n",
    "    Returns:\n",
    "        dict: Dictionary containing sales data. Keys are SKUs, values are lists of sales quantities.\n",
    "    \"\"\"\n",
    "    sales_data = {}\n",
    "    sales_data_path = os.path.join(main_folder, 'sales_data.csv')\n",
    "    if os.path.exists(sales_data_path):\n",
    "        with open(sales_data_path, 'r', newline='') as csvfile:\n",
    "            reader = csv.DictReader(csvfile)\n",
    "            for row in reader:\n",
    "                sku = row['Product_SKU']\n",
    "                quantities = [int(row[f'Day_{i+1}']) for i in range(14)]\n",
    "                sales_data[sku] = quantities\n",
    "    return sales_data\n",
    "def load_product_descriptions(main_folder):\n",
    "    \"\"\"\n",
    "    Load product descriptions from text files.\n",
    "\n",
    "    Parameters:\n",
    "        main_folder (str): Path to the main folder containing the dataset.\n",
    "\n",
    "    Returns:\n",
    "        dict: Dictionary containing product descriptions. Keys are SKUs, values are descriptions.\n",
    "    \"\"\"\n",
    "    product_descriptions = {}\n",
    "    product_descriptions_folder = os.path.join(main_folder, 'product_description')\n",
    "    for filename in os.listdir(product_descriptions_folder):\n",
    "        if filename.endswith('.txt'):\n",
    "            sku = filename.split('_', 1)[1].split('.')[0]\n",
    "            description_path = os.path.join(product_descriptions_folder, filename)\n",
    "            with open(description_path, 'r') as txtfile:\n",
    "                description = txtfile.read()\n",
    "                product_descriptions[sku] = description\n",
    "\n",
    "    return product_descriptions\n",
    "product_details, sales_data, product_descriptions = create(product_details, sales_data, product_descriptions)"
   ]
  },
  {
   "cell_type": "markdown",
   "metadata": {
    "id": "LEyahKVZCtpR"
   },
   "source": [
    "Check your code here."
   ]
  },
  {
   "cell_type": "code",
   "execution_count": 76,
   "metadata": {},
   "outputs": [
    {
     "data": {
      "text/plain": [
       "{'AISJDKFJW93NJ': {'product_name': 'Wall Art Print',\n",
       "  'brand': 'ArtCraft',\n",
       "  'model': 'NatureCanvas-1001',\n",
       "  'specifications': 'Canvas print, Ready to hang',\n",
       "  'price': '$49.99',\n",
       "  'availability': 'In stock'},\n",
       " 'DJKFIEI432FIE': {'product_name': \"Men's Running Shoes\",\n",
       "  'brand': 'RunFit',\n",
       "  'model': 'SpeedX-500',\n",
       "  'specifications': 'Size 10, Lightweight design, Breathable material',\n",
       "  'price': '$79.99',\n",
       "  'availability': 'In stock'},\n",
       " 'GGOENEBJ079499': {'product_name': 'Smartphone',\n",
       "  'brand': 'XYZ Electronics',\n",
       "  'model': 'ABC-2000',\n",
       "  'specifications': '6.5-inch display, 128GB storage, 16MP camera',\n",
       "  'price': '$499.99',\n",
       "  'availability': 'In stock'},\n",
       " 'HJSKNWK429DJE': {'product_name': 'Wireless Earbuds',\n",
       "  'brand': 'SoundSync',\n",
       "  'model': 'TunePro-2022',\n",
       "  'specifications': 'Bluetooth 5.0, 20 hours battery life, Touch controls',\n",
       "  'price': '$89.99',\n",
       "  'availability': 'In stock'},\n",
       " 'JFKL3940NFKLJ': {'product_name': 'Resistance Bands Set',\n",
       "  'brand': 'FitFlex',\n",
       "  'model': 'StrengthPro-300',\n",
       "  'specifications': '5 bands, Varying resistance levels, Portable',\n",
       "  'price': '$34.99',\n",
       "  'availability': 'In stock'},\n",
       " 'LKDFJ49LSDJKL': {'product_name': 'Anti-Aging Face Cream',\n",
       "  'brand': 'GlowBeauty',\n",
       "  'model': 'AgeDefy-300',\n",
       "  'specifications': 'Natural ingredients, Hydrating formula',\n",
       "  'price': '$39.99',\n",
       "  'availability': 'In stock'},\n",
       " 'MWKDI3JFK39SL': {'product_name': 'Fictional Novel',\n",
       "  'brand': 'BestBooks',\n",
       "  'model': None,\n",
       "  'specifications': 'Paperback, 300 pages',\n",
       "  'price': '$14.99',\n",
       "  'availability': 'In stock'},\n",
       " 'NEKFJOWE9FDIW': {'product_name': 'Board Game',\n",
       "  'brand': 'FamilyFun',\n",
       "  'model': 'GameNight-2022',\n",
       "  'specifications': '2-6 players, Ages 8 and up',\n",
       "  'price': '$29.99',\n",
       "  'availability': 'In stock'},\n",
       " 'OWEJL398FWJLK': {'product_name': 'Yoga Mat',\n",
       "  'brand': 'ZenFitness',\n",
       "  'model': 'EcoMat-500',\n",
       "  'specifications': 'Non-slip, 6mm thickness, Eco-friendly material',\n",
       "  'price': '$19.99',\n",
       "  'availability': 'In stock'},\n",
       " 'XPLFJW2490XJN': {'product_name': 'Robot Vacuum Cleaner',\n",
       "  'brand': 'CleanTech',\n",
       "  'model': 'AutoSweep-9000',\n",
       "  'specifications': 'Smart navigation, HEPA filter, 90 minutes runtime',\n",
       "  'price': '$249.99',\n",
       "  'availability': 'In stock'},\n",
       " 'CMWKCILOP27KF': {'Product_Name': 'Pokemon Card',\n",
       "  'Brand': 'GameFreak',\n",
       "  'Model': 'ScarletViolet151',\n",
       "  'Specifications': 'Genuine, TCG, English',\n",
       "  'Price': 1.99,\n",
       "  'Availability': 'In stock'},\n",
       " 'CMWKCILOP27KJ': {'Product_Name': 'Pokemon Card Raichu',\n",
       "  'Brand': 'Pokemon',\n",
       "  'Model': 'GameFreak',\n",
       "  'Specifications': 'Nice card',\n",
       "  'Price': 2.0,\n",
       "  'Availability': 'In stock'}}"
      ]
     },
     "execution_count": 76,
     "metadata": {},
     "output_type": "execute_result"
    }
   ],
   "source": [
    "product_details"
   ]
  },
  {
   "cell_type": "code",
   "execution_count": 77,
   "metadata": {},
   "outputs": [
    {
     "data": {
      "text/plain": [
       "{'AISJDKFJW93NJ': [10, 12, 15, 18, 20, 22, 25, 28, 26, 30, 32, 29, 27, 24],\n",
       " 'DJKFIEI432FIE': [8, 10, 12, 15, 20, 18, 14, 13, 17, 10, 8, 11, 14, 16],\n",
       " 'GGOENEBJ079499': [15, 18, 22, 25, 28, 20, 17, 23, 19, 21, 24, 27, 18, 20],\n",
       " 'HJSKNWK429DJE': [30, 32, 35, 38, 40, 42, 45, 48, 50, 52, 55, 53, 49, 47],\n",
       " 'JFKL3940NFKLJ': [18, 20, 22, 25, 28, 30, 32, 35, 38, 36, 33, 29, 26, 24],\n",
       " 'LKDFJ49LSDJKL': [25, 28, 30, 32, 35, 38, 42, 40, 37, 34, 36, 31, 29, 27],\n",
       " 'MWKDI3JFK39SL': [30, 35, 40, 45, 50, 42, 37, 38, 41, 36, 33, 39, 40, 44],\n",
       " 'NEKFJOWE9FDIW': [12, 15, 18, 20, 22, 24, 21, 23, 25, 28, 30, 27, 26, 29],\n",
       " 'OWEJL398FWJLK': [20, 22, 25, 28, 30, 32, 35, 38, 36, 33, 29, 26, 24, 27],\n",
       " 'XPLFJW2490XJN': [5, 8, 9, 12, 15, 10, 14, 16, 20, 18, 22, 25, 19, 21],\n",
       " 'CMWKCILOP27KF': [8, 14, 16, 7, 15, 21, 14, 16, 32, 29, 26, 30, 25, 22],\n",
       " 'CMWKCILOP27KJ': [1, 2, 3, 4, 5, 6, 7, 1, 2, 3, 4, 5, 6, 7]}"
      ]
     },
     "execution_count": 77,
     "metadata": {},
     "output_type": "execute_result"
    }
   ],
   "source": [
    "sales_data"
   ]
  },
  {
   "cell_type": "code",
   "execution_count": 78,
   "metadata": {},
   "outputs": [
    {
     "data": {
      "text/plain": [
       "{'AISJDKFJW93NJ': \"Transform your living space with ArtCraft's NatureCanvas-1001 Wall Art Print.\\nThis canvas print, ready to hang, brings the beauty of nature into your home.\\nWith dimensions of 16 x 20 inches and a 4.6/5 stars rating, it's a stunning addition to your decor, creating a focal point that captures attention and sparks conversation.\",\n",
       " 'DJKFIEI432FIE': \"Elevate your running experience with the RunFit SpeedX-500 Men's Running Shoes.\\nDesigned for performance, these shoes feature a lightweight design, breathable material, and are available in vibrant Red, Blue, and classic Black.\\nWhether you're a seasoned runner or just starting, these shoes provide comfort and support for every stride, ensuring you reach new milestones effortlessly.\",\n",
       " 'GGOENEBJ079499': 'Dive into the future with the XYZ Electronics Smartphone, model ABC-2000.\\nBoasting a 6.5-inch display, 128GB storage, and a 16MP camera, this powerful device redefines the smartphone experience.\\nWith a sleek design and available in Black, Silver, and Blue, it combines cutting-edge technology with style, ensuring you stay connected in the most sophisticated way possible.',\n",
       " 'HJSKNWK429DJE': \"Immerse yourself in superior audio quality with SoundSync's TunePro-2022 Wireless Earbuds.\\nFeaturing Bluetooth 5.0, 20 hours of battery life, and touch controls, these earbuds deliver a seamless and immersive listening experience.\\nAvailable in Black and White, they combine style with functionality for music lovers on the go. \\nWith a 4.7/5 stars rating, they stand out as a top choice in the realm of wireless audio.\",\n",
       " 'JFKL3940NFKLJ': \"Embrace versatility in your workouts with FitFlex's StrengthPro-300 Resistance Bands Set.\\nWith 5 bands offering varying resistance levels and portability, this set is your go-to for effective strength training.\\nAvailable in Red, Yellow, and Blue, it caters to different fitness levels and adds a dynamic dimension to your exercise routine.\",\n",
       " 'LKDFJ49LSDJKL': \"Rediscover youthful radiance with GlowBeauty's AgeDefy-300 Anti-Aging Face Cream.\\nFormulated with natural ingredients and a hydrating formula, this skincare essential rejuvenates and nourishes your skin, leaving you with a vibrant and refreshed complexion.\\nWith a stellar 4.7/5 stars rating, it's a must-have for those embracing the journey to ageless beauty.\",\n",
       " 'MWKDI3JFK39SL': \"Immerse yourself in the world of storytelling with BestBooks' Fictional Novel.\\nThis paperback, spanning 300 pages, promises a captivating journey through the pages of an engaging narrative.\\nIdeal for avid readers seeking an escape, this novel, with a 4.6/5 stars rating, is a testament to its ability to weave a compelling tale that keeps you hooked until the last page.\",\n",
       " 'NEKFJOWE9FDIW': \"Unleash the fun with FamilyFun's GameNight-2022 Board Game.\\nDesigned for 2-6 players and suitable for ages 8 and up, this exciting game promises laughter and bonding moments for the entire family.\\nWith a 4.4/5 stars rating, it's a testament to its ability to turn any ordinary night into an extraordinary game night filled with friendly competition and shared joy.\",\n",
       " 'OWEJL398FWJLK': \"Elevate your yoga practice with ZenFitness' EcoMat-500 Yoga Mat.\\nFeaturing a non-slip surface, 6mm thickness, and eco-friendly materials, this high-quality mat provides the perfect foundation for your workouts.\\nAvailable in Purple, Green, and Blue, it not only enhances your comfort but also adds a touch of serenity to your exercise routine.\",\n",
       " 'XPLFJW2490XJN': 'Introducing the CleanTech AutoSweep-9000 Robot Vacuum Cleaner â€“ your smart companion for automated cleaning.\\nWith smart navigation, a HEPA filter, and a runtime of 90 minutes, this efficient device takes care of your cleaning needs.\\nAvailable in White and Silver, it blends seamlessly into your home, making cleanliness a hassle-free experience.',\n",
       " 'CMWKCILOP27KF': 'Original Pokemon TCG Pikachu card',\n",
       " 'CMWKCILOP27KJ': 'Nice Raichu card'}"
      ]
     },
     "execution_count": 78,
     "metadata": {},
     "output_type": "execute_result"
    }
   ],
   "source": [
    "product_descriptions"
   ]
  },
  {
   "cell_type": "markdown",
   "metadata": {
    "id": "aC5XgGg0UF4n"
   },
   "source": [
    "### Checklist\n",
    "- Prompt for and validate SKU length (13 characters).\n",
    "- Collected sales data for 14 days and ensure it includes exactly 14 integers.\n",
    "- Gathered product name, brand, model, specifications, price, and availability\n",
    "- Collected a textual description of the product.\n",
    "- Updated `product_details`, `sales_data`, and `product_descriptions` dictionaries after successful data validation.\n",
    "- Returned the updated dictionaries in the correct order.\n",
    "- Performed all validations before dictionary updates to maintain data integrity."
   ]
  },
  {
   "cell_type": "markdown",
   "metadata": {
    "id": "YlCh6WDtCfd2"
   },
   "source": [
    "# Stage 3 - Read\n",
    "In this stage, you will focus on reading and displaying the existing data for products. This involves fetching and presenting information such as sales data, product details, and product descriptions based on the product sku the user inputs.\n",
    "- Task 8  - Display sales data\n",
    "- Task 9  - Display product details\n",
    "- Task 10 - Display product descriptions\n",
    "- Task 11 - Read function"
   ]
  },
  {
   "cell_type": "markdown",
   "metadata": {
    "id": "3R70iqW55eNi"
   },
   "source": [
    "## Task 8 - Display sales data"
   ]
  },
  {
   "cell_type": "markdown",
   "metadata": {
    "id": "1ugoJmHNT7hY"
   },
   "source": [
    "### Description\n",
    "This task involves creating a function to display sales data for a product based on its SKU."
   ]
  },
  {
   "cell_type": "markdown",
   "metadata": {
    "id": "SKF4W01zT7hZ"
   },
   "source": [
    "### Requirements\n",
    "- Define a function named `display_sales_data()` that displays sales data for a product with a given SKU.\n",
    "- The function should accept two parameters:\n",
    "   - `sales_data`: A dictionary containing sales data.\n",
    "   - `sku`: A string representing the product SKU.\n",
    "- The function should pretty print the sales data associated with the provided SKU.\n",
    "- The function should not return any value.\n"
   ]
  },
  {
   "cell_type": "markdown",
   "metadata": {
    "id": "6021VZyTT7hZ"
   },
   "source": [
    "### Recommendations\n",
    "- Use the `pprint` module for pretty printing the sales data.\n",
    "- Read more about `pprint` [here](https://docs.python.org/3/library/pprint.html).\n",
    "- Provide the data description and requirements to ChatGPT along with the libraries that you are using and ask it to generate code for the function.\n",
    "- If you get stuck somewhere, you can ask ChatGPT to explain the code to you and you can make edits as required."
   ]
  },
  {
   "cell_type": "code",
   "execution_count": 79,
   "metadata": {
    "id": "wbX5901q5ej4"
   },
   "outputs": [
    {
     "name": "stdin",
     "output_type": "stream",
     "text": [
      "Enter the SKU to display sales data:  CMWKCILOP27KJ\n"
     ]
    },
    {
     "name": "stdout",
     "output_type": "stream",
     "text": [
      "Sales data for SKU 'CMWKCILOP27KJ':\n",
      "[1, 2, 3, 4, 5, 6, 7, 1, 2, 3, 4, 5, 6, 7]\n"
     ]
    }
   ],
   "source": [
    "import pprint\n",
    "def display_sales_data(sales_data, sku):\n",
    "    \"\"\"\n",
    "    Display sales data for a product with a given SKU.\n",
    "\n",
    "    Parameters:\n",
    "        sales_data (dict): A dictionary containing sales data.\n",
    "        sku (str): The SKU of the product.\n",
    "\n",
    "    Returns:\n",
    "        None\n",
    "    \"\"\"\n",
    "    if sku in sales_data:\n",
    "        print(f\"Sales data for SKU '{sku}':\")\n",
    "        pprint.pprint(sales_data[sku])\n",
    "    else:\n",
    "        print(f\"No sales data found for SKU '{sku}'.\")\n",
    "\n",
    "\n",
    "sku_to_display = input(\"Enter the SKU to display sales data: \")\n",
    "display_sales_data(sales_data, sku_to_display)"
   ]
  },
  {
   "cell_type": "code",
   "execution_count": null,
   "metadata": {},
   "outputs": [],
   "source": []
  },
  {
   "cell_type": "markdown",
   "metadata": {
    "id": "VzXYoHX0UGox"
   },
   "source": [
    "### Checklist\n",
    "- Function `display_sales_data()` defined.\n",
    "- Sales data for the specified product SKU displayed."
   ]
  },
  {
   "cell_type": "markdown",
   "metadata": {
    "id": "NroXZVie5fHA"
   },
   "source": [
    "## Task 9 - Display product details\n"
   ]
  },
  {
   "cell_type": "markdown",
   "metadata": {
    "id": "Uh_43T7oT8JJ"
   },
   "source": [
    "### Description\n",
    "This task involves creating a function to display product details for a product based on its SKU.\n"
   ]
  },
  {
   "cell_type": "markdown",
   "metadata": {
    "id": "NLghuuxdT8JQ"
   },
   "source": [
    "### Requirements\n",
    "- Define a function named `display_product_details()` that displays product details for a product with a given SKU.\n",
    "- The function should accept two parameters:\n",
    "   - `product_details`: A dictionary containing product details.\n",
    "   - `sku`: A string representing the product SKU.\n",
    "- The function should pretty print the details of the product corresponding to the provided SKU.\n",
    "- The function should not return any value.\n"
   ]
  },
  {
   "cell_type": "markdown",
   "metadata": {
    "id": "-PTQskqlT8JR"
   },
   "source": [
    "### Recommendations\n",
    "- Utilize the `pprint` module for pretty printing the product details.\n",
    "- Read more about `pprint` [here](https://docs.python.org/3/library/pprint.html).\n",
    "- Provide the data description and requirements to ChatGPT along with the libraries that you are using and ask it to generate code for the function.\n",
    "- If you get stuck somewhere, you can ask ChatGPT to explain the code to you and you can make edits as required."
   ]
  },
  {
   "cell_type": "code",
   "execution_count": 80,
   "metadata": {
    "id": "oMgOHxUg5fZo"
   },
   "outputs": [
    {
     "name": "stdin",
     "output_type": "stream",
     "text": [
      "Enter the SKU to display product details:  CMWKCILOP27KJ\n"
     ]
    },
    {
     "name": "stdout",
     "output_type": "stream",
     "text": [
      "Product details for SKU 'CMWKCILOP27KJ' is:\n",
      "{'Availability': 'In stock',\n",
      " 'Brand': 'Pokemon',\n",
      " 'Model': 'GameFreak',\n",
      " 'Price': 2.0,\n",
      " 'Product_Name': 'Pokemon Card Raichu',\n",
      " 'Specifications': 'Nice card'}\n"
     ]
    }
   ],
   "source": [
    "def display_product_details(product_details, sku):\n",
    "    \"\"\"\n",
    "    Display product details for a product with a given SKU.\n",
    "\n",
    "    Parameters:\n",
    "        product_details (dict): The dictionary containing product details.\n",
    "        sku (str): The product SKU.\n",
    "\n",
    "    Returns:\n",
    "        None\n",
    "    \"\"\"\n",
    "    if sku in product_details:\n",
    "        print(f\"Product details for SKU '{sku}' is:\")\n",
    "        pprint.pprint(product_details[sku])\n",
    "    else:\n",
    "        print(f\"No product details found for SKU '{sku}'.\")\n",
    "\n",
    "sku_display = input(\"Enter the SKU to display product details: \")\n",
    "display_product_details(product_details, sku_display)"
   ]
  },
  {
   "cell_type": "markdown",
   "metadata": {
    "id": "mW3o6GhTCxnC"
   },
   "source": [
    "Check your code here."
   ]
  },
  {
   "cell_type": "markdown",
   "metadata": {
    "id": "DKCn6a7tUHVE"
   },
   "source": [
    "### Checklist\n",
    "- Function `display_product_details()` defined.\n",
    "- Product details for the specified product SKU displayed."
   ]
  },
  {
   "cell_type": "markdown",
   "metadata": {
    "id": "ERPSSzKP5fxA"
   },
   "source": [
    "## Task 10 - Display product description"
   ]
  },
  {
   "cell_type": "markdown",
   "metadata": {
    "id": "eHd0CTPnT8lp"
   },
   "source": [
    "### Description\n",
    "This task involves creating a function to display product description for a product based on its SKU.\n"
   ]
  },
  {
   "cell_type": "markdown",
   "metadata": {
    "id": "1OePwmU4T8lq"
   },
   "source": [
    "### Requirements\n",
    "- Define a function named `display_product_descriptions()` that displays the product description for a product with a given SKU.\n",
    "- The function should accept two parameters:\n",
    "   - `product_descriptions`: A dictionary containing product descriptions.\n",
    "   - `sku`: A string representing the product SKU.\n",
    "- The function should using pretty print the product description for that SKU.\n",
    "- The function should not return any value.\n"
   ]
  },
  {
   "cell_type": "markdown",
   "metadata": {
    "id": "O6jZw_84T8lq"
   },
   "source": [
    "### Recommendations\n",
    "- Provide the data description and requirements to ChatGPT along with the libraries that you are using and ask it to generate code for the function.\n",
    "- If you get stuck somewhere, you can ask ChatGPT to explain the code to you and you can make edits as required."
   ]
  },
  {
   "cell_type": "code",
   "execution_count": 81,
   "metadata": {
    "id": "yYDYdMFQ5gGX"
   },
   "outputs": [
    {
     "name": "stdin",
     "output_type": "stream",
     "text": [
      "Enter the SKU to display product description:  CMWKCILOP27KJ\n"
     ]
    },
    {
     "name": "stdout",
     "output_type": "stream",
     "text": [
      "Product description for SKU 'CMWKCILOP27KJ' \n",
      "'Nice Raichu card'\n"
     ]
    }
   ],
   "source": [
    "def display_product_descriptions(product_descriptions, sku):\n",
    "    \"\"\"\n",
    "    Display product description for a product with a given SKU.\n",
    "\n",
    "    Parameters:\n",
    "        product_descriptions (dict): The dictionary containing product descriptions.\n",
    "        sku (str): The product SKU.\n",
    "\n",
    "    Returns:\n",
    "        None\n",
    "    \"\"\"\n",
    "    if sku in product_descriptions:\n",
    "        print(f\"Product description for SKU '{sku}' \")\n",
    "        pprint.pprint(product_descriptions[sku])\n",
    "    else:\n",
    "        print(f\"No product description found for SKU '{sku}'.\")\n",
    "\n",
    "sku_display = input(\"Enter the SKU to display product description: \")\n",
    "display_product_descriptions(product_descriptions, sku_display)\n"
   ]
  },
  {
   "cell_type": "markdown",
   "metadata": {
    "id": "mXnYw13fCy3w"
   },
   "source": [
    "Check your code here."
   ]
  },
  {
   "cell_type": "markdown",
   "metadata": {
    "id": "eSxW5hEpUHx3"
   },
   "source": [
    "### Checklist\n",
    "- Function `display_product_descriptions(`) defined.\n",
    "- Product description for the specified product SKU displayed."
   ]
  },
  {
   "cell_type": "markdown",
   "metadata": {
    "id": "9yuXz53S5gYn"
   },
   "source": [
    "## Task 11 - Read function"
   ]
  },
  {
   "cell_type": "markdown",
   "metadata": {
    "id": "7IV9-DRXT9II"
   },
   "source": [
    "### Description\n",
    "This task involves creating a main function `read()` that calls the functions defined in tasks 8, 9, and 10 to display sales data, product details, and product description."
   ]
  },
  {
   "cell_type": "markdown",
   "metadata": {
    "id": "DXOdZVpxT9IO"
   },
   "source": [
    "### Requirements\n",
    "- Define a function named `read()` that reads and displays sales data, product details, and product descriptions for a given product SKU.\n",
    "- The function should accept three parameters:\n",
    "  - `sales_data`: A dictionary containing sales data. Each entry maps an SKU to a list of sales quantities.\n",
    "  - `product_details`: A dictionary containing product details. Each entry maps an SKU to its corresponding product details.\n",
    "  - `product_descriptions`: A dictionary containing product descriptions. Each entry maps an SKU to its corresponding textual description.\n",
    "- The function performs the following operations:\n",
    "  - Prompts the user to input the SKU of the product they wish to inquire about.\n",
    "  - Checks if the provided SKU exists in any of the dictionaries (`sales_data`, `product_details`, or `product_descriptions`). If the SKU does not exist in any of these dictionaries, the function prints a message indicating that the product SKU was not found and exits early without performing any further actions.\n",
    "  - If the SKU exists, the function proceeds to display the sales data, product details, and product descriptions associated with that SKU. This is done by calling separate functions (`display_sales_data()`, `display_product_details()`, `display_product_descriptions()`) for each type of information, passing the respective dictionary and the SKU as arguments.\n",
    "- The function returns `None`.\n",
    "- This function is intended to provide a comprehensive overview of a product's information stored across different dictionaries, facilitating easy access to sales figures, detailed product information, and descriptive texts based on the product's SKU.\n"
   ]
  },
  {
   "cell_type": "markdown",
   "metadata": {
    "id": "2cJ6Ez67T9IO"
   },
   "source": [
    "### Recommendations\n",
    "- In cases where the SKU doesn't exist in the dataset, print a message and exit the function.\n",
    "- Provide the data description and requirements to ChatGPT along with the libraries that you are using and ask it to generate code for the function.\n",
    "- If you get stuck somewhere, you can ask ChatGPT to explain the code to you and you can make edits as required."
   ]
  },
  {
   "cell_type": "code",
   "execution_count": 82,
   "metadata": {
    "id": "ZghUP8YR5gsq"
   },
   "outputs": [
    {
     "name": "stdin",
     "output_type": "stream",
     "text": [
      "Enter the SKU of the product you wish to inquire about:  CMWKCILOP27KJ\n"
     ]
    },
    {
     "name": "stdout",
     "output_type": "stream",
     "text": [
      "Sales data for SKU 'CMWKCILOP27KJ':\n",
      "[1, 2, 3, 4, 5, 6, 7, 1, 2, 3, 4, 5, 6, 7]\n",
      "Product details for SKU 'CMWKCILOP27KJ' is:\n",
      "{'Availability': 'In stock',\n",
      " 'Brand': 'Pokemon',\n",
      " 'Model': 'GameFreak',\n",
      " 'Price': 2.0,\n",
      " 'Product_Name': 'Pokemon Card Raichu',\n",
      " 'Specifications': 'Nice card'}\n",
      "Product description for SKU 'CMWKCILOP27KJ' \n",
      "'Nice Raichu card'\n"
     ]
    }
   ],
   "source": [
    "def read(sales_data, product_details, product_descriptions):\n",
    "    \"\"\"\n",
    "    Main function to read and display sales data, product details, and product descriptions.\n",
    "    Checks if the SKU exists in any of the dictionaries before proceeding. If the SKU does not exist, prints a message and exits the function early.\n",
    "\n",
    "    Parameters:\n",
    "        sales_data (dict): The dictionary containing sales data.\n",
    "        product_details (dict): The dictionary containing product details.\n",
    "        product_descriptions (dict): The dictionary containing product descriptions.\n",
    "\n",
    "    Returns:\n",
    "        None\n",
    "    \"\"\"\n",
    "    sku_check = input(\"Enter the SKU of the product you wish to inquire about: \")\n",
    "\n",
    "    if sku_check not in sales_data and sku_check not in product_details and sku_check not in product_descriptions:\n",
    "        print(f\"No information found for SKU '{sku_check}'. Exiting.\")\n",
    "        return\n",
    "\n",
    "    if sku_check in sales_data:\n",
    "        display_sales_data(sales_data, sku_check)\n",
    "\n",
    "    if sku_check in product_details:\n",
    "        display_product_details(product_details, sku_check)\n",
    "\n",
    "    if sku_check in product_descriptions:\n",
    "        display_product_descriptions(product_descriptions, sku_check)  \n",
    "        \n",
    "read(sales_data, product_details, product_descriptions)"
   ]
  },
  {
   "cell_type": "markdown",
   "metadata": {
    "id": "A7U1vI-sC0jJ"
   },
   "source": [
    "Check your code here."
   ]
  },
  {
   "cell_type": "markdown",
   "metadata": {
    "id": "w2Q-gJflUIyL"
   },
   "source": [
    "### Checklist\n",
    "- Function `read()` defined.\n",
    "- Checked whether the SKU exists in the dictionaries.\n",
    "- Edge cases where the SKU doesn't exist were handled properly.\n",
    "- User prompted to enter a product SKU.\n",
    "- Displayed functions called with the entered product SKU."
   ]
  },
  {
   "cell_type": "markdown",
   "metadata": {
    "id": "Y6uVPHPlCfpL"
   },
   "source": [
    "# Stage 4 - Update\n",
    "In this stage, you will focus on modifying existing data in our system. This includes updating sales data, product details, and product descriptions for existing products. Let's outline the tasks for this stage:\n",
    "\n",
    "- Task 12 - Update sales data\n",
    "- Task 13 - Update product details\n",
    "- Task 14 - Update product description\n",
    "- Task 15 - Update function"
   ]
  },
  {
   "cell_type": "markdown",
   "metadata": {
    "id": "uO1VEdzmyW7L"
   },
   "source": [
    "## Task 12 - Update sales data"
   ]
  },
  {
   "cell_type": "markdown",
   "metadata": {
    "id": "xn5fhQKpT9rd"
   },
   "source": [
    "### Description\n",
    "This task involves updating the sales data of an existing product."
   ]
  },
  {
   "cell_type": "markdown",
   "metadata": {
    "id": "TGHBktHWT9re"
   },
   "source": [
    "### Requirements\n",
    "- Define a function named `update_sales_data()` that updates the sales data of an existing product with the provided quantities.\n",
    "- The function should accept three parameters:\n",
    "  - `sales_data`: A dictionary containing sales data. Each entry maps an SKU to a list of sales quantities for the last 14 days.\n",
    "  - `sku`: A string representing the validated SKU of the product to be updated.\n",
    "  - `quantities`: A list of integers representing the validated sales quantities for all 14 days to be updated for the product.\n",
    "- The function assumes that both the `sku` and `quantities` have already been validated before being passed to this function.\n",
    "- The main operation of the function is to update the sales data for the given SKU with the new quantities provided. It directly assigns the new quantities to the corresponding SKU key in the `sales_data` dictionary.\n",
    "- The function returns the updated `sales_data` dictionary after successfully updating the sales quantities for the specified SKU.\n",
    "- This function is essential for maintaining accurate and up-to-date sales data for products within a system by allowing updates to sales figures based on new information or corrections to previously recorded data.\n"
   ]
  },
  {
   "cell_type": "markdown",
   "metadata": {
    "id": "m2-8vCwQT9re"
   },
   "source": [
    "### Recommendations\n",
    "- Provide the data description and requirements to ChatGPT along with the libraries that you are using and ask it to generate code for the function.\n",
    "- If you get stuck somewhere, you can ask ChatGPT to explain the code to you and you can make edits as required."
   ]
  },
  {
   "cell_type": "code",
   "execution_count": 83,
   "metadata": {
    "id": "RZ20VyrKyWgd"
   },
   "outputs": [
    {
     "name": "stdin",
     "output_type": "stream",
     "text": [
      "Enter the SKU to update (e.g., CMWKCILOP27KJ):  CMWKCILOP27KJ\n",
      "Enter new sales quantities for SKU 'CMWKCILOP27KJ' for the last 14 days, separated by commas:  1, 2, 3, 4, 5, 6, 7, 7, 6, 5, 4, 3, 2, 1\n"
     ]
    },
    {
     "name": "stdout",
     "output_type": "stream",
     "text": [
      "Sales data for SKU 'CMWKCILOP27KJ' updated successfully.\n"
     ]
    }
   ],
   "source": [
    "def update_sales_data(sales_data, main_folder):\n",
    "    \"\"\"\n",
    "    Update the sales data for a specific SKU.\n",
    "\n",
    "    Parameters:\n",
    "        sales_data (dict): Dictionary containing sales data.\n",
    "        main_folder (str): Path to the main folder containing the dataset.\n",
    "\n",
    "    Returns:\n",
    "        dict: Updated sales data.\n",
    "    \"\"\"\n",
    "    sku = input(\"Enter the SKU to update (e.g., CMWKCILOP27KJ): \")\n",
    "    \n",
    "    # Validate if SKU exists\n",
    "    if sku not in sales_data:\n",
    "        print(f\"Error: SKU '{sku}' not found in sales data.\")\n",
    "        return sales_data\n",
    "    \n",
    "    # Prompt user for new quantities\n",
    "    try:\n",
    "        quantities_input = input(f\"Enter new sales quantities for SKU '{sku}' for the last 14 days, separated by commas: \")\n",
    "        new_quantities = list(map(int, quantities_input.split(',')))\n",
    "        if len(new_quantities) != 14:\n",
    "            raise ValueError(\"Sales data must consist of exactly 14 integers.\")\n",
    "    except ValueError as e:\n",
    "        print(f\"Error: {e}\")\n",
    "        return sales_data\n",
    "    \n",
    "    # Update sales data\n",
    "    sales_data[sku] = new_quantities\n",
    "    \n",
    "    # Save updated sales data to CSV\n",
    "    save_sales_data_to_csv(sales_data, main_folder)\n",
    "    \n",
    "    print(f\"Sales data for SKU '{sku}' updated successfully.\")\n",
    "    \n",
    "    return sales_data\n",
    "\n",
    "def load_sales_data_from_csv(main_folder):\n",
    "    \"\"\"\n",
    "    Load sales data from the sales_data.csv file.\n",
    "\n",
    "    Parameters:\n",
    "        main_folder (str): Path to the main folder containing the dataset.\n",
    "\n",
    "    Returns:\n",
    "        dict: Dictionary containing sales data.\n",
    "    \"\"\"\n",
    "    sales_data_path = os.path.join(main_folder, 'sales_data.csv')\n",
    "    sales_data = {}\n",
    "\n",
    "    try:\n",
    "        with open(sales_data_path, mode='r', newline='') as csvfile:\n",
    "            reader = csv.DictReader(csvfile)\n",
    "            for row in reader:\n",
    "                sku = row['Product_SKU']\n",
    "                quantities = [int(row[f'Day_{i+1}']) for i in range(14)]\n",
    "                sales_data[sku] = quantities\n",
    "    except FileNotFoundError:\n",
    "        print(f\"Error: Could not find the sales data file at '{sales_data_path}'.\")\n",
    "    \n",
    "    return sales_data\n",
    "\n",
    "def save_sales_data_to_csv(sales_data, main_folder):\n",
    "    \"\"\"\n",
    "    Save sales data to the sales_data.csv file.\n",
    "\n",
    "    Parameters:\n",
    "        sales_data (dict): Dictionary containing sales data.\n",
    "        main_folder (str): Path to the main folder containing the dataset.\n",
    "\n",
    "    Returns:\n",
    "        None\n",
    "    \"\"\"\n",
    "    sales_data_path = os.path.join(main_folder, 'sales_data.csv')\n",
    "\n",
    "    with open(sales_data_path, mode='w', newline='') as csvfile:\n",
    "        fieldnames = ['Product_SKU'] + [f'Day_{i+1}' for i in range(14)]\n",
    "        writer = csv.DictWriter(csvfile, fieldnames=fieldnames)\n",
    "        writer.writeheader()\n",
    "        for sku, quantities in sales_data.items():\n",
    "            writer.writerow({'Product_SKU': sku, **{f'Day_{i+1}': qty for i, qty in enumerate(quantities)}})\n",
    "\n",
    "def main():\n",
    "    main_folder = r'C:\\Users\\soura\\OneDrive\\Documents\\NEHA UPGRAD\\mainfolder'\n",
    "    \n",
    "    # Load initial sales data\n",
    "    sales_data = load_sales_data_from_csv(main_folder)\n",
    "\n",
    "    # Update sales data for a specific SKU\n",
    "    sales_data = update_sales_data(sales_data, main_folder)\n",
    "main()"
   ]
  },
  {
   "cell_type": "markdown",
   "metadata": {
    "id": "Zb48M1ckC1hw"
   },
   "source": [
    "Check your code here."
   ]
  },
  {
   "cell_type": "code",
   "execution_count": 84,
   "metadata": {},
   "outputs": [
    {
     "data": {
      "text/plain": [
       "{'AISJDKFJW93NJ': [10, 12, 15, 18, 20, 22, 25, 28, 26, 30, 32, 29, 27, 24],\n",
       " 'DJKFIEI432FIE': [8, 10, 12, 15, 20, 18, 14, 13, 17, 10, 8, 11, 14, 16],\n",
       " 'GGOENEBJ079499': [15, 18, 22, 25, 28, 20, 17, 23, 19, 21, 24, 27, 18, 20],\n",
       " 'HJSKNWK429DJE': [30, 32, 35, 38, 40, 42, 45, 48, 50, 52, 55, 53, 49, 47],\n",
       " 'JFKL3940NFKLJ': [18, 20, 22, 25, 28, 30, 32, 35, 38, 36, 33, 29, 26, 24],\n",
       " 'LKDFJ49LSDJKL': [25, 28, 30, 32, 35, 38, 42, 40, 37, 34, 36, 31, 29, 27],\n",
       " 'MWKDI3JFK39SL': [30, 35, 40, 45, 50, 42, 37, 38, 41, 36, 33, 39, 40, 44],\n",
       " 'NEKFJOWE9FDIW': [12, 15, 18, 20, 22, 24, 21, 23, 25, 28, 30, 27, 26, 29],\n",
       " 'OWEJL398FWJLK': [20, 22, 25, 28, 30, 32, 35, 38, 36, 33, 29, 26, 24, 27],\n",
       " 'XPLFJW2490XJN': [5, 8, 9, 12, 15, 10, 14, 16, 20, 18, 22, 25, 19, 21],\n",
       " 'CMWKCILOP27KF': [8, 14, 16, 7, 15, 21, 14, 16, 32, 29, 26, 30, 25, 22],\n",
       " 'CMWKCILOP27KJ': [1, 2, 3, 4, 5, 6, 7, 1, 2, 3, 4, 5, 6, 7]}"
      ]
     },
     "execution_count": 84,
     "metadata": {},
     "output_type": "execute_result"
    }
   ],
   "source": [
    "sales_data"
   ]
  },
  {
   "cell_type": "markdown",
   "metadata": {
    "id": "3NUHjMExUJvf"
   },
   "source": [
    "### Checklist\n",
    "- Update the `sales_data` dictionary with the new quantities.\n",
    "- Return the new `sales_data` dictionary."
   ]
  },
  {
   "cell_type": "markdown",
   "metadata": {
    "id": "SbmrftedyEM8"
   },
   "source": [
    "## Task 13 - Update product details"
   ]
  },
  {
   "cell_type": "markdown",
   "metadata": {
    "id": "dlSO4g_xT-GM"
   },
   "source": [
    "### Description\n",
    "This task involves updating the product details of an existing product.\n"
   ]
  },
  {
   "cell_type": "markdown",
   "metadata": {
    "id": "jiZukcFgT-GM"
   },
   "source": [
    "### Requirements\n",
    "- Define a function named `update_product_details()` that updates the product details of an existing product with the provided details.\n",
    "- The function should accept three parameters:\n",
    "  - `product_details`: A dictionary containing product details. Each entry maps an SKU to its corresponding set of product details, such as name, brand, model, specifications, price, and availability.\n",
    "  - `sku`: A string representing the SKU of the product to be updated.\n",
    "  - `updated_details`: A dictionary containing the validated updated details for the product. This dictionary should include information similar to what is stored in the `product_details` dictionary, such as product name, brand, model, specifications, price, and availability.\n",
    "- The function assumes that the existence of the `sku` in the `product_details` dictionary and the validity of the `updated_details` have already been validated prior to calling this function.\n",
    "- The main operation of the function is to update the product details for the given SKU with the provided updated details. It directly assigns the `updated_details` dictionary to the corresponding SKU key in the `product_details` dictionary.\n",
    "- The function returns the updated `product_details` dictionary after successfully updating the details for the specified SKU.\n",
    "- This function is crucial for maintaining accurate and up-to-date product information within a system by allowing for modifications to product details based on new information, corrections to previously recorded information, or changes in product specifications.\n"
   ]
  },
  {
   "cell_type": "markdown",
   "metadata": {
    "id": "zJJASHeCT-GM"
   },
   "source": [
    "### Recommendations\n",
    "- Provide the data description and requirements to ChatGPT along with the libraries that you are using and ask it to generate code for the function.\n",
    "- If you get stuck somewhere, you can ask ChatGPT to explain the code to you and you can make edits as required."
   ]
  },
  {
   "cell_type": "code",
   "execution_count": 85,
   "metadata": {
    "id": "ahwXZ7NyyDGD"
   },
   "outputs": [
    {
     "name": "stdin",
     "output_type": "stream",
     "text": [
      "Enter the SKU of the product to update:  CMWKCILOP27KJ\n"
     ]
    },
    {
     "name": "stdout",
     "output_type": "stream",
     "text": [
      "Updating product details for SKU 'CMWKCILOP27KJ'...\n"
     ]
    },
    {
     "name": "stdin",
     "output_type": "stream",
     "text": [
      "Enter the updated product name:  Pokemon Card Raichu\n",
      "Enter the updated brand:  Pokemon\n",
      "Enter the updated model:  GameFreak\n",
      "Enter the updated specifications:  Nice card\n",
      "Enter the updated price:  $5\n",
      "Is the product in stock? (Yes/No):  no\n"
     ]
    },
    {
     "name": "stdout",
     "output_type": "stream",
     "text": [
      "Product details for SKU CMWKCILOP27KJ updated successfully!\n"
     ]
    }
   ],
   "source": [
    "def update_product_details(product_details, sku, updated_details):\n",
    "    \"\"\"\n",
    "    Update the product details of an existing product with the provided details. Assumes that the SKU existence and \n",
    "    the validity of the updated details have been validated beforehand.\n",
    "\n",
    "    Parameters:\n",
    "        product_details (dict): The dictionary containing product details.\n",
    "        sku (str): The SKU of the product to update.\n",
    "        updated_details (dict): The validated updated details for the product.\n",
    "\n",
    "    Returns:\n",
    "        dict: The updated product details.\n",
    "    \"\"\"\n",
    "    product_details[sku] = updated_details\n",
    "    return product_details\n",
    "\n",
    "def save_product_details(product_details, main_folder):\n",
    "    \"\"\"\n",
    "    Save product details to individual JSON files.\n",
    "\n",
    "    Parameters:\n",
    "        product_details (dict): Dictionary containing product details.\n",
    "        main_folder (str): Path to the main folder containing the dataset.\n",
    "\n",
    "    Returns:\n",
    "        None\n",
    "    \"\"\"\n",
    "    product_details_folder = os.path.join(main_folder, 'product_details')\n",
    "    os.makedirs(product_details_folder, exist_ok=True)\n",
    "\n",
    "    for sku, details in product_details.items():\n",
    "        details_filename = f\"details_{sku}.json\"\n",
    "        details_path = os.path.join(product_details_folder, details_filename)\n",
    "        \n",
    "        with open(details_path, 'w') as jsonfile:\n",
    "            json.dump(details, jsonfile, indent=4)\n",
    "\n",
    "def load_product_details(main_folder):\n",
    "    \"\"\"\n",
    "    Load product details from individual JSON files.\n",
    "\n",
    "    Parameters:\n",
    "        main_folder (str): Path to the main folder containing the dataset.\n",
    "\n",
    "    Returns:\n",
    "        dict: Dictionary containing product details.\n",
    "    \"\"\"\n",
    "    product_details_folder = os.path.join(main_folder, 'product_details')\n",
    "    product_details = {}\n",
    "\n",
    "    if os.path.exists(product_details_folder):\n",
    "        for filename in os.listdir(product_details_folder):\n",
    "            if filename.startswith('details_') and filename.endswith('.json'):\n",
    "                sku = filename[8:-5]  # Extract SKU from filename\n",
    "                details_path = os.path.join(product_details_folder, filename)\n",
    "                \n",
    "                with open(details_path, 'r') as jsonfile:\n",
    "                    product_details[sku] = json.load(jsonfile)\n",
    "    \n",
    "    return product_details\n",
    "\n",
    "def clean_price_input(price_str):\n",
    "    \"\"\"\n",
    "    Clean and validate the price input string.\n",
    "\n",
    "    Parameters:\n",
    "        price_str (str): The input string for the price.\n",
    "\n",
    "    Returns:\n",
    "        float: The cleaned and validated price as a float.\n",
    "    \"\"\"\n",
    "    cleaned_price_str = price_str.replace('$', '').strip()  # Remove '$' and any surrounding whitespace\n",
    "    try:\n",
    "        return float(cleaned_price_str)\n",
    "    except ValueError:\n",
    "        raise ValueError(\"Invalid price format. Please enter a valid numeric price.\")\n",
    "\n",
    "def prompt_update_product_details(product_details, main_folder):\n",
    "    \"\"\"\n",
    "    Prompt the user to update product details for a specific SKU and save the updated details to file.\n",
    "\n",
    "    Parameters:\n",
    "        product_details (dict): Dictionary containing product details.\n",
    "        main_folder (str): Path to the main folder containing the dataset.\n",
    "\n",
    "    Returns:\n",
    "        None\n",
    "    \"\"\"\n",
    "    sku = input(\"Enter the SKU of the product to update: \")\n",
    "    if sku in product_details:\n",
    "        print(f\"Updating product details for SKU '{sku}'...\")\n",
    "        updated_details = {\n",
    "            'Product_Name': input(\"Enter the updated product name: \"),\n",
    "            'Brand': input(\"Enter the updated brand: \"),\n",
    "            'Model': input(\"Enter the updated model: \"),\n",
    "            'Specifications': input(\"Enter the updated specifications: \"),\n",
    "            'Price': clean_price_input(input(\"Enter the updated price: \")),  # Clean and validate price input\n",
    "            'Availability': input(\"Is the product in stock? (Yes/No): \").strip().capitalize()  # Normalize input\n",
    "        }\n",
    "        \n",
    "        product_details = update_product_details(product_details, sku, updated_details)\n",
    "        save_product_details(product_details, main_folder)\n",
    "        print(f\"Product details for SKU {sku} updated successfully!\")\n",
    "    else:\n",
    "        print(f\"Error: SKU '{sku}' not found in product details.\")\n",
    "\n",
    "prompt_update_product_details(product_details, main_folder)        \n"
   ]
  },
  {
   "cell_type": "markdown",
   "metadata": {
    "id": "JYNKrbLTC21i"
   },
   "source": [
    "Check your code here."
   ]
  },
  {
   "cell_type": "code",
   "execution_count": 86,
   "metadata": {},
   "outputs": [
    {
     "data": {
      "text/plain": [
       "{'AISJDKFJW93NJ': {'product_name': 'Wall Art Print',\n",
       "  'brand': 'ArtCraft',\n",
       "  'model': 'NatureCanvas-1001',\n",
       "  'specifications': 'Canvas print, Ready to hang',\n",
       "  'price': '$49.99',\n",
       "  'availability': 'In stock'},\n",
       " 'DJKFIEI432FIE': {'product_name': \"Men's Running Shoes\",\n",
       "  'brand': 'RunFit',\n",
       "  'model': 'SpeedX-500',\n",
       "  'specifications': 'Size 10, Lightweight design, Breathable material',\n",
       "  'price': '$79.99',\n",
       "  'availability': 'In stock'},\n",
       " 'GGOENEBJ079499': {'product_name': 'Smartphone',\n",
       "  'brand': 'XYZ Electronics',\n",
       "  'model': 'ABC-2000',\n",
       "  'specifications': '6.5-inch display, 128GB storage, 16MP camera',\n",
       "  'price': '$499.99',\n",
       "  'availability': 'In stock'},\n",
       " 'HJSKNWK429DJE': {'product_name': 'Wireless Earbuds',\n",
       "  'brand': 'SoundSync',\n",
       "  'model': 'TunePro-2022',\n",
       "  'specifications': 'Bluetooth 5.0, 20 hours battery life, Touch controls',\n",
       "  'price': '$89.99',\n",
       "  'availability': 'In stock'},\n",
       " 'JFKL3940NFKLJ': {'product_name': 'Resistance Bands Set',\n",
       "  'brand': 'FitFlex',\n",
       "  'model': 'StrengthPro-300',\n",
       "  'specifications': '5 bands, Varying resistance levels, Portable',\n",
       "  'price': '$34.99',\n",
       "  'availability': 'In stock'},\n",
       " 'LKDFJ49LSDJKL': {'product_name': 'Anti-Aging Face Cream',\n",
       "  'brand': 'GlowBeauty',\n",
       "  'model': 'AgeDefy-300',\n",
       "  'specifications': 'Natural ingredients, Hydrating formula',\n",
       "  'price': '$39.99',\n",
       "  'availability': 'In stock'},\n",
       " 'MWKDI3JFK39SL': {'product_name': 'Fictional Novel',\n",
       "  'brand': 'BestBooks',\n",
       "  'model': None,\n",
       "  'specifications': 'Paperback, 300 pages',\n",
       "  'price': '$14.99',\n",
       "  'availability': 'In stock'},\n",
       " 'NEKFJOWE9FDIW': {'product_name': 'Board Game',\n",
       "  'brand': 'FamilyFun',\n",
       "  'model': 'GameNight-2022',\n",
       "  'specifications': '2-6 players, Ages 8 and up',\n",
       "  'price': '$29.99',\n",
       "  'availability': 'In stock'},\n",
       " 'OWEJL398FWJLK': {'product_name': 'Yoga Mat',\n",
       "  'brand': 'ZenFitness',\n",
       "  'model': 'EcoMat-500',\n",
       "  'specifications': 'Non-slip, 6mm thickness, Eco-friendly material',\n",
       "  'price': '$19.99',\n",
       "  'availability': 'In stock'},\n",
       " 'XPLFJW2490XJN': {'product_name': 'Robot Vacuum Cleaner',\n",
       "  'brand': 'CleanTech',\n",
       "  'model': 'AutoSweep-9000',\n",
       "  'specifications': 'Smart navigation, HEPA filter, 90 minutes runtime',\n",
       "  'price': '$249.99',\n",
       "  'availability': 'In stock'},\n",
       " 'CMWKCILOP27KF': {'Product_Name': 'Pokemon Card',\n",
       "  'Brand': 'GameFreak',\n",
       "  'Model': 'ScarletViolet151',\n",
       "  'Specifications': 'Genuine, TCG, English',\n",
       "  'Price': 1.99,\n",
       "  'Availability': 'In stock'},\n",
       " 'CMWKCILOP27KJ': {'Product_Name': 'Pokemon Card Raichu',\n",
       "  'Brand': 'Pokemon',\n",
       "  'Model': 'GameFreak',\n",
       "  'Specifications': 'Nice card',\n",
       "  'Price': 5.0,\n",
       "  'Availability': 'No'}}"
      ]
     },
     "execution_count": 86,
     "metadata": {},
     "output_type": "execute_result"
    }
   ],
   "source": [
    "product_details"
   ]
  },
  {
   "cell_type": "code",
   "execution_count": null,
   "metadata": {},
   "outputs": [],
   "source": []
  },
  {
   "cell_type": "markdown",
   "metadata": {
    "id": "FuWcrSm7UKVt"
   },
   "source": [
    "### Checklist\n",
    "- Updated the `product_details` dictionary with the new details.\n",
    "- Returned the new `product_details` dictionary."
   ]
  },
  {
   "cell_type": "markdown",
   "metadata": {
    "id": "e_6XdxaIyCzd"
   },
   "source": [
    "## Task 14 - Update product description"
   ]
  },
  {
   "cell_type": "markdown",
   "metadata": {
    "id": "4i1H8jNxT-iQ"
   },
   "source": [
    "### Description\n",
    "This task involves updating the product description of an existing product.\n"
   ]
  },
  {
   "cell_type": "markdown",
   "metadata": {
    "id": "q2khS0DrT-iQ"
   },
   "source": [
    "### Requirements\n",
    "- Define a function named `update_product_description()` that updates the product description of an existing product with the provided description.\n",
    "- The function should accept three parameters:\n",
    "  - `product_descriptions`: A dictionary containing product descriptions. Each entry maps an SKU to its corresponding textual description.\n",
    "  - `sku`: A string representing the SKU of the product to be updated.\n",
    "  - `updated_description`: A string containing the validated updated description for the product.\n",
    "- The function assumes that the existence of the `sku` in the `product_descriptions` dictionary and the validity of the `updated_description` have already been validated prior to calling this function.\n",
    "- The main operation of the function is to update the product description for the given SKU with the provided updated description. It directly assigns the `updated_description` to the corresponding SKU key in the `product_descriptions` dictionary.\n",
    "- The function returns the updated `product_descriptions` dictionary after successfully updating the description for the specified SKU.\n",
    "- This function is essential for maintaining accurate and up-to-date product narratives within a system by allowing for modifications to product descriptions based on new insights, corrections to previously recorded descriptions, or enhancements to how a product is presented.\n"
   ]
  },
  {
   "cell_type": "markdown",
   "metadata": {
    "id": "rNJg79wST-iQ"
   },
   "source": [
    "### Recommendations\n",
    "- Provide the data description and requirements to ChatGPT along with the libraries that you are using and ask it to generate code for the function.\n",
    "- If you get stuck somewhere, you can ask ChatGPT to explain the code to you and you can make edits as required."
   ]
  },
  {
   "cell_type": "code",
   "execution_count": 87,
   "metadata": {
    "id": "LtiZX67AyCbD"
   },
   "outputs": [
    {
     "name": "stdin",
     "output_type": "stream",
     "text": [
      "Enter the SKU of the product to update:  CMWKCILOP27KJ\n"
     ]
    },
    {
     "name": "stdout",
     "output_type": "stream",
     "text": [
      "Updating product description for SKU 'CMWKCILOP27KJ'...\n"
     ]
    },
    {
     "name": "stdin",
     "output_type": "stream",
     "text": [
      "Enter the updated product description:  Super nice card\n"
     ]
    },
    {
     "name": "stdout",
     "output_type": "stream",
     "text": [
      "Product description for SKU CMWKCILOP27KJ updated successfully!\n"
     ]
    }
   ],
   "source": [
    "def update_product_description(product_descriptions, sku, updated_description):\n",
    "    \"\"\"\n",
    "    Update the product description of an existing product with the provided description. Assumes that the SKU existence and the validity of the updated description have been validated beforehand.\n",
    "\n",
    "    Parameters:\n",
    "        product_descriptions (dict): The dictionary containing product descriptions.\n",
    "        sku (str): The SKU of the product to update.\n",
    "        updated_description (str): The validated updated description for the product.\n",
    "\n",
    "    Returns:\n",
    "        dict: The updated product descriptions.\n",
    "    \"\"\"\n",
    "    product_descriptions[sku] = updated_description\n",
    "    return product_descriptions\n",
    "\n",
    "def save_product_descriptions(product_descriptions, main_folder):\n",
    "    \"\"\"\n",
    "    Save product descriptions to individual text files.\n",
    "\n",
    "    Parameters:\n",
    "        product_descriptions (dict): Dictionary containing product descriptions.\n",
    "        main_folder (str): Path to the main folder containing the dataset.\n",
    "\n",
    "    Returns:\n",
    "        None\n",
    "    \"\"\"\n",
    "    product_descriptions_folder = os.path.join(main_folder, 'product_description')\n",
    "    os.makedirs(product_descriptions_folder, exist_ok=True)\n",
    "\n",
    "    for sku, description in product_descriptions.items():\n",
    "        description_filename = f\"description_{sku}.txt\"\n",
    "        description_path = os.path.join(product_descriptions_folder, description_filename)\n",
    "        \n",
    "        with open(description_path, 'w') as txtfile:\n",
    "            txtfile.write(description)\n",
    "\n",
    "def load_product_descriptions(main_folder):\n",
    "    \"\"\"\n",
    "    Load product descriptions from individual text files.\n",
    "\n",
    "    Parameters:\n",
    "        main_folder (str): Path to the main folder containing the dataset.\n",
    "\n",
    "    Returns:\n",
    "        dict: Dictionary containing product descriptions.\n",
    "    \"\"\"\n",
    "    product_descriptions_folder = os.path.join(main_folder, 'product_description')\n",
    "    product_descriptions = {}\n",
    "\n",
    "    if os.path.exists(product_descriptions_folder):\n",
    "        for filename in os.listdir(product_descriptions_folder):\n",
    "            if filename.startswith('description_') and filename.endswith('.txt'):\n",
    "                sku = filename[12:-4]  # Extract SKU from filename\n",
    "                description_path = os.path.join(product_descriptions_folder, filename)\n",
    "                \n",
    "                with open(description_path, 'r') as txtfile:\n",
    "                    product_descriptions[sku] = txtfile.read()\n",
    "    \n",
    "    return product_descriptions\n",
    "\n",
    "def prompt_update_product_description(product_descriptions, main_folder):\n",
    "    \"\"\"\n",
    "    Prompt the user to update the product description for a specific SKU and save the updated description to file.\n",
    "\n",
    "    Parameters:\n",
    "        product_descriptions (dict): Dictionary containing product descriptions.\n",
    "        main_folder (str): Path to the main folder containing the dataset.\n",
    "\n",
    "    Returns:\n",
    "        None\n",
    "    \"\"\"\n",
    "    sku = input(\"Enter the SKU of the product to update: \")\n",
    "    if sku in product_descriptions:\n",
    "        print(f\"Updating product description for SKU '{sku}'...\")\n",
    "        updated_description = input(\"Enter the updated product description: \")\n",
    "        \n",
    "        product_descriptions = update_product_description(product_descriptions, sku, updated_description)\n",
    "        save_product_descriptions(product_descriptions, main_folder)\n",
    "        print(f\"Product description for SKU {sku} updated successfully!\")\n",
    "    else:\n",
    "        print(f\"Error: SKU '{sku}' not found in product descriptions.\")\n",
    "prompt_update_product_description(product_descriptions, main_folder)"
   ]
  },
  {
   "cell_type": "markdown",
   "metadata": {
    "id": "1tJwB1hRC4h4"
   },
   "source": [
    "Check your code here."
   ]
  },
  {
   "cell_type": "code",
   "execution_count": 88,
   "metadata": {},
   "outputs": [
    {
     "data": {
      "text/plain": [
       "{'AISJDKFJW93NJ': \"Transform your living space with ArtCraft's NatureCanvas-1001 Wall Art Print.\\nThis canvas print, ready to hang, brings the beauty of nature into your home.\\nWith dimensions of 16 x 20 inches and a 4.6/5 stars rating, it's a stunning addition to your decor, creating a focal point that captures attention and sparks conversation.\",\n",
       " 'DJKFIEI432FIE': \"Elevate your running experience with the RunFit SpeedX-500 Men's Running Shoes.\\nDesigned for performance, these shoes feature a lightweight design, breathable material, and are available in vibrant Red, Blue, and classic Black.\\nWhether you're a seasoned runner or just starting, these shoes provide comfort and support for every stride, ensuring you reach new milestones effortlessly.\",\n",
       " 'GGOENEBJ079499': 'Dive into the future with the XYZ Electronics Smartphone, model ABC-2000.\\nBoasting a 6.5-inch display, 128GB storage, and a 16MP camera, this powerful device redefines the smartphone experience.\\nWith a sleek design and available in Black, Silver, and Blue, it combines cutting-edge technology with style, ensuring you stay connected in the most sophisticated way possible.',\n",
       " 'HJSKNWK429DJE': \"Immerse yourself in superior audio quality with SoundSync's TunePro-2022 Wireless Earbuds.\\nFeaturing Bluetooth 5.0, 20 hours of battery life, and touch controls, these earbuds deliver a seamless and immersive listening experience.\\nAvailable in Black and White, they combine style with functionality for music lovers on the go. \\nWith a 4.7/5 stars rating, they stand out as a top choice in the realm of wireless audio.\",\n",
       " 'JFKL3940NFKLJ': \"Embrace versatility in your workouts with FitFlex's StrengthPro-300 Resistance Bands Set.\\nWith 5 bands offering varying resistance levels and portability, this set is your go-to for effective strength training.\\nAvailable in Red, Yellow, and Blue, it caters to different fitness levels and adds a dynamic dimension to your exercise routine.\",\n",
       " 'LKDFJ49LSDJKL': \"Rediscover youthful radiance with GlowBeauty's AgeDefy-300 Anti-Aging Face Cream.\\nFormulated with natural ingredients and a hydrating formula, this skincare essential rejuvenates and nourishes your skin, leaving you with a vibrant and refreshed complexion.\\nWith a stellar 4.7/5 stars rating, it's a must-have for those embracing the journey to ageless beauty.\",\n",
       " 'MWKDI3JFK39SL': \"Immerse yourself in the world of storytelling with BestBooks' Fictional Novel.\\nThis paperback, spanning 300 pages, promises a captivating journey through the pages of an engaging narrative.\\nIdeal for avid readers seeking an escape, this novel, with a 4.6/5 stars rating, is a testament to its ability to weave a compelling tale that keeps you hooked until the last page.\",\n",
       " 'NEKFJOWE9FDIW': \"Unleash the fun with FamilyFun's GameNight-2022 Board Game.\\nDesigned for 2-6 players and suitable for ages 8 and up, this exciting game promises laughter and bonding moments for the entire family.\\nWith a 4.4/5 stars rating, it's a testament to its ability to turn any ordinary night into an extraordinary game night filled with friendly competition and shared joy.\",\n",
       " 'OWEJL398FWJLK': \"Elevate your yoga practice with ZenFitness' EcoMat-500 Yoga Mat.\\nFeaturing a non-slip surface, 6mm thickness, and eco-friendly materials, this high-quality mat provides the perfect foundation for your workouts.\\nAvailable in Purple, Green, and Blue, it not only enhances your comfort but also adds a touch of serenity to your exercise routine.\",\n",
       " 'XPLFJW2490XJN': 'Introducing the CleanTech AutoSweep-9000 Robot Vacuum Cleaner â€“ your smart companion for automated cleaning.\\nWith smart navigation, a HEPA filter, and a runtime of 90 minutes, this efficient device takes care of your cleaning needs.\\nAvailable in White and Silver, it blends seamlessly into your home, making cleanliness a hassle-free experience.',\n",
       " 'CMWKCILOP27KF': 'Original Pokemon TCG Pikachu card',\n",
       " 'CMWKCILOP27KJ': 'Super nice card'}"
      ]
     },
     "execution_count": 88,
     "metadata": {},
     "output_type": "execute_result"
    }
   ],
   "source": [
    "product_descriptions"
   ]
  },
  {
   "cell_type": "markdown",
   "metadata": {
    "id": "NhjnhIRyULIS"
   },
   "source": [
    "### Checklist\n",
    "- Updated the `product_descriptions` dictionary with the new description.\n",
    "- Returned the new `product_descriptions` dictionary."
   ]
  },
  {
   "cell_type": "markdown",
   "metadata": {
    "id": "OcY0zxZex4g8"
   },
   "source": [
    "## Task 15 - Update function"
   ]
  },
  {
   "cell_type": "markdown",
   "metadata": {
    "id": "WEldxTtrT_El"
   },
   "source": [
    "### Description\n",
    "This task involves creating a function named `update()` which calls appropriate update functions based on user input.\n"
   ]
  },
  {
   "cell_type": "markdown",
   "metadata": {
    "id": "kndQHuv5T_El"
   },
   "source": [
    "### Requirements\n",
    "- Define a function named `update()` that updates product information, including sales data, product details, and product descriptions, for a specified SKU.\n",
    "- The function should provide a menu-driven interface for users to select the type of product data they wish to update and input new values accordingly.\n",
    "- Parameters:\n",
    "  - `product_details`: A dictionary containing existing product details, with SKU as keys and details as values.\n",
    "  - `sales_data`: A dictionary containing sales data, with SKU as keys and lists of sales quantities for the last 14 days as values.\n",
    "  - `product_descriptions`: A dictionary containing product descriptions, with SKU as keys and descriptions as values.\n",
    "- The function begins by prompting the user to enter the SKU of the product they want to update.\n",
    "  - If the entered SKU does not exist in `product_details`, print a message indicating that the SKU was not found and exit the function early.\n",
    "- The function then displays a menu with options to update sales data, product details, product description, or exit the process.\n",
    "  - For updating sales data, the user is prompted to enter new quantities for all 14 days. The input is validated to ensure it consists of exactly 14 integers.\n",
    "  - For updating product details, the user is prompted to enter updated values for product name, brand, model, specifications, price, and availability.\n",
    "  - For updating the product description, the user is prompted to enter a new product description.\n",
    "- Each update option validates the corresponding input data before applying the update to ensure data integrity.\n",
    "- The function returns a tuple containing the updated `product_details`, `sales_data`, and `product_descriptions` dictionaries in that order.\n",
    "- Usage:\n",
    "  - The function is designed to be called when an existing product's information needs to be updated. It requires the caller to pass the current states of the `product_details`, `sales_data`, and `product_descriptions` dictionaries and returns their updated states after the modifications.\n"
   ]
  },
  {
   "cell_type": "markdown",
   "metadata": {
    "id": "RZmjVkNET_El"
   },
   "source": [
    "### Recommendations\n",
    "- Provide the data description and requirements to ChatGPT along with the libraries that you are using and ask it to generate code for the function.\n",
    "- If you get stuck somewhere, you can ask ChatGPT to explain the code to you and you can make edits as required."
   ]
  },
  {
   "cell_type": "code",
   "execution_count": 89,
   "metadata": {
    "id": "4u7acshdxeCW"
   },
   "outputs": [
    {
     "name": "stdin",
     "output_type": "stream",
     "text": [
      "Enter the SKU of the product you want to update:  CMWKCILOP27KJ\n"
     ]
    },
    {
     "name": "stdout",
     "output_type": "stream",
     "text": [
      "\n",
      "Update Menu:\n",
      "1. Update sales data\n",
      "2. Update product details\n",
      "3. Update product description\n",
      "4. Exit update process\n"
     ]
    },
    {
     "name": "stdin",
     "output_type": "stream",
     "text": [
      "Enter your choice (1/2/3/4):  1\n",
      "Enter updated quantities for all days (space-separated):  1 2 3 4 5 6 7 1 2 3 4 5 6 7\n"
     ]
    },
    {
     "name": "stdout",
     "output_type": "stream",
     "text": [
      "The sales data is updated successfully!\n",
      "\n",
      "Update Menu:\n",
      "1. Update sales data\n",
      "2. Update product details\n",
      "3. Update product description\n",
      "4. Exit update process\n"
     ]
    },
    {
     "name": "stdin",
     "output_type": "stream",
     "text": [
      "Enter your choice (1/2/3/4):  2\n"
     ]
    },
    {
     "name": "stdout",
     "output_type": "stream",
     "text": [
      "Updating product details for SKU 'CMWKCILOP27KJ'...\n"
     ]
    },
    {
     "name": "stdin",
     "output_type": "stream",
     "text": [
      "Enter the updated product name:  Zapdos Pokemon Card\n",
      "Enter the updated brand:  Pokemon\n",
      "Enter the updated model:  GameFreak\n",
      "Enter the updated specifications:  Holographic\n",
      "Enter the updated price (omit '$'):  $6\n",
      "Is the product in stock? (Yes/No):  Yes\n"
     ]
    },
    {
     "name": "stdout",
     "output_type": "stream",
     "text": [
      "Product details for SKU 'CMWKCILOP27KJ' updated successfully.\n",
      "\n",
      "Update Menu:\n",
      "1. Update sales data\n",
      "2. Update product details\n",
      "3. Update product description\n",
      "4. Exit update process\n"
     ]
    },
    {
     "name": "stdin",
     "output_type": "stream",
     "text": [
      "Enter your choice (1/2/3/4):  3\n"
     ]
    },
    {
     "name": "stdout",
     "output_type": "stream",
     "text": [
      "Updating product description for SKU 'CMWKCILOP27KJ'...\n"
     ]
    },
    {
     "name": "stdin",
     "output_type": "stream",
     "text": [
      "Enter the new product description:  Super amazing nice Pokemon card\n"
     ]
    },
    {
     "name": "stdout",
     "output_type": "stream",
     "text": [
      "Product description for SKU 'CMWKCILOP27KJ' updated successfully.\n",
      "\n",
      "Update Menu:\n",
      "1. Update sales data\n",
      "2. Update product details\n",
      "3. Update product description\n",
      "4. Exit update process\n"
     ]
    },
    {
     "name": "stdin",
     "output_type": "stream",
     "text": [
      "Enter your choice (1/2/3/4):  4\n"
     ]
    },
    {
     "name": "stdout",
     "output_type": "stream",
     "text": [
      "Exiting update process.\n"
     ]
    }
   ],
   "source": [
    "def update_sales_data(sales_data, sku, updated_quantities):\n",
    "    \"\"\"\n",
    "    Update the sales data for a specific SKU.\n",
    "\n",
    "    Parameters:\n",
    "        sales_data (dict): A dictionary containing sales data.\n",
    "        sku (str): The SKU of the product to update.\n",
    "        updated_quantities (list): A list of updated sales quantities.\n",
    "\n",
    "    Returns:\n",
    "        dict: The updated sales data.\n",
    "    \"\"\"\n",
    "    sales_data[sku] = updated_quantities\n",
    "    return sales_data\n",
    "\n",
    "def clean_price_input(price_str):\n",
    "    \"\"\"\n",
    "    Clean and validate the price input string.\n",
    "\n",
    "    Parameters:\n",
    "        price_str (str): The input string for the price.\n",
    "\n",
    "    Returns:\n",
    "        float: The cleaned and validated price as a float.\n",
    "    \"\"\"\n",
    "    cleaned_price_str = price_str.replace('$', '').strip()  # Remove '$' and any surrounding whitespace\n",
    "    try:\n",
    "        return float(cleaned_price_str)\n",
    "    except ValueError:\n",
    "        raise ValueError(\"Invalid price format. Please enter a valid numeric price.\")\n",
    "\n",
    "def update(product_details, sales_data, product_descriptions):\n",
    "    \"\"\"\n",
    "    Updates product information including sales data, product details, and product descriptions for a specified SKU.\n",
    "    Prompts the user for the SKU and the type of data they wish to update. Validates the existence of the SKU and the\n",
    "    integrity of the input data before making any updates. Offers a menu-driven interface for the user to select which\n",
    "    data to update and inputs the new values accordingly.\n",
    "\n",
    "    Parameters:\n",
    "        product_details (dict): A dictionary containing existing product details, with SKU as keys.\n",
    "        sales_data (dict): A dictionary containing sales data, with SKU as keys and sales quantities as values.\n",
    "        product_descriptions (dict): A dictionary containing product descriptions, with SKU as keys.\n",
    "\n",
    "    Returns:\n",
    "        tuple: A tuple containing the updated dictionaries (product_details, sales_data, product_descriptions) in that order.\n",
    "\n",
    "    Usage:\n",
    "        The function should be called with the current states of the product_details, sales_data, and product_descriptions\n",
    "        dictionaries. It will return their updated states after the user has made their changes. The function supports updating\n",
    "        sales data with new quantities for all 14 days, modifying product details like name, brand, model, specifications, price,\n",
    "        and availability, and altering the product description. It ensures data integrity by validating the existence of the SKU\n",
    "        and the correctness of the updated values before applying any changes.\n",
    "    \"\"\"\n",
    "\n",
    "    sku = input(\"Enter the SKU of the product you want to update: \")\n",
    "    \n",
    "    if sku not in product_details:\n",
    "        print(f\"SKU '{sku}' not found in product details.\")\n",
    "        return product_details, sales_data, product_descriptions\n",
    "    \n",
    "    while True:\n",
    "        print(\"\\nUpdate Menu:\")\n",
    "        print(\"1. Update sales data\")\n",
    "        print(\"2. Update product details\")\n",
    "        print(\"3. Update product description\")\n",
    "        print(\"4. Exit update process\")\n",
    "        \n",
    "        choice = input(\"Enter your choice (1/2/3/4): \").strip()\n",
    "        \n",
    "        if choice == '1':\n",
    "            updated_quantities = input(\"Enter updated quantities for all days (space-separated): \").split()\n",
    "            if len(updated_quantities) != 14 or not all(q.isdigit() for q in updated_quantities):\n",
    "                print(\"Error: Please enter exactly 14 integers.\")\n",
    "            else:\n",
    "                updated_quantities = list(map(int, updated_quantities))\n",
    "                sales_data = update_sales_data(sales_data, sku, updated_quantities)\n",
    "                print(\"The sales data is updated successfully!\")\n",
    "        \n",
    "        elif choice == '2':\n",
    "            try:\n",
    "                print(f\"Updating product details for SKU '{sku}'...\")\n",
    "                updated_details = {\n",
    "                    'Product_Name': input(\"Enter the updated product name: \"),\n",
    "                    'Brand': input(\"Enter the updated brand: \"),\n",
    "                    'Model': input(\"Enter the updated model: \"),\n",
    "                    'Specifications': input(\"Enter the updated specifications: \"),\n",
    "                    'Price': clean_price_input(input(\"Enter the updated price (omit '$'): \")),  # Clean and validate price input\n",
    "                    'Availability': input(\"Is the product in stock? (Yes/No): \").strip().capitalize()  # Normalize input\n",
    "                }\n",
    "                \n",
    "                product_details[sku].update(updated_details)\n",
    "                print(f\"Product details for SKU '{sku}' updated successfully.\")\n",
    "            except ValueError as e:\n",
    "                print(str(e))\n",
    "        \n",
    "        elif choice == '3':\n",
    "            print(f\"Updating product description for SKU '{sku}'...\")\n",
    "            new_description = input(\"Enter the new product description: \")\n",
    "            product_descriptions[sku] = new_description\n",
    "            print(f\"Product description for SKU '{sku}' updated successfully.\")\n",
    "        \n",
    "        elif choice == '4':\n",
    "            print(\"Exiting update process.\")\n",
    "            break\n",
    "        \n",
    "        else:\n",
    "            print(\"Invalid choice. Please enter a valid option (1/2/3/4).\")\n",
    "    \n",
    "    return product_details, sales_data, product_descriptions\n",
    "\n",
    "# Run the update process\n",
    "updated_product_details, updated_sales_data, updated_product_descriptions = update(product_details, sales_data, product_descriptions)"
   ]
  },
  {
   "cell_type": "markdown",
   "metadata": {
    "id": "kwXP6bQ8C6aU"
   },
   "source": [
    "Check your code here."
   ]
  },
  {
   "cell_type": "code",
   "execution_count": 90,
   "metadata": {},
   "outputs": [
    {
     "data": {
      "text/plain": [
       "{'AISJDKFJW93NJ': [10, 12, 15, 18, 20, 22, 25, 28, 26, 30, 32, 29, 27, 24],\n",
       " 'DJKFIEI432FIE': [8, 10, 12, 15, 20, 18, 14, 13, 17, 10, 8, 11, 14, 16],\n",
       " 'GGOENEBJ079499': [15, 18, 22, 25, 28, 20, 17, 23, 19, 21, 24, 27, 18, 20],\n",
       " 'HJSKNWK429DJE': [30, 32, 35, 38, 40, 42, 45, 48, 50, 52, 55, 53, 49, 47],\n",
       " 'JFKL3940NFKLJ': [18, 20, 22, 25, 28, 30, 32, 35, 38, 36, 33, 29, 26, 24],\n",
       " 'LKDFJ49LSDJKL': [25, 28, 30, 32, 35, 38, 42, 40, 37, 34, 36, 31, 29, 27],\n",
       " 'MWKDI3JFK39SL': [30, 35, 40, 45, 50, 42, 37, 38, 41, 36, 33, 39, 40, 44],\n",
       " 'NEKFJOWE9FDIW': [12, 15, 18, 20, 22, 24, 21, 23, 25, 28, 30, 27, 26, 29],\n",
       " 'OWEJL398FWJLK': [20, 22, 25, 28, 30, 32, 35, 38, 36, 33, 29, 26, 24, 27],\n",
       " 'XPLFJW2490XJN': [5, 8, 9, 12, 15, 10, 14, 16, 20, 18, 22, 25, 19, 21],\n",
       " 'CMWKCILOP27KF': [8, 14, 16, 7, 15, 21, 14, 16, 32, 29, 26, 30, 25, 22],\n",
       " 'CMWKCILOP27KJ': [1, 2, 3, 4, 5, 6, 7, 1, 2, 3, 4, 5, 6, 7]}"
      ]
     },
     "execution_count": 90,
     "metadata": {},
     "output_type": "execute_result"
    }
   ],
   "source": [
    "sales_data"
   ]
  },
  {
   "cell_type": "code",
   "execution_count": 91,
   "metadata": {},
   "outputs": [
    {
     "data": {
      "text/plain": [
       "{'AISJDKFJW93NJ': {'product_name': 'Wall Art Print',\n",
       "  'brand': 'ArtCraft',\n",
       "  'model': 'NatureCanvas-1001',\n",
       "  'specifications': 'Canvas print, Ready to hang',\n",
       "  'price': '$49.99',\n",
       "  'availability': 'In stock'},\n",
       " 'DJKFIEI432FIE': {'product_name': \"Men's Running Shoes\",\n",
       "  'brand': 'RunFit',\n",
       "  'model': 'SpeedX-500',\n",
       "  'specifications': 'Size 10, Lightweight design, Breathable material',\n",
       "  'price': '$79.99',\n",
       "  'availability': 'In stock'},\n",
       " 'GGOENEBJ079499': {'product_name': 'Smartphone',\n",
       "  'brand': 'XYZ Electronics',\n",
       "  'model': 'ABC-2000',\n",
       "  'specifications': '6.5-inch display, 128GB storage, 16MP camera',\n",
       "  'price': '$499.99',\n",
       "  'availability': 'In stock'},\n",
       " 'HJSKNWK429DJE': {'product_name': 'Wireless Earbuds',\n",
       "  'brand': 'SoundSync',\n",
       "  'model': 'TunePro-2022',\n",
       "  'specifications': 'Bluetooth 5.0, 20 hours battery life, Touch controls',\n",
       "  'price': '$89.99',\n",
       "  'availability': 'In stock'},\n",
       " 'JFKL3940NFKLJ': {'product_name': 'Resistance Bands Set',\n",
       "  'brand': 'FitFlex',\n",
       "  'model': 'StrengthPro-300',\n",
       "  'specifications': '5 bands, Varying resistance levels, Portable',\n",
       "  'price': '$34.99',\n",
       "  'availability': 'In stock'},\n",
       " 'LKDFJ49LSDJKL': {'product_name': 'Anti-Aging Face Cream',\n",
       "  'brand': 'GlowBeauty',\n",
       "  'model': 'AgeDefy-300',\n",
       "  'specifications': 'Natural ingredients, Hydrating formula',\n",
       "  'price': '$39.99',\n",
       "  'availability': 'In stock'},\n",
       " 'MWKDI3JFK39SL': {'product_name': 'Fictional Novel',\n",
       "  'brand': 'BestBooks',\n",
       "  'model': None,\n",
       "  'specifications': 'Paperback, 300 pages',\n",
       "  'price': '$14.99',\n",
       "  'availability': 'In stock'},\n",
       " 'NEKFJOWE9FDIW': {'product_name': 'Board Game',\n",
       "  'brand': 'FamilyFun',\n",
       "  'model': 'GameNight-2022',\n",
       "  'specifications': '2-6 players, Ages 8 and up',\n",
       "  'price': '$29.99',\n",
       "  'availability': 'In stock'},\n",
       " 'OWEJL398FWJLK': {'product_name': 'Yoga Mat',\n",
       "  'brand': 'ZenFitness',\n",
       "  'model': 'EcoMat-500',\n",
       "  'specifications': 'Non-slip, 6mm thickness, Eco-friendly material',\n",
       "  'price': '$19.99',\n",
       "  'availability': 'In stock'},\n",
       " 'XPLFJW2490XJN': {'product_name': 'Robot Vacuum Cleaner',\n",
       "  'brand': 'CleanTech',\n",
       "  'model': 'AutoSweep-9000',\n",
       "  'specifications': 'Smart navigation, HEPA filter, 90 minutes runtime',\n",
       "  'price': '$249.99',\n",
       "  'availability': 'In stock'},\n",
       " 'CMWKCILOP27KF': {'Product_Name': 'Pokemon Card',\n",
       "  'Brand': 'GameFreak',\n",
       "  'Model': 'ScarletViolet151',\n",
       "  'Specifications': 'Genuine, TCG, English',\n",
       "  'Price': 1.99,\n",
       "  'Availability': 'In stock'},\n",
       " 'CMWKCILOP27KJ': {'Product_Name': 'Zapdos Pokemon Card',\n",
       "  'Brand': 'Pokemon',\n",
       "  'Model': 'GameFreak',\n",
       "  'Specifications': 'Holographic',\n",
       "  'Price': 6.0,\n",
       "  'Availability': 'Yes'}}"
      ]
     },
     "execution_count": 91,
     "metadata": {},
     "output_type": "execute_result"
    }
   ],
   "source": [
    "product_details"
   ]
  },
  {
   "cell_type": "code",
   "execution_count": 92,
   "metadata": {},
   "outputs": [
    {
     "data": {
      "text/plain": [
       "{'AISJDKFJW93NJ': \"Transform your living space with ArtCraft's NatureCanvas-1001 Wall Art Print.\\nThis canvas print, ready to hang, brings the beauty of nature into your home.\\nWith dimensions of 16 x 20 inches and a 4.6/5 stars rating, it's a stunning addition to your decor, creating a focal point that captures attention and sparks conversation.\",\n",
       " 'DJKFIEI432FIE': \"Elevate your running experience with the RunFit SpeedX-500 Men's Running Shoes.\\nDesigned for performance, these shoes feature a lightweight design, breathable material, and are available in vibrant Red, Blue, and classic Black.\\nWhether you're a seasoned runner or just starting, these shoes provide comfort and support for every stride, ensuring you reach new milestones effortlessly.\",\n",
       " 'GGOENEBJ079499': 'Dive into the future with the XYZ Electronics Smartphone, model ABC-2000.\\nBoasting a 6.5-inch display, 128GB storage, and a 16MP camera, this powerful device redefines the smartphone experience.\\nWith a sleek design and available in Black, Silver, and Blue, it combines cutting-edge technology with style, ensuring you stay connected in the most sophisticated way possible.',\n",
       " 'HJSKNWK429DJE': \"Immerse yourself in superior audio quality with SoundSync's TunePro-2022 Wireless Earbuds.\\nFeaturing Bluetooth 5.0, 20 hours of battery life, and touch controls, these earbuds deliver a seamless and immersive listening experience.\\nAvailable in Black and White, they combine style with functionality for music lovers on the go. \\nWith a 4.7/5 stars rating, they stand out as a top choice in the realm of wireless audio.\",\n",
       " 'JFKL3940NFKLJ': \"Embrace versatility in your workouts with FitFlex's StrengthPro-300 Resistance Bands Set.\\nWith 5 bands offering varying resistance levels and portability, this set is your go-to for effective strength training.\\nAvailable in Red, Yellow, and Blue, it caters to different fitness levels and adds a dynamic dimension to your exercise routine.\",\n",
       " 'LKDFJ49LSDJKL': \"Rediscover youthful radiance with GlowBeauty's AgeDefy-300 Anti-Aging Face Cream.\\nFormulated with natural ingredients and a hydrating formula, this skincare essential rejuvenates and nourishes your skin, leaving you with a vibrant and refreshed complexion.\\nWith a stellar 4.7/5 stars rating, it's a must-have for those embracing the journey to ageless beauty.\",\n",
       " 'MWKDI3JFK39SL': \"Immerse yourself in the world of storytelling with BestBooks' Fictional Novel.\\nThis paperback, spanning 300 pages, promises a captivating journey through the pages of an engaging narrative.\\nIdeal for avid readers seeking an escape, this novel, with a 4.6/5 stars rating, is a testament to its ability to weave a compelling tale that keeps you hooked until the last page.\",\n",
       " 'NEKFJOWE9FDIW': \"Unleash the fun with FamilyFun's GameNight-2022 Board Game.\\nDesigned for 2-6 players and suitable for ages 8 and up, this exciting game promises laughter and bonding moments for the entire family.\\nWith a 4.4/5 stars rating, it's a testament to its ability to turn any ordinary night into an extraordinary game night filled with friendly competition and shared joy.\",\n",
       " 'OWEJL398FWJLK': \"Elevate your yoga practice with ZenFitness' EcoMat-500 Yoga Mat.\\nFeaturing a non-slip surface, 6mm thickness, and eco-friendly materials, this high-quality mat provides the perfect foundation for your workouts.\\nAvailable in Purple, Green, and Blue, it not only enhances your comfort but also adds a touch of serenity to your exercise routine.\",\n",
       " 'XPLFJW2490XJN': 'Introducing the CleanTech AutoSweep-9000 Robot Vacuum Cleaner â€“ your smart companion for automated cleaning.\\nWith smart navigation, a HEPA filter, and a runtime of 90 minutes, this efficient device takes care of your cleaning needs.\\nAvailable in White and Silver, it blends seamlessly into your home, making cleanliness a hassle-free experience.',\n",
       " 'CMWKCILOP27KF': 'Original Pokemon TCG Pikachu card',\n",
       " 'CMWKCILOP27KJ': 'Super amazing nice Pokemon card'}"
      ]
     },
     "execution_count": 92,
     "metadata": {},
     "output_type": "execute_result"
    }
   ],
   "source": [
    "product_descriptions"
   ]
  },
  {
   "cell_type": "code",
   "execution_count": null,
   "metadata": {},
   "outputs": [],
   "source": []
  },
  {
   "cell_type": "markdown",
   "metadata": {
    "id": "zjQ--UxKUMRB"
   },
   "source": [
    "### Checklist\n",
    "- Prompted user for SKU of the product to update\n",
    "- Validated whether the SKU exists in the dictionaries or not\n",
    "- Provided options to the user for what aspect of data to update\n",
    "- Called the appropriate update function based on user choice by passing the appropriate arguments\n",
    "- Allowed user to exit or continue updating data"
   ]
  },
  {
   "cell_type": "markdown",
   "metadata": {
    "id": "YThJDsd3ChRz"
   },
   "source": [
    "# Stage 5 - Delete\n",
    "In this stage, you will implement the functionality to delete entries from the data structures. This involves removing sales data, product details, and product descriptions associated with a given product SKU.\n",
    "\n",
    "In this task though, you will also need to delete the JSON and TXT files corresponding to the SKU entered by the user.\n",
    "\n",
    "- Task 16 - Delete function"
   ]
  },
  {
   "cell_type": "markdown",
   "metadata": {
    "id": "N6wvvrXUKlXR"
   },
   "source": [
    "## Task 16 - Delete function"
   ]
  },
  {
   "cell_type": "markdown",
   "metadata": {
    "id": "HGGeNEjqT_-Z"
   },
   "source": [
    "### Description\n",
    "In this task you will create a function called `delete()` which is responsible for deleting entries related to a given product SKU from the `sales_data`, `product_details`, and `product_descriptions` dictionaries."
   ]
  },
  {
   "cell_type": "markdown",
   "metadata": {
    "id": "AmVM_kuFT_-g"
   },
   "source": [
    "### Requirements\n",
    "- Define a function named `delete()` that deletes entries for a given SKU from sales data, product details, product descriptions dictionaries, and also deletes corresponding JSON and text files related to the product.\n",
    "- The function should accept four parameters:\n",
    "  - `sales_data`: A dictionary containing sales data, with SKU as keys.\n",
    "  - `product_details`: A dictionary containing product details, with SKU as keys.\n",
    "  - `product_descriptions`: A dictionary containing product descriptions, with SKU as keys.\n",
    "  - `main_folder`: A string representing the location of the main folder containing subfolders for product details and product descriptions, where corresponding JSON and text files are stored.\n",
    "- The function begins by prompting the user to enter the SKU of the product they wish to delete.\n",
    "  - If the SKU does not exist in the `sales_data` dictionary, print a message indicating that the SKU was not found and exit the function early.\n",
    "- The function then proceeds to delete the entries for the specified SKU from the `sales_data`, `product_details`, and `product_descriptions` dictionaries.\n",
    "- After successfully removing the entries from the dictionaries, the function attempts to delete the corresponding JSON file (containing product details) and text file (containing product descriptions) from the specified *main_folder*. It constructs the paths to these files based on the SKU and the folder structure.\n",
    "  - If the specified files exist, they are deleted, and a success message is printed.\n",
    "  - If a file does not exist, a message indicating that the file was not found is printed.\n",
    "- The function returns a tuple containing the updated `sales_data`, `product_details`, and `product_descriptions` dictionaries.\n",
    "- Usage:\n",
    "  - The function is designed for cases where a product is to be completely removed from the system, including its sales records, details, descriptions, and associated files. It requires the current states of the `sales_data`, `product_details`, and `product_descriptions` dictionaries and the path to the *main_folder* as inputs, and returns their updated states after the deletion.\n"
   ]
  },
  {
   "cell_type": "markdown",
   "metadata": {
    "id": "0SXuiZyiT_-g"
   },
   "source": [
    "### Recommendations\n",
    "- Ensure that the function checks if the given SKU exists in each of the dictionaries before attempting deletion.\n",
    "- Provide the data description and requirements to ChatGPT along with the libraries that you are using and ask it to generate code for the function.\n",
    "- If you get stuck somewhere, you can ask ChatGPT to explain the code to you and you can make edits as required."
   ]
  },
  {
   "cell_type": "code",
   "execution_count": 3,
   "metadata": {
    "id": "GfOZQtEzKk9S"
   },
   "outputs": [
    {
     "name": "stdin",
     "output_type": "stream",
     "text": [
      "Enter the SKU of the product to be deleted:  CMWKCILOP27KJ\n"
     ]
    },
    {
     "name": "stdout",
     "output_type": "stream",
     "text": [
      "JSON file for SKU 'CMWKCILOP27KJ' has been deleted successfully.\n",
      "Text file for SKU 'CMWKCILOP27KJ' has been deleted successfully.\n",
      "Entries for SKU 'CMWKCILOP27KJ' have been deleted successfully.\n"
     ]
    }
   ],
   "source": [
    "import os\n",
    "import json\n",
    "import csv\n",
    "\n",
    "def delete(sales_data, product_details, product_descriptions, main_folder):\n",
    "    \"\"\"\n",
    "    Delete entries for a given SKU from sales data, product details, and product descriptions.\n",
    "    Delete corresponding JSON and text files.\n",
    "\n",
    "    Parameters:\n",
    "        sales_data (dict): The dictionary containing sales data.\n",
    "        product_details (dict): The dictionary containing product details.\n",
    "        product_descriptions (dict): The dictionary containing product descriptions.\n",
    "        main_folder (str): The location of the main folder containing product_details and product_descriptions folders.\n",
    "\n",
    "    Returns:\n",
    "        Tuple: The updated sales data, product details, and product descriptions dictionaries.\n",
    "    \"\"\"\n",
    "    sku = input(\"Enter the SKU of the product to be deleted: \")\n",
    "\n",
    "    if sku not in sales_data:\n",
    "        print(f\"Error: SKU '{sku}' not found in sales data.\")\n",
    "        return sales_data, product_details, product_descriptions\n",
    "\n",
    "    # Remove SKU from ssales_data\n",
    "    if sku in sales_data:\n",
    "        del sales_data[sku]\n",
    "\n",
    "    # Remove SKU from product_details\n",
    "    if sku in product_details:\n",
    "        del product_details[sku]\n",
    "\n",
    "    # Remove SKU from product_descriptions\n",
    "    if sku in product_descriptions:\n",
    "        del product_descriptions[sku]\n",
    "\n",
    "    # Attempt to delete the corresponding JSON file\n",
    "    product_details_path = os.path.join(main_folder, 'product_details', f'details_{sku}.json')\n",
    "    if os.path.exists(product_details_path):\n",
    "        os.remove(product_details_path)\n",
    "        print(f\"JSON file for SKU '{sku}' has been deleted successfully.\")\n",
    "    else:\n",
    "        print(f\"JSON file for SKU '{sku}' not found.\")\n",
    "\n",
    "    # Attempt to delete the corresponding text file\n",
    "    product_descriptions_path = os.path.join(main_folder, 'product_description', f'description_{sku}.txt')\n",
    "    if os.path.exists(product_descriptions_path):\n",
    "        os.remove(product_descriptions_path)\n",
    "        print(f\"Text file for SKU '{sku}' has been deleted successfully.\")\n",
    "    else:\n",
    "        print(f\"Text file for SKU '{sku}' not found.\")\n",
    "\n",
    "    print(f\"Entries for SKU '{sku}' have been deleted successfully.\")\n",
    "\n",
    "    return sales_data, product_details, product_descriptions\n",
    "\n",
    "def save_sales_data(sales_data, main_folder):\n",
    "    \"\"\"\n",
    "    Save sales data to 'sales_data.csv' file.\n",
    "\n",
    "    Parameters:\n",
    "        sales_data (dict): Dictionary containing sales data.\n",
    "        main_folder (str): Path to the main folder containing the dataset.\n",
    "\n",
    "    Returns:\n",
    "        None\n",
    "    \"\"\"\n",
    "    sales_data_path = os.path.join(main_folder, 'sales_data.csv')\n",
    "    with open(sales_data_path, 'w', newline='') as f:\n",
    "        writer = csv.writer(f)\n",
    "        writer.writerow(['SKU'] + [f'Day {i}' for i in range(1, 15)])\n",
    "        for sku, quantities in sales_data.items():\n",
    "            writer.writerow([sku] + quantities)\n",
    "\n",
    "def load_sales_data(main_folder):\n",
    "    \"\"\"\n",
    "    Load sales data from 'sales_data.csv' file.\n",
    "\n",
    "    Parameters:\n",
    "        main_folder (str): Path to the main folder containing the dataset.\n",
    "\n",
    "    Returns:\n",
    "        dict: Dictionary containing sales data with SKU as keys and lists of sales quantities for 14 days as values.\n",
    "    \"\"\"\n",
    "    sales_data = {}\n",
    "    sales_data_path = os.path.join(main_folder, 'sales_data.csv')\n",
    "    if os.path.exists(sales_data_path):\n",
    "        with open(sales_data_path, 'r', newline='') as f:\n",
    "            reader = csv.reader(f)\n",
    "            next(reader)  # Skip header row\n",
    "            for row in reader:\n",
    "                sku = row[0]\n",
    "                quantities = list(map(int, row[1:15]))  # Assuming 14 days of sales data\n",
    "                sales_data[sku] = quantities\n",
    "    return sales_data\n",
    "\n",
    "def load_product_details(main_folder):\n",
    "    \"\"\"\n",
    "    Load product details from multiple JSON files in the 'product_details' folder.\n",
    "\n",
    "    Parameters:\n",
    "        main_folder (str): Path to the main folder containing the dataset.\n",
    "\n",
    "    Returns:\n",
    "        dict: Dictionary containing combined product details from all JSON files.\n",
    "    \"\"\"\n",
    "    product_details = {}\n",
    "    product_details_folder = os.path.join(main_folder, 'product_details')\n",
    "    for filename in os.listdir(product_details_folder):\n",
    "        if filename.endswith('.json'):\n",
    "            filepath = os.path.join(product_details_folder, filename)\n",
    "            with open(filepath, 'r') as f:\n",
    "                sku = filename.split('_')[1].split('.')[0]\n",
    "                product_details[sku] = json.load(f)\n",
    "    return product_details\n",
    "\n",
    "def save_product_details(product_details, main_folder):\n",
    "    \"\"\"\n",
    "    Save product details to multiple JSON files in the 'product_details' folder.\n",
    "\n",
    "    Parameters:\n",
    "        product_details (dict): Dictionary containing product details.\n",
    "        main_folder (str): Path to the main folder containing the dataset.\n",
    "\n",
    "    Returns:\n",
    "        None\n",
    "    \"\"\"\n",
    "    product_details_folder = os.path.join(main_folder, 'product_details')\n",
    "    if not os.path.exists(product_details_folder):\n",
    "        os.makedirs(product_details_folder)\n",
    "    for sku, details in product_details.items():\n",
    "        filepath = os.path.join(product_details_folder, f'details_{sku}.json')\n",
    "        with open(filepath, 'w') as f:\n",
    "            json.dump(details, f, indent=4)\n",
    "\n",
    "def load_product_description(main_folder):\n",
    "    \"\"\"\n",
    "    Load product description from text files in the 'product_description' folder.\n",
    "\n",
    "    Parameters:\n",
    "        main_folder (str): Path to the main folder containing the dataset.\n",
    "\n",
    "    Returns:\n",
    "        dict: Dictionary containing product descriptions with SKU as keys and descriptions as values.\n",
    "    \"\"\"\n",
    "    product_description = {}\n",
    "    product_description_folder = os.path.join(main_folder, 'product_description')\n",
    "    if not os.path.exists(product_description_folder):\n",
    "        os.makedirs(product_description_folder)\n",
    "    for filename in os.listdir(product_description_folder):\n",
    "        if filename.endswith('.txt'):\n",
    "            sku = filename.split('_')[1].split('.')[0]\n",
    "            filepath = os.path.join(product_description_folder, filename)\n",
    "            with open(filepath, 'r') as f:\n",
    "                product_description[sku] = f.read().strip()\n",
    "    return product_description\n",
    "\n",
    "def save_product_descriptions(product_descriptions, main_folder):\n",
    "    \"\"\"\n",
    "    Save product descriptions to text files in the 'product_description' folder.\n",
    "\n",
    "    Parameters:\n",
    "        product_descriptions (dict): Dictionary containing product descriptions.\n",
    "        main_folder (str): Path to the main folder containing the dataset.\n",
    "\n",
    "    Returns:\n",
    "        None\n",
    "    \"\"\"\n",
    "    product_description_folder = os.path.join(main_folder, 'product_description')\n",
    "    if not os.path.exists(product_description_folder):\n",
    "        os.makedirs(product_description_folder)\n",
    "    for sku, description in product_descriptions.items():\n",
    "        filepath = os.path.join(product_description_folder, f'description_{sku}.txt')\n",
    "        with open(filepath, 'w') as f:\n",
    "            f.write(description)\n",
    "\n",
    "# Example usage\n",
    "if __name__ == \"__main__\":\n",
    "    main_folder = r'C:\\Users\\soura\\OneDrive\\Documents\\NEHA UPGRAD\\mainfolder'\n",
    "\n",
    "    # Load existing data\n",
    "    product_details = load_product_details(main_folder)\n",
    "    sales_data = load_sales_data(main_folder)\n",
    "    product_descriptions = load_product_description(main_folder)\n",
    "\n",
    "    # Perform delete operation\n",
    "    sales_data, product_details, product_descriptions = delete(sales_data, product_details, product_descriptions, main_folder)\n",
    "    \n",
    "    # Save updated data\n",
    "    save_product_details(product_details, main_folder)\n",
    "    save_sales_data(sales_data, main_folder)\n",
    "    save_product_descriptions(product_descriptions, main_folder)"
   ]
  },
  {
   "cell_type": "markdown",
   "metadata": {
    "id": "tv5_IhiQC9rb"
   },
   "source": [
    "Check your code here."
   ]
  },
  {
   "cell_type": "code",
   "execution_count": null,
   "metadata": {},
   "outputs": [],
   "source": []
  },
  {
   "cell_type": "markdown",
   "metadata": {
    "id": "lTP2A3dpUNRI"
   },
   "source": [
    "### Checklist\n",
    "- Defined the `delete()` function with the specified parameters.\n",
    "- Checked if the given SKU exists in each dictionary before attempting deletion.\n",
    "- Deleted the corresponding entry for the given SKU from each dictionary if it exists.\n",
    "- Deleted the corresponding JSON and TXT files.\n",
    "- Provided appropriate feedback messages indicating the outcome of the deletion process."
   ]
  },
  {
   "cell_type": "markdown",
   "metadata": {
    "id": "vU3YMmGlNTQx"
   },
   "source": [
    "# Stage 6 - Bringing it all together\n",
    "In this stage, you will combine all the functions you have created so far into one main function called `user_menu()`. This function will work as an interface for the user where they can choose the operation they want to perform. If they choose to exit, the function will write the data into the disk. Therefore, besides the `user_menu()` function, you will also define the `dump_data()`\n",
    "function which writes the data into the disk.\n",
    "\n",
    "You will do this by performing the following tasks:\n",
    "- Task 17 - Save data to disk\n",
    "- Task 18 - Create a user menu"
   ]
  },
  {
   "cell_type": "markdown",
   "metadata": {
    "id": "ccFlC9OGdejQ"
   },
   "source": [
    "## Task 17 - Save data to disk"
   ]
  },
  {
   "cell_type": "markdown",
   "metadata": {
    "id": "UqDs8HZ7dYZx"
   },
   "source": [
    "### Description\n",
    "In this task, learners are tasked with implementing a Python function named `dump_data()` that automates the process of persisting sales data, product details, and product descriptions into structured files within a specified directory. The function should efficiently organize and dump each type of data into its corresponding file format: CSV for sales data, JSON for product details, and plain text for product descriptions. This exercise challenges learners to apply file I/O operations, directory management, and data serialization techniques in Python, ensuring they gain practical experience with data persistence, manipulation, and organization on the filesystem."
   ]
  },
  {
   "cell_type": "markdown",
   "metadata": {
    "id": "ffUjhTwTdYRw"
   },
   "source": [
    "### Requirements\n",
    "- Define a function named `dump_data()` that dumps product details, sales data, and product descriptions into files within a specified main folder.\n",
    "- The function should accept four parameters:\n",
    "  - `sales_data`: A dictionary containing sales data, with SKU as keys and a list of sales quantities for the last 14 days as values.\n",
    "  - `product_details`: A dictionary containing product details, with SKU as keys and details as values. Details include attributes like name, brand, model, specifications, price, and availability.\n",
    "  - `product_descriptions`: A dictionary containing product descriptions, with SKU as keys and the textual description of the product as values.\n",
    "  - `main_folder`: A string representing the location of the main folder, which should contain *product_details* and *product_descriptions* subfolders.\n",
    "- The function performs the following operations:\n",
    "  - Dumps the `sales_data` into a CSV file named *sales_data.csv* located in the *main_folder*. Each row in the CSV file represents the sales data for a product, with fields for the SKU and sales quantities for each of the 14 days.\n",
    "  - Dumps each entry in `product_details` into a separate JSON file within the *product_details* subfolder of the *main_folder*. Each file is named after the SKU of the product and contains the details of that product in JSON format.\n",
    "  - Dumps each product description from `product_descriptions` into a separate TXT file within the *product_descriptions* subfolder of the *main_folder*. Each file is named after the SKU of the product and contains the textual description of that product.\n",
    "- Prior to dumping product details and descriptions, the function checks if the respective subfolders exist. If not, it creates them.\n",
    "- Usage:\n",
    "  - The function is designed to persist the current state of sales data, product details, and product descriptions to the filesystem, allowing for data backup and recovery. It organizes the persisted data into a structured directory and file system based on the specified *main_folder* path.\n"
   ]
  },
  {
   "cell_type": "markdown",
   "metadata": {
    "id": "bvtuWxwvdYOD"
   },
   "source": [
    "### Recommendations\n",
    "- Ensure that you are writing the data down with the same folder structure as the original folder.\n",
    "- You may want to learn more about the `DictWriter()` object from the `csv` library to write the sales data.\n",
    "- Make sure that you open files with a 'w' parameter so that you are overwriting the files and not appending to them.\n",
    "- Provide the data description and requirements to ChatGPT along with the libraries that you are using and ask it to generate code for the function.\n",
    "- If you get stuck somewhere, you can ask ChatGPT to explain the code to you and you can make edits as required."
   ]
  },
  {
   "cell_type": "code",
   "execution_count": 5,
   "metadata": {
    "id": "PMuHRcMELNoq"
   },
   "outputs": [
    {
     "name": "stdout",
     "output_type": "stream",
     "text": [
      "CSV Headers: ['SKU', 'Day 1', 'Day 2', 'Day 3', 'Day 4', 'Day 5', 'Day 6', 'Day 7', 'Day 8', 'Day 9', 'Day 10', 'Day 11', 'Day 12', 'Day 13', 'Day 14']\n",
      "Loaded Sales Data:\n",
      "{'AISJDKFJW93NJ': [10, 12, 15, 18, 20, 22, 25, 28, 26, 30, 32, 29, 27, 24], 'DJKFIEI432FIE': [8, 10, 12, 15, 20, 18, 14, 13, 17, 10, 8, 11, 14, 16], 'GGOENEBJ079499': [15, 18, 22, 25, 28, 20, 17, 23, 19, 21, 24, 27, 18, 20], 'HJSKNWK429DJE': [30, 32, 35, 38, 40, 42, 45, 48, 50, 52, 55, 53, 49, 47], 'JFKL3940NFKLJ': [18, 20, 22, 25, 28, 30, 32, 35, 38, 36, 33, 29, 26, 24], 'LKDFJ49LSDJKL': [25, 28, 30, 32, 35, 38, 42, 40, 37, 34, 36, 31, 29, 27], 'MWKDI3JFK39SL': [30, 35, 40, 45, 50, 42, 37, 38, 41, 36, 33, 39, 40, 44], 'NEKFJOWE9FDIW': [12, 15, 18, 20, 22, 24, 21, 23, 25, 28, 30, 27, 26, 29], 'OWEJL398FWJLK': [20, 22, 25, 28, 30, 32, 35, 38, 36, 33, 29, 26, 24, 27], 'XPLFJW2490XJN': [5, 8, 9, 12, 15, 10, 14, 16, 20, 18, 22, 25, 19, 21], 'CMWKCILOP27KF': [8, 14, 16, 7, 15, 21, 14, 16, 32, 29, 26, 30, 25, 22]}\n",
      "\n",
      "Loaded Product Details:\n",
      "{'AISJDKFJW93NJ': {'product_name': 'Wall Art Print', 'brand': 'ArtCraft', 'model': 'NatureCanvas-1001', 'specifications': 'Canvas print, Ready to hang', 'price': '$49.99', 'availability': 'In stock'}, 'CMWKCILOP27KF': {'Product_Name': 'Pokemon Card', 'Brand': 'GameFreak', 'Model': 'ScarletViolet151', 'Specifications': 'Genuine, TCG, English', 'Price': 1.99, 'Availability': 'In stock'}, 'DJKFIEI432FIE': {'product_name': \"Men's Running Shoes\", 'brand': 'RunFit', 'model': 'SpeedX-500', 'specifications': 'Size 10, Lightweight design, Breathable material', 'price': '$79.99', 'availability': 'In stock'}, 'GGOENEBJ079499': {'product_name': 'Smartphone', 'brand': 'XYZ Electronics', 'model': 'ABC-2000', 'specifications': '6.5-inch display, 128GB storage, 16MP camera', 'price': '$499.99', 'availability': 'In stock'}, 'HJSKNWK429DJE': {'product_name': 'Wireless Earbuds', 'brand': 'SoundSync', 'model': 'TunePro-2022', 'specifications': 'Bluetooth 5.0, 20 hours battery life, Touch controls', 'price': '$89.99', 'availability': 'In stock'}, 'JFKL3940NFKLJ': {'product_name': 'Resistance Bands Set', 'brand': 'FitFlex', 'model': 'StrengthPro-300', 'specifications': '5 bands, Varying resistance levels, Portable', 'price': '$34.99', 'availability': 'In stock'}, 'LKDFJ49LSDJKL': {'product_name': 'Anti-Aging Face Cream', 'brand': 'GlowBeauty', 'model': 'AgeDefy-300', 'specifications': 'Natural ingredients, Hydrating formula', 'price': '$39.99', 'availability': 'In stock'}, 'MWKDI3JFK39SL': {'product_name': 'Fictional Novel', 'brand': 'BestBooks', 'model': None, 'specifications': 'Paperback, 300 pages', 'price': '$14.99', 'availability': 'In stock'}, 'NEKFJOWE9FDIW': {'product_name': 'Board Game', 'brand': 'FamilyFun', 'model': 'GameNight-2022', 'specifications': '2-6 players, Ages 8 and up', 'price': '$29.99', 'availability': 'In stock'}, 'OWEJL398FWJLK': {'product_name': 'Yoga Mat', 'brand': 'ZenFitness', 'model': 'EcoMat-500', 'specifications': 'Non-slip, 6mm thickness, Eco-friendly material', 'price': '$19.99', 'availability': 'In stock'}, 'XPLFJW2490XJN': {'product_name': 'Robot Vacuum Cleaner', 'brand': 'CleanTech', 'model': 'AutoSweep-9000', 'specifications': 'Smart navigation, HEPA filter, 90 minutes runtime', 'price': '$249.99', 'availability': 'In stock'}}\n",
      "\n",
      "Loaded Product Descriptions:\n",
      "{'AISJDKFJW93NJ': \"Transform your living space with ArtCraft's NatureCanvas-1001 Wall Art Print.\\nThis canvas print, ready to hang, brings the beauty of nature into your home.\\nWith dimensions of 16 x 20 inches and a 4.6/5 stars rating, it's a stunning addition to your decor, creating a focal point that captures attention and sparks conversation.\", 'CMWKCILOP27KF': 'Original Pokemon TCG Pikachu card', 'DJKFIEI432FIE': \"Elevate your running experience with the RunFit SpeedX-500 Men's Running Shoes.\\nDesigned for performance, these shoes feature a lightweight design, breathable material, and are available in vibrant Red, Blue, and classic Black.\\nWhether you're a seasoned runner or just starting, these shoes provide comfort and support for every stride, ensuring you reach new milestones effortlessly.\", 'GGOENEBJ079499': 'Dive into the future with the XYZ Electronics Smartphone, model ABC-2000.\\nBoasting a 6.5-inch display, 128GB storage, and a 16MP camera, this powerful device redefines the smartphone experience.\\nWith a sleek design and available in Black, Silver, and Blue, it combines cutting-edge technology with style, ensuring you stay connected in the most sophisticated way possible.', 'HJSKNWK429DJE': \"Immerse yourself in superior audio quality with SoundSync's TunePro-2022 Wireless Earbuds.\\nFeaturing Bluetooth 5.0, 20 hours of battery life, and touch controls, these earbuds deliver a seamless and immersive listening experience.\\nAvailable in Black and White, they combine style with functionality for music lovers on the go. \\nWith a 4.7/5 stars rating, they stand out as a top choice in the realm of wireless audio.\", 'JFKL3940NFKLJ': \"Embrace versatility in your workouts with FitFlex's StrengthPro-300 Resistance Bands Set.\\nWith 5 bands offering varying resistance levels and portability, this set is your go-to for effective strength training.\\nAvailable in Red, Yellow, and Blue, it caters to different fitness levels and adds a dynamic dimension to your exercise routine.\", 'LKDFJ49LSDJKL': \"Rediscover youthful radiance with GlowBeauty's AgeDefy-300 Anti-Aging Face Cream.\\nFormulated with natural ingredients and a hydrating formula, this skincare essential rejuvenates and nourishes your skin, leaving you with a vibrant and refreshed complexion.\\nWith a stellar 4.7/5 stars rating, it's a must-have for those embracing the journey to ageless beauty.\", 'MWKDI3JFK39SL': \"Immerse yourself in the world of storytelling with BestBooks' Fictional Novel.\\nThis paperback, spanning 300 pages, promises a captivating journey through the pages of an engaging narrative.\\nIdeal for avid readers seeking an escape, this novel, with a 4.6/5 stars rating, is a testament to its ability to weave a compelling tale that keeps you hooked until the last page.\", 'NEKFJOWE9FDIW': \"Unleash the fun with FamilyFun's GameNight-2022 Board Game.\\nDesigned for 2-6 players and suitable for ages 8 and up, this exciting game promises laughter and bonding moments for the entire family.\\nWith a 4.4/5 stars rating, it's a testament to its ability to turn any ordinary night into an extraordinary game night filled with friendly competition and shared joy.\", 'OWEJL398FWJLK': \"Elevate your yoga practice with ZenFitness' EcoMat-500 Yoga Mat.\\nFeaturing a non-slip surface, 6mm thickness, and eco-friendly materials, this high-quality mat provides the perfect foundation for your workouts.\\nAvailable in Purple, Green, and Blue, it not only enhances your comfort but also adds a touch of serenity to your exercise routine.\", 'XPLFJW2490XJN': 'Introducing the CleanTech AutoSweep-9000 Robot Vacuum Cleaner â€“ your smart companion for automated cleaning.\\nWith smart navigation, a HEPA filter, and a runtime of 90 minutes, this efficient device takes care of your cleaning needs.\\nAvailable in White and Silver, it blends seamlessly into your home, making cleanliness a hassle-free experience.'}\n"
     ]
    }
   ],
   "source": [
    "import os\n",
    "import json\n",
    "import csv\n",
    "\n",
    "def load_sales_data_from_file(main_folder):\n",
    "    sales_data = {}\n",
    "    sales_data_path = os.path.join(main_folder, 'sales_data.csv')\n",
    "    with open(sales_data_path, newline='') as csvfile:\n",
    "        reader = csv.DictReader(csvfile)\n",
    "        headers = reader.fieldnames  # Get headers from CSV\n",
    "        print(f\"CSV Headers: {headers}\")  # Debug print to check headers\n",
    "        for row in reader:\n",
    "            sku = row['SKU']  # Ensure 'SKU' matches the header in sales_data.csv\n",
    "            sales_data[sku] = [int(row[f'Day {i+1}']) for i in range(14)]  # Adjust to match headers\n",
    "    return sales_data\n",
    "\n",
    "def load_product_details_from_folder(main_folder):\n",
    "    product_details = {}\n",
    "    product_details_folder = os.path.join(main_folder, 'product_details')\n",
    "    for filename in os.listdir(product_details_folder):\n",
    "        if filename.endswith('.json'):\n",
    "            sku = filename.split('_')[1].split('.')[0]  # Extract SKU from filename\n",
    "            details_path = os.path.join(product_details_folder, filename)\n",
    "            with open(details_path, 'r') as jsonfile:\n",
    "                details = json.load(jsonfile)\n",
    "                product_details[sku] = details\n",
    "    return product_details\n",
    "\n",
    "def load_product_descriptions_from_folder(main_folder):\n",
    "    product_descriptions = {}\n",
    "    product_descriptions_folder = os.path.join(main_folder, 'product_description')  # Corrected folder name\n",
    "    for filename in os.listdir(product_descriptions_folder):\n",
    "        if filename.endswith('.txt'):\n",
    "            sku = filename.split('_')[1].split('.')[0]  # Extract SKU from filename\n",
    "            description_path = os.path.join(product_descriptions_folder, filename)\n",
    "            with open(description_path, 'r') as txtfile:\n",
    "                description = txtfile.read()\n",
    "                product_descriptions[sku] = description\n",
    "    return product_descriptions    \n",
    "\n",
    "def dump_data(sales_data, product_details, product_descriptions, main_folder):\n",
    "    \"\"\"\n",
    "    Dumps product details, sales data, and product descriptions into files.\n",
    "    \n",
    "    Parameters:\n",
    "        sales_data (dict): A dictionary containing sales data, with SKU as keys and a list of sales quantities for the last 14 days as values.\n",
    "        product_details (dict): A dictionary containing product details, with SKU as keys and details as values.\n",
    "        product_descriptions (dict): A dictionary containing product descriptions, with SKU as keys and the textual description of the product as values.\n",
    "        main_folder (str): The location of the main folder, which should contain product_details and product_descriptions subfolders.\n",
    "\n",
    "    Usage:\n",
    "        This function is designed to persist the current state of sales data, product details, and product descriptions to the filesystem,\n",
    "        allowing for data backup and recovery. It organizes the persisted data into a structured directory and file system based on the\n",
    "        specified main_folder path.\n",
    "    \"\"\"\n",
    "\n",
    "    # Ensure directories exist\n",
    "    product_details_folder = os.path.join(main_folder, 'product_details')\n",
    "    if not os.path.exists(product_details_folder):\n",
    "        os.makedirs(product_details_folder)\n",
    "        \n",
    "    product_descriptions_folder = os.path.join(main_folder, 'product_description')\n",
    "    if not os.path.exists(product_descriptions_folder):\n",
    "        os.makedirs(product_descriptions_folder)\n",
    "\n",
    "    # Dump sales data to CSV\n",
    "    sales_data_path = os.path.join(main_folder, 'sales_data.csv')\n",
    "    with open(sales_data_path, 'w', newline='') as csvfile:\n",
    "        fieldnames = ['SKU'] + [f'Day {i+1}' for i in range(14)]\n",
    "        writer = csv.DictWriter(csvfile, fieldnames=fieldnames)\n",
    "        writer.writeheader()\n",
    "        for sku, days in sales_data.items():\n",
    "            row = {'SKU': sku}\n",
    "            row.update({f'Day {i+1}': days[i] for i in range(14)})\n",
    "            writer.writerow(row)\n",
    "\n",
    "    # Dump product details to JSON files\n",
    "    for sku, details in product_details.items():\n",
    "        details_path = os.path.join(product_details_folder, f'details_{sku}.json')\n",
    "        with open(details_path, 'w') as jsonfile:\n",
    "            json.dump(details, jsonfile, indent=4)\n",
    "\n",
    "    # Dump product descriptions to TXT files\n",
    "    for sku, description in product_descriptions.items():\n",
    "        description_path = os.path.join(product_descriptions_folder, f'description_{sku}.txt')\n",
    "        with open(description_path, 'w') as txtfile:\n",
    "            txtfile.write(description)\n",
    "\n",
    "# Example main folder path\n",
    "main_folder = r'C:\\Users\\soura\\OneDrive\\Documents\\NEHA UPGRAD\\mainfolder'\n",
    "\n",
    "# Load data from files\n",
    "sales_data = load_sales_data_from_file(main_folder)\n",
    "product_details = load_product_details_from_folder(main_folder)\n",
    "product_descriptions = load_product_descriptions_from_folder(main_folder)\n",
    "\n",
    "# Print loaded data (for verification)\n",
    "print(\"Loaded Sales Data:\")\n",
    "print(sales_data)\n",
    "\n",
    "print(\"\\nLoaded Product Details:\")\n",
    "print(product_details)\n",
    "\n",
    "print(\"\\nLoaded Product Descriptions:\")\n",
    "print(product_descriptions)\n",
    "\n",
    "# Save updated data using dump_data function\n",
    "dump_data(sales_data, product_details, product_descriptions, main_folder)\n"
   ]
  },
  {
   "cell_type": "markdown",
   "metadata": {
    "id": "Q0IRwQvIDAaB"
   },
   "source": [
    "Check your code here."
   ]
  },
  {
   "cell_type": "code",
   "execution_count": null,
   "metadata": {
    "id": "JvvgYdPUDBf6"
   },
   "outputs": [],
   "source": []
  },
  {
   "cell_type": "markdown",
   "metadata": {
    "id": "N5PVdR8mATvh"
   },
   "source": [
    "### Checklist\n",
    "- Define the `dump_data()` function with the specified parameters.\n",
    "- Saved the sales data, product details and the product description into the respective files.\n",
    "- Ensured that the folder structure remains the same for future use."
   ]
  },
  {
   "cell_type": "markdown",
   "metadata": {
    "id": "M157y1lXAloF"
   },
   "source": [
    "## Task 18 - Create a user menu"
   ]
  },
  {
   "cell_type": "markdown",
   "metadata": {
    "id": "-hqjWCtJAu4P"
   },
   "source": [
    "### Description\n",
    "In this task, you will implement a Python function named `user_menu()` to act as the central interface for a product data management system. This function will integrate create, read, update, and delete (CRUD) operations, allowing users to manage product information interactively from the command line. Your implementation should handle data loading from a specified directory, user input processing to select the desired operation, and data persistence upon exit. This exercise aims to reinforce skills in Python related to function definition, user input handling, conditional logic, and file I/O operations, encapsulating them within a practical application for data management.\n"
   ]
  },
  {
   "cell_type": "markdown",
   "metadata": {
    "id": "b3Vm7wGJAtuo"
   },
   "source": [
    "### Requirements\n",
    "\n",
    "- Define a function named `user_menu()` that serves as the primary interface for managing product data, encompassing create, read, update, and delete (CRUD) operations.\n",
    "- The function should accept one parameter:\n",
    "  - `main_folder`: A string that denotes the path to the main folder where the product data files are stored or will be stored.\n",
    "- Tasks performed by the function include:\n",
    "  - Initially loading existing product data from the files located within `main_folder` by invoking a `load_data()` function. It is presumed that `load_data()` returns three dictionaries: `product_details`, `sales_data`, and `product_descriptions`, each representing different facets of the product data.\n",
    "  - Presenting a menu with options for the user to create new product data, read existing data, update current data, delete data, or exit the application.\n",
    "  - Depending on the user's choice, the function calls other specialized functions (`create()`, `read()`, `update()`, `delete()`) and passes the relevant parameters to these functions for the execution of the selected operation.\n",
    "    - For operations involving the creation, reading, and updating of data, it uses the current states of `product_details`, `sales_data`, and `product_descriptions`.\n",
    "    - For the delete operation, it additionally passes the `main_folder` path to specify the location from which the files associated with the deleted product should be removed.\n",
    "  - After the completion of create, update, or delete operations, the function now calls a `dump_data()` function to persist the most recent state of the product data into files within the `main_folder`. This ensures that changes are saved immediately after these operations.\n",
    "  - When the exit option (option 5) is chosen, it makes a final call to `dump_data()` to save the latest product data before printing an exit message and terminating the program loop.\n",
    "- The function is designed to loop continuously, allowing the user to execute multiple operations until the exit option is selected.\n",
    "- It ensures a robust user interaction experience by handling invalid inputs effectively and guiding the user back to the menu options.\n",
    "- Usage scenario:\n",
    "  - The `user_menu()` function acts as the central component of a product data management system. It offers a user-friendly command-line interface for performing CRUD operations on product data and integrates file handling for data persistence. This approach guarantees that all changes to the data are immediately saved and can be accessed in subsequent sessions.\n"
   ]
  },
  {
   "cell_type": "markdown",
   "metadata": {
    "id": "dvuc2ZfHA2r6"
   },
   "source": [
    "### Recommendations\n",
    "- Provide the data description and requirements to ChatGPT along with the libraries that you are using and ask it to generate code for the function.\n",
    "- If you get stuck somewhere, you can ask ChatGPT to explain the code to you and you can make edits as required."
   ]
  },
  {
   "cell_type": "code",
   "execution_count": 16,
   "metadata": {
    "id": "3KWsmOSwfG6Y",
    "scrolled": true
   },
   "outputs": [
    {
     "name": "stdout",
     "output_type": "stream",
     "text": [
      "\n",
      " User_Menu:\n",
      "1. Create \n",
      "2. Read \n",
      "3. Update\n",
      "4. Delete\n",
      "5. Exit\n"
     ]
    },
    {
     "name": "stdin",
     "output_type": "stream",
     "text": [
      "Enter your choice (1/2/3/4/5):  1\n",
      "Enter the SKU for the new product (must be 13 characters long):  CMWKCILOP27KO\n",
      "Enter sales data for the last 14 days, separated by space:  1 1 1 1 1 1 1 2 2 2 2 2 2 2\n",
      "Enter the product name:  Magikarp Card\n",
      "Enter the brand:  Pokemon\n",
      "Enter the model:  GameFreak Holo\n",
      "Enter the specifications:  Holographic Rare Card\n",
      "Enter the price:  $4\n",
      "Is the product in stock? (Yes/No):  yes\n",
      "Enter the product description:  Nice carp, I mean, card\n"
     ]
    },
    {
     "name": "stdout",
     "output_type": "stream",
     "text": [
      "New product was added successfully!\n",
      "\n",
      " User_Menu:\n",
      "1. Create \n",
      "2. Read \n",
      "3. Update\n",
      "4. Delete\n",
      "5. Exit\n"
     ]
    },
    {
     "name": "stdin",
     "output_type": "stream",
     "text": [
      "Enter your choice (1/2/3/4/5):  2\n",
      "Enter the product SKU to read:  CMWKCILOP27KO\n"
     ]
    },
    {
     "name": "stdout",
     "output_type": "stream",
     "text": [
      "Sales data for SKU\n",
      "[1, 1, 1, 1, 1, 1, 1, 2, 2, 2, 2, 2, 2, 2]\n",
      "Product details for SKU\n",
      "{'Availability': 'In stock',\n",
      " 'Brand': 'Pokemon',\n",
      " 'Model': 'GameFreak Holo',\n",
      " 'Price': 4.0,\n",
      " 'Product_Name': 'Magikarp Card',\n",
      " 'Specifications': 'Holographic Rare Card'}\n",
      "product_descriptions for SKU\n",
      "'Nice carp, I mean, card'\n",
      "\n",
      " User_Menu:\n",
      "1. Create \n",
      "2. Read \n",
      "3. Update\n",
      "4. Delete\n",
      "5. Exit\n"
     ]
    },
    {
     "name": "stdin",
     "output_type": "stream",
     "text": [
      "Enter your choice (1/2/3/4/5):  3\n",
      "Enter the product SKU to update:  CMWKCILOP27KO\n"
     ]
    },
    {
     "name": "stdout",
     "output_type": "stream",
     "text": [
      "\n",
      "Update Menu:\n",
      "1. Update sales data\n",
      "2. Update product details\n",
      "3. Update product description\n",
      "4. Exit update process\n"
     ]
    },
    {
     "name": "stdin",
     "output_type": "stream",
     "text": [
      "Enter your choice (1/2/3/4):  1\n",
      "Enter updated quantities for all days (space-separated):  1 1 1 1 1 1 1 0 0 0 0 0 0 0\n"
     ]
    },
    {
     "name": "stdout",
     "output_type": "stream",
     "text": [
      "The sales data is updated successfully!\n",
      "\n",
      "Update Menu:\n",
      "1. Update sales data\n",
      "2. Update product details\n",
      "3. Update product description\n",
      "4. Exit update process\n"
     ]
    },
    {
     "name": "stdin",
     "output_type": "stream",
     "text": [
      "Enter your choice (1/2/3/4):  4\n"
     ]
    },
    {
     "name": "stdout",
     "output_type": "stream",
     "text": [
      "Exiting update process.\n",
      "\n",
      " User_Menu:\n",
      "1. Create \n",
      "2. Read \n",
      "3. Update\n",
      "4. Delete\n",
      "5. Exit\n"
     ]
    },
    {
     "name": "stdin",
     "output_type": "stream",
     "text": [
      "Enter your choice (1/2/3/4/5):  4\n",
      "Enter the product SKU to delete:  CMWKCILOP27KO\n"
     ]
    },
    {
     "name": "stdout",
     "output_type": "stream",
     "text": [
      "JSON file for SKU 'CMWKCILOP27KO' has been deleted successfully.\n",
      "Text file for SKU 'CMWKCILOP27KO' has been deleted successfully.\n",
      "Entries for SKU 'CMWKCILOP27KO' have been deleted successfully.\n",
      "\n",
      " User_Menu:\n",
      "1. Create \n",
      "2. Read \n",
      "3. Update\n",
      "4. Delete\n",
      "5. Exit\n"
     ]
    },
    {
     "name": "stdin",
     "output_type": "stream",
     "text": [
      "Enter your choice (1/2/3/4/5):  5\n"
     ]
    },
    {
     "name": "stdout",
     "output_type": "stream",
     "text": [
      "Exiting program.\n"
     ]
    }
   ],
   "source": [
    "import os\n",
    "import json\n",
    "import csv\n",
    "from pprint import pprint\n",
    "\n",
    "def load_data(main_folder):\n",
    "    sales_data = {}\n",
    "    product_details = {}\n",
    "    product_descriptions = {}\n",
    "    \n",
    "    # Read sales data from CSV\n",
    "    sales_data_file = os.path.join(main_folder, 'sales_data.csv')\n",
    "    if os.path.exists(sales_data_file):\n",
    "        with open(sales_data_file, mode='r') as csvfile:\n",
    "            csvreader = csv.DictReader(csvfile)\n",
    "            for row in csvreader:\n",
    "                sku = row['SKU']\n",
    "                sales_data[sku] = [int(row[f'Day {i+1}']) for i in range(14)]\n",
    "\n",
    "    # Read product details from JSON files\n",
    "    product_details_file = os.path.join(main_folder, 'product_details')\n",
    "    if os.path.exists(product_details_file):\n",
    "        for filename in os.listdir(product_details_file):\n",
    "            if filename.endswith('.json'):\n",
    "                sku = os.path.splitext(filename)[0].split('_')[1]  # Extract SKU without extension and \"details_\"\n",
    "                with open(os.path.join(product_details_file, filename), 'r') as jsonfile:\n",
    "                    product_details[sku] = json.load(jsonfile)\n",
    "\n",
    "    # Read product descriptions from TXT files\n",
    "    product_descriptions_file = os.path.join(main_folder, 'product_description')\n",
    "    if os.path.exists(product_descriptions_file):\n",
    "        for filename in os.listdir(product_descriptions_file):\n",
    "            if filename.endswith('.txt'):\n",
    "                sku = os.path.splitext(filename)[0].split('_')[1]  # Extract SKU without extension and \"description_\"\n",
    "                with open(os.path.join(product_descriptions_file, filename), 'r') as txtfile:\n",
    "                    product_descriptions[sku] = txtfile.read()\n",
    "\n",
    "    return product_details, sales_data, product_descriptions\n",
    "\n",
    "def create(product_details, sales_data, product_descriptions, main_folder):\n",
    "    def clean_price_input(price_str):\n",
    "        cleaned_price_str = price_str.replace('$', '').strip()\n",
    "        try:\n",
    "            return float(cleaned_price_str)\n",
    "        except ValueError:\n",
    "            raise ValueError(\"Invalid price format. Please enter a valid numeric price.\")\n",
    "\n",
    "    sku = input(\"Enter the SKU for the new product (must be 13 characters long): \")\n",
    "    if len(sku) != 13:\n",
    "        print(\"Error: SKU must be exactly 13 characters long.\")\n",
    "        return product_details, sales_data, product_descriptions\n",
    "\n",
    "    try:\n",
    "        quantities_input = input(\"Enter sales data for the last 14 days, separated by space: \")\n",
    "        quantities = list(map(int, quantities_input.split()))\n",
    "        if len(quantities) != 14:\n",
    "            raise ValueError(\"Sales data must consist of exactly 14 integers.\")\n",
    "    except ValueError as e:\n",
    "        print(f\"Error: {e}\")\n",
    "        return product_details, sales_data, product_descriptions\n",
    "\n",
    "    product_info = {\n",
    "        'Product_Name': input(\"Enter the product name: \"),\n",
    "        'Brand': input(\"Enter the brand: \"),\n",
    "        'Model': input(\"Enter the model: \"),\n",
    "        'Specifications': input(\"Enter the specifications: \"),\n",
    "        'Price': clean_price_input(input(\"Enter the price: \")),\n",
    "        'Availability': 'In stock' if input(\"Is the product in stock? (Yes/No): \").lower() == 'yes' else 'Out of stock'\n",
    "    }\n",
    "\n",
    "    description = input(\"Enter the product description: \")\n",
    "\n",
    "    product_details[sku] = product_info\n",
    "    sales_data[sku] = quantities\n",
    "    product_descriptions[sku] = description\n",
    "\n",
    "    update_product_details_file(product_details, main_folder)\n",
    "    update_sales_data_file(sales_data, main_folder)\n",
    "    update_product_descriptions_file(product_descriptions, main_folder)\n",
    "    \n",
    "    print(\"New product was added successfully!\")\n",
    "    return product_details, sales_data, product_descriptions\n",
    "\n",
    "def read(product_details, sales_data, product_descriptions, sku):\n",
    "    if sku not in sales_data and sku not in product_details and sku not in product_descriptions:\n",
    "        print(f\"No information found for SKU '{sku}'. Exiting.\")\n",
    "        return\n",
    "\n",
    "    if sku in sales_data:\n",
    "        print('Sales data for SKU')\n",
    "        pprint(sales_data[sku])\n",
    "\n",
    "    if sku in product_details:\n",
    "        print('Product details for SKU')\n",
    "        pprint(product_details[sku])\n",
    "\n",
    "    if sku in product_descriptions:\n",
    "        print('product_descriptions for SKU')\n",
    "        pprint(product_descriptions[sku])\n",
    "\n",
    "def update(product_details, sales_data, product_descriptions, main_folder, sku):\n",
    "    if sku not in product_details:\n",
    "        print(f\"SKU '{sku}' not found in product details.\")\n",
    "        return product_details, sales_data, product_descriptions\n",
    "\n",
    "    while True:\n",
    "        print(\"\\nUpdate Menu:\")\n",
    "        print(\"1. Update sales data\")\n",
    "        print(\"2. Update product details\")\n",
    "        print(\"3. Update product description\")\n",
    "        print(\"4. Exit update process\")\n",
    "        \n",
    "        choice = input(\"Enter your choice (1/2/3/4): \").strip()\n",
    "        \n",
    "        if choice == '1':\n",
    "            updated_quantities = input(\"Enter updated quantities for all days (space-separated): \").split()\n",
    "            if len(updated_quantities) != 14 or not all(q.isdigit() for q in updated_quantities):\n",
    "                print(\"Error: Please enter exactly 14 integers.\")\n",
    "            else:\n",
    "                updated_quantities = list(map(int, updated_quantities))\n",
    "                sales_data[sku] = updated_quantities\n",
    "                print(\"The sales data is updated successfully!\")\n",
    "        \n",
    "        elif choice == '2':\n",
    "            try:\n",
    "                print(f\"Updating product details for SKU '{sku}'...\")\n",
    "                updated_details = {\n",
    "                    'Product_Name': input(\"Enter the updated product name: \"),\n",
    "                    'Brand': input(\"Enter the updated brand: \"),\n",
    "                    'Model': input(\"Enter the updated model: \"),\n",
    "                    'Specifications': input(\"Enter the updated specifications: \"),\n",
    "                    'Price': clean_price_input(input(\"Enter the updated price (omit '$'): \")),  \n",
    "                    'Availability': 'In stock' if input(\"Is the product in stock? (Yes/No): \").lower() == 'yes' else 'Out of stock'\n",
    "                }\n",
    "                product_details[sku].update(updated_details)\n",
    "                print(f\"Product details for SKU '{sku}' updated successfully.\")\n",
    "            except ValueError as e:\n",
    "                print(str(e))\n",
    "        \n",
    "        elif choice == '3':\n",
    "            print(f\"Updating product description for SKU '{sku}'...\")\n",
    "            new_description = input(\"Enter the new product description: \")\n",
    "            product_descriptions[sku] = new_description\n",
    "            print(f\"Product description for SKU '{sku}' updated successfully.\")\n",
    "        \n",
    "        elif choice == '4':\n",
    "            print(\"Exiting update process.\")\n",
    "            break\n",
    "        \n",
    "        else:\n",
    "            print(\"Invalid choice. Please enter a valid option (1/2/3/4).\")\n",
    "\n",
    "    update_product_details_file(product_details, main_folder)\n",
    "    update_sales_data_file(sales_data, main_folder)\n",
    "    update_product_descriptions_file(product_descriptions, main_folder)\n",
    "    \n",
    "    return product_details, sales_data, product_descriptions\n",
    "\n",
    "def delete(product_details, sales_data, product_descriptions, main_folder, sku):\n",
    "    if sku not in sales_data:\n",
    "        print(f\"Error: SKU '{sku}' not found in sales data.\")\n",
    "        return sales_data, product_details, product_descriptions\n",
    "\n",
    "    if sku in sales_data:\n",
    "        del sales_data[sku]\n",
    "\n",
    "    if sku in product_details:\n",
    "        del product_details[sku]\n",
    "\n",
    "    if sku in product_descriptions:\n",
    "        del product_descriptions[sku]\n",
    "\n",
    "    product_details_path = os.path.join(main_folder, 'product_details', f'details_{sku}.json')\n",
    "    if os.path.exists(product_details_path):\n",
    "        os.remove(product_details_path)\n",
    "        print(f\"JSON file for SKU '{sku}' has been deleted successfully.\")\n",
    "    else:\n",
    "        print(f\"JSON file for SKU '{sku}' not found.\")\n",
    "\n",
    "    product_descriptions_path = os.path.join(main_folder, 'product_description', f'description_{sku}.txt')\n",
    "    if os.path.exists(product_descriptions_path):\n",
    "        os.remove(product_descriptions_path)\n",
    "        print(f\"Text file for SKU '{sku}' has been deleted successfully.\")\n",
    "    else:\n",
    "        print(f\"Text file for SKU '{sku}' not found.\")\n",
    "\n",
    "    print(f\"Entries for SKU '{sku}' have been deleted successfully.\")\n",
    "    return sales_data, product_details, product_descriptions\n",
    "\n",
    "def dump_data(sales_data, product_details, product_descriptions, main_folder):\n",
    "    product_details_folder = os.path.join(main_folder, 'product_details')\n",
    "    if not os.path.exists(product_details_folder):\n",
    "        os.makedirs(product_details_folder)\n",
    "        \n",
    "    product_descriptions_folder = os.path.join(main_folder, 'product_description')\n",
    "    if not os.path.exists(product_descriptions_folder):\n",
    "        os.makedirs(product_descriptions_folder)\n",
    "\n",
    "    sales_data_path = os.path.join(main_folder, 'sales_data.csv')\n",
    "    with open(sales_data_path, 'w', newline='') as csvfile:\n",
    "        fieldnames = ['SKU'] + [f'Day {i+1}' for i in range(14)]\n",
    "        writer = csv.DictWriter(csvfile, fieldnames=fieldnames)\n",
    "        writer.writeheader()\n",
    "        for sku, days in sales_data.items():\n",
    "            row = {'SKU': sku}\n",
    "            row.update({f'Day {i+1}': days[i] for i in range(14)})\n",
    "            writer.writerow(row)\n",
    "\n",
    "    for sku, details in product_details.items():\n",
    "        product_details_path = os.path.join(main_folder, 'product_details', f'details_{sku}.json')\n",
    "        with open(product_details_path, 'w') as jsonfile:\n",
    "            json.dump(details, jsonfile)\n",
    "\n",
    "    for sku, description in product_descriptions.items():\n",
    "        product_description_path = os.path.join(main_folder, 'product_description', f'description_{sku}.txt')\n",
    "        with open(product_description_path, 'w') as txtfile:\n",
    "            txtfile.write(description)\n",
    "\n",
    "def user_menu(main_folder):\n",
    "    product_details, sales_data, product_descriptions = load_data(main_folder)\n",
    "    while True:\n",
    "        print(\"\\n User_Menu:\")\n",
    "        print(\"1. Create \")\n",
    "        print(\"2. Read \")\n",
    "        print(\"3. Update\")\n",
    "        print(\"4. Delete\")\n",
    "        print(\"5. Exit\")\n",
    "\n",
    "        choice = input(\"Enter your choice (1/2/3/4/5): \").strip()\n",
    "        \n",
    "        if choice == '1':\n",
    "            product_details, sales_data, product_descriptions = create(product_details, sales_data, product_descriptions, main_folder)\n",
    "        \n",
    "        elif choice == '2':\n",
    "            sku = input(\"Enter the product SKU to read: \").strip()\n",
    "            read(product_details, sales_data, product_descriptions, sku)\n",
    "        \n",
    "        elif choice == '3':\n",
    "            sku = input(\"Enter the product SKU to update: \").strip()\n",
    "            product_details, sales_data, product_descriptions = update(product_details, sales_data, product_descriptions, main_folder, sku)\n",
    "        \n",
    "        elif choice == '4':\n",
    "            sku = input(\"Enter the product SKU to delete: \").strip()\n",
    "            sales_data, product_details, product_descriptions = delete(product_details, sales_data, product_descriptions, main_folder, sku)\n",
    "        \n",
    "        elif choice == '5':\n",
    "            print(\"Exiting program.\")\n",
    "            break\n",
    "\n",
    "def update_product_details_file(product_details, main_folder):\n",
    "    product_details_folder = os.path.join(main_folder, 'product_details')\n",
    "    if not os.path.exists(product_details_folder):\n",
    "        os.makedirs(product_details_folder)\n",
    "    for sku, details in product_details.items():\n",
    "        product_details_path = os.path.join(product_details_folder, f'details_{sku}.json')\n",
    "        with open(product_details_path, 'w') as jsonfile:\n",
    "            json.dump(details, jsonfile)\n",
    "\n",
    "def update_sales_data_file(sales_data, main_folder):\n",
    "    sales_data_path = os.path.join(main_folder, 'sales_data.csv')\n",
    "    with open(sales_data_path, 'w', newline='') as csvfile:\n",
    "        fieldnames = ['SKU'] + [f'Day {i+1}' for i in range(14)]\n",
    "        writer = csv.DictWriter(csvfile, fieldnames=fieldnames)\n",
    "        writer.writeheader()\n",
    "        for sku, days in sales_data.items():\n",
    "            row = {'SKU': sku}\n",
    "            row.update({f'Day {i+1}': days[i] for i in range(14)})\n",
    "            writer.writerow(row)\n",
    "\n",
    "def update_product_descriptions_file(product_descriptions, main_folder):\n",
    "    product_descriptions_folder = os.path.join(main_folder, 'product_description')\n",
    "    if not os.path.exists(product_descriptions_folder):\n",
    "        os.makedirs(product_descriptions_folder)\n",
    "    for sku, description in product_descriptions.items():\n",
    "        product_description_path = os.path.join(product_descriptions_folder, f'description_{sku}.txt')\n",
    "        with open(product_description_path, 'w') as txtfile:\n",
    "            txtfile.write(description)\n",
    "\n",
    "if __name__ == \"__main__\":\n",
    "    main_folder = r'C:\\Users\\soura\\OneDrive\\Documents\\NEHA UPGRAD\\mainfolder'\n",
    "    user_menu(main_folder)"
   ]
  },
  {
   "cell_type": "code",
   "execution_count": null,
   "metadata": {},
   "outputs": [],
   "source": []
  },
  {
   "cell_type": "code",
   "execution_count": null,
   "metadata": {},
   "outputs": [],
   "source": []
  },
  {
   "cell_type": "code",
   "execution_count": null,
   "metadata": {},
   "outputs": [],
   "source": []
  },
  {
   "cell_type": "code",
   "execution_count": null,
   "metadata": {},
   "outputs": [],
   "source": []
  },
  {
   "cell_type": "markdown",
   "metadata": {
    "id": "FECddsr3DDe3"
   },
   "source": [
    "Check your code here."
   ]
  },
  {
   "cell_type": "code",
   "execution_count": null,
   "metadata": {
    "colab": {
     "base_uri": "https://localhost:8080/"
    },
    "executionInfo": {
     "elapsed": 119655,
     "status": "ok",
     "timestamp": 1711709928357,
     "user": {
      "displayName": "Sudarshanan Raghavan",
      "userId": "18093698647292025641"
     },
     "user_tz": -330
    },
    "id": "1geiXwdRDD2l",
    "outputId": "847fa6ea-a674-4a24-85ba-465c8924f7ea"
   },
   "outputs": [
    {
     "name": "stdout",
     "output_type": "stream",
     "text": [
      "\n",
      "Main Menu:\n",
      "1. Create\n",
      "2. Read\n",
      "3. Update\n",
      "4. Delete\n",
      "5. Exit\n",
      "Enter your choice (1-5): 1\n",
      "Enter the product SKU: CMWKCILOP27KO\n",
      "Enter sales data for the last 14 days, separated by space: 1 1 1 1 1 1 1 2 2 2 2 2 2 2\n",
      "Enter the product name: Magikarp Card\n",
      "Enter the brand: Pokemon\n",
      "Enter the model: GameFreak Holo\n",
      "Enter the specifications: Holographic Rare Card\n",
      "Enter the price: $4\n",
      "Enter the availability: Yes\n",
      "Enter the product description: Nice carp, I mean, card\n",
      "All product information for the new product was added successfully!\n",
      "\n",
      "Main Menu:\n",
      "1. Create\n",
      "2. Read\n",
      "3. Update\n",
      "4. Delete\n",
      "5. Exit\n",
      "Enter your choice (1-5): 2\n",
      "Enter the product SKU: CMWKCILOP27KO\n",
      "Sales data for SKU CMWKCILOP27KO\n",
      "[1, 1, 1, 1, 1, 1, 1, 2, 2, 2, 2, 2, 2, 2]\n",
      "Product details for SKU CMWKCILOP27KO\n",
      "{'availability': 'Yes',\n",
      " 'brand': 'Pokemon',\n",
      " 'model': 'GameFreak Holo',\n",
      " 'price': '$4',\n",
      " 'product_name': 'Magikarp Card',\n",
      " 'specifications': 'Holographic Rare Card'}\n",
      "Product description for SKU CMWKCILOP27KO\n",
      "'Nice carp, I mean, card'\n",
      "\n",
      "Main Menu:\n",
      "1. Create\n",
      "2. Read\n",
      "3. Update\n",
      "4. Delete\n",
      "5. Exit\n",
      "Enter your choice (1-5): 3\n",
      "Enter the product SKU to update: CMWKCILOP27KO\n",
      "Select the data you want to update:\n",
      "1. Sales data\n",
      "2. Product details\n",
      "3. Product description\n",
      "4. Exit\n",
      "Enter your choice (1-4): 1\n",
      "Enter updated quantities for all days (space-separated): 1 1 1 1 1 1 1 0 0 0 0 0 0 0\n",
      "The sales data is updated successfully!\n",
      "Select the data you want to update:\n",
      "1. Sales data\n",
      "2. Product details\n",
      "3. Product description\n",
      "4. Exit\n",
      "Enter your choice (1-4): 4\n",
      "Exiting...\n",
      "\n",
      "Main Menu:\n",
      "1. Create\n",
      "2. Read\n",
      "3. Update\n",
      "4. Delete\n",
      "5. Exit\n",
      "Enter your choice (1-5): 4\n",
      "Enter the SKU of the product to be deleted: CMWKCILOP27KO\n",
      "Entries for SKU 'CMWKCILOP27KO' have been deleted successfully.\n",
      "JSON file for SKU 'CMWKCILOP27KO' has been deleted successfully.\n",
      "Text file for SKU 'CMWKCILOP27KO' has been deleted successfully.\n",
      "\n",
      "Main Menu:\n",
      "1. Create\n",
      "2. Read\n",
      "3. Update\n",
      "4. Delete\n",
      "5. Exit\n",
      "Enter your choice (1-5): 5\n",
      "Exiting...\n"
     ]
    }
   ],
   "source": [
    "user_menu(main_folder_address)"
   ]
  },
  {
   "cell_type": "markdown",
   "metadata": {
    "id": "0jORXEqHBNtz"
   },
   "source": [
    "### Checklist\n",
    "- Defined the `user_menu()` function with the specified parameter for the main folder location.\n",
    "- Loaded existing product data (`product_details`, `sales_data`, `product_descriptions`) from the specified main folder using a `load_data()` function at the start.\n",
    "- Displayed a user-friendly menu that listed all possible operations: Create, Read, Update, Delete, and Exit.\n",
    "- Processed user input to navigate through the menu options, calling the relevant function (`create()`, `read()`, `update()`, `delete()`) based on the selection and updated the product data accordingly. If \"Exit\" was selected, saved the current state of the product data into the main folder and exited the program.\n",
    "- Ensured robust input validation, handling invalid choices by displaying an error message and prompting the user again.\n",
    "- Before exiting the program, ensured data persistence by saving the updated product data to the specified main folder.\n",
    "- Maintained the integrity of the folder structure during the function's operation to ensure consistency for future use."
   ]
  },
  {
   "cell_type": "code",
   "execution_count": null,
   "metadata": {
    "id": "Dq7kPDNyCdIC"
   },
   "outputs": [],
   "source": []
  }
 ],
 "metadata": {
  "colab": {
   "provenance": [
    {
     "file_id": "1hh3m1P9nz6kCPZQMqPExqMZCJWZSG_lS",
     "timestamp": 1707569095386
    }
   ],
   "toc_visible": true
  },
  "kernelspec": {
   "display_name": "Python 3 (ipykernel)",
   "language": "python",
   "name": "python3"
  },
  "language_info": {
   "codemirror_mode": {
    "name": "ipython",
    "version": 3
   },
   "file_extension": ".py",
   "mimetype": "text/x-python",
   "name": "python",
   "nbconvert_exporter": "python",
   "pygments_lexer": "ipython3",
   "version": "3.11.7"
  },
  "widgets": {
   "application/vnd.jupyter.widget-state+json": {
    "state": {},
    "version_major": 2,
    "version_minor": 0
   }
  }
 },
 "nbformat": 4,
 "nbformat_minor": 4
}
